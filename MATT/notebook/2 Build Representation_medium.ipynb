{
 "cells": [
  {
   "cell_type": "markdown",
   "id": "ee52e5ce",
   "metadata": {},
   "source": [
    "# Build training, validation and testing datasets\n"
   ]
  },
  {
   "cell_type": "markdown",
   "id": "1c98e873",
   "metadata": {},
   "source": [
    "## 0. Preliminary"
   ]
  },
  {
   "cell_type": "code",
   "execution_count": 67,
   "id": "29b3df8a",
   "metadata": {
    "ExecuteTime": {
     "start_time": "2023-04-06T13:54:32.129620Z",
     "end_time": "2023-04-06T13:54:32.170308Z"
    }
   },
   "outputs": [],
   "source": [
    "%matplotlib inline\n",
    "\n",
    "import IPython.display as ipd\n",
    "import numpy as np\n",
    "import pandas as pd\n",
    "import matplotlib.pyplot as plt\n",
    "import seaborn as sns\n",
    "from sklearn.preprocessing import MultiLabelBinarizer\n",
    "import os\n",
    "import sys\n",
    "\n",
    "import librosa\n",
    "import librosa.display as display\n",
    "\n",
    "import h5py\n",
    "from tqdm.notebook import tqdm\n",
    "\n",
    "\n",
    "from ast import literal_eval\n",
    "\n",
    "\n",
    "import warnings\n",
    "warnings.filterwarnings(\"ignore\")\n",
    "\n",
    "sns.set_context(\"notebook\", font_scale=1.5)\n",
    "plt.rcParams['figure.figsize'] = (17, 5)\n",
    "\n",
    "import platform\n",
    "if 'Windows' in platform.platform():\n",
    "    ROOT_PATH = \"D:/PycharmProjects/HMAN\"\n",
    "else:\n",
    "    ROOT_PATH = \"/home/xkliu/PycharmProjects/HMAN\"\n",
    "RAW_DATA_PATH = ROOT_PATH  + \"/raw_data\"\n",
    "GENRE_FLAT_PATH = RAW_DATA_PATH + '/fma_medium_flat/' \n",
    "DATA_PATH = ROOT_PATH + \"/data\"\n",
    "os.chdir(ROOT_PATH)\n",
    "sys.path.append(\"./\")\n",
    "\n",
    "data_size = \"medium\"\n",
    "from kddirkit.utils import utils"
   ]
  },
  {
   "cell_type": "markdown",
   "id": "07e0c125",
   "metadata": {},
   "source": [
    "## 1. Load Data"
   ]
  },
  {
   "cell_type": "code",
   "execution_count": 68,
   "id": "e01b8825",
   "metadata": {
    "ExecuteTime": {
     "start_time": "2023-04-06T13:54:33.738544Z",
     "end_time": "2023-04-06T13:54:33.744978Z"
    }
   },
   "outputs": [],
   "source": [
    "track_dtype = {'track_id': int, 'album_id':int, 'album_type':str, 'artist_id':int, 'set_split':str, 'set_subset':str, 'track_genre_top':str, 'track_genres':str, 'track_genres_all':str,'track_title':str}\n",
    "genres_converters = {'track_genres': literal_eval, 'track_genres_all': literal_eval}"
   ]
  },
  {
   "cell_type": "code",
   "execution_count": 69,
   "id": "8fa8c55e",
   "metadata": {
    "ExecuteTime": {
     "start_time": "2023-04-06T13:54:34.259112Z",
     "end_time": "2023-04-06T13:54:36.857412Z"
    }
   },
   "outputs": [],
   "source": [
    "medium_data= pd.read_csv(RAW_DATA_PATH+'/medium_data.csv',  converters=genres_converters)\n",
    "medium_data_train= pd.read_csv(RAW_DATA_PATH+'/medium_data_train.csv',  converters=genres_converters)\n",
    "medium_data_test= pd.read_csv(RAW_DATA_PATH+'/medium_data_test.csv',  converters=genres_converters)\n",
    "medium_data_val= pd.read_csv(RAW_DATA_PATH+'/medium_data_val.csv',converters=genres_converters)"
   ]
  },
  {
   "cell_type": "code",
   "execution_count": 70,
   "id": "4912596e",
   "metadata": {
    "ExecuteTime": {
     "start_time": "2023-04-06T13:54:36.893204Z",
     "end_time": "2023-04-06T13:54:36.938171Z"
    }
   },
   "outputs": [],
   "source": [
    "medium_instance_triple = np.load(DATA_PATH+'/' + 'medium_instance_triple.npy')\n",
    "medium_instance_scope = np.load(DATA_PATH+'/' + 'medium_instance_scope.npy')\n",
    "medium_label = np.load(DATA_PATH+'/' + 'medium_label.npy')"
   ]
  },
  {
   "cell_type": "code",
   "execution_count": 71,
   "id": "7f42d895",
   "metadata": {
    "ExecuteTime": {
     "start_time": "2023-04-06T13:54:36.938113Z",
     "end_time": "2023-04-06T13:54:36.938326Z"
    }
   },
   "outputs": [],
   "source": [
    "medium_instance_triple_train = np.load(DATA_PATH+'/' + 'medium_instance_triple_train.npy')\n",
    "medium_instance_scope_train = np.load(DATA_PATH+'/' + 'medium_instance_scope_train.npy')\n",
    "medium_label_train = np.load(DATA_PATH+'/' + 'medium_label_train.npy')"
   ]
  },
  {
   "cell_type": "code",
   "execution_count": 72,
   "id": "6690e9d9",
   "metadata": {
    "ExecuteTime": {
     "start_time": "2023-04-06T13:54:36.938158Z",
     "end_time": "2023-04-06T13:54:36.938371Z"
    }
   },
   "outputs": [],
   "source": [
    "medium_instance_triple_val = np.load(DATA_PATH+'/' + 'medium_instance_triple_val.npy')\n",
    "medium_instance_scope_val = np.load(DATA_PATH+'/' + 'medium_instance_scope_val.npy')\n",
    "medium_label_val = np.load(DATA_PATH+'/' + 'medium_label_val.npy')"
   ]
  },
  {
   "cell_type": "code",
   "execution_count": 73,
   "id": "cfe3f2de",
   "metadata": {
    "ExecuteTime": {
     "start_time": "2023-04-06T13:54:36.938241Z",
     "end_time": "2023-04-06T13:54:36.938392Z"
    }
   },
   "outputs": [],
   "source": [
    "medium_entity_pair_test = np.load(DATA_PATH+'/' + 'medium_entity_pair_test.npy')\n",
    "medium_entity_scope_test = np.load(DATA_PATH+'/' + 'medium_entity_scope_test.npy')\n",
    "medium_label_test = np.load(DATA_PATH+'/' + 'medium_label_test.npy')"
   ]
  },
  {
   "cell_type": "code",
   "execution_count": 74,
   "id": "6efb0088",
   "metadata": {
    "ExecuteTime": {
     "start_time": "2023-04-06T13:54:36.938277Z",
     "end_time": "2023-04-06T13:54:36.938449Z"
    }
   },
   "outputs": [],
   "source": [
    "medium_label_transform = np.load(DATA_PATH+'/' + 'medium_label_transform.npy')\n",
    "medium_label_train_transform = np.load(DATA_PATH+'/' + 'medium_label_train_transform.npy')\n",
    "medium_label_val_transform = np.load(DATA_PATH+'/' + 'medium_label_val_transform.npy')\n",
    "medium_label_test_transform = np.load(DATA_PATH+'/' + 'medium_label_test_transform.npy')"
   ]
  },
  {
   "cell_type": "code",
   "execution_count": 75,
   "id": "c6d1bf10",
   "metadata": {
    "ExecuteTime": {
     "start_time": "2023-04-06T13:54:36.938309Z",
     "end_time": "2023-04-06T13:54:36.938468Z"
    }
   },
   "outputs": [],
   "source": [
    "medium_label_bottom_transform = np.load(DATA_PATH+'/' + 'medium_label_bottom_transform.npy')\n",
    "medium_label_bottom_train_transform = np.load(DATA_PATH+'/' + 'medium_label_bottom_train_transform.npy')\n",
    "medium_label_bottom_val_transform = np.load(DATA_PATH+'/' + 'medium_label_bottom_val_transform.npy')\n",
    "medium_label_test_bottom_transform = np.load(DATA_PATH+'/' + 'medium_label_bottom_test_transform.npy')"
   ]
  },
  {
   "cell_type": "code",
   "execution_count": 76,
   "id": "2b4546d9",
   "metadata": {
    "ExecuteTime": {
     "start_time": "2023-04-06T13:54:36.938354Z",
     "end_time": "2023-04-06T13:54:36.945916Z"
    }
   },
   "outputs": [
    {
     "data": {
      "text/plain": "76"
     },
     "execution_count": 76,
     "metadata": {},
     "output_type": "execute_result"
    }
   ],
   "source": [
    "np.max(medium_label_bottom_transform)"
   ]
  },
  {
   "cell_type": "code",
   "execution_count": 77,
   "id": "9644a986",
   "metadata": {
    "ExecuteTime": {
     "start_time": "2023-04-06T13:54:36.946981Z",
     "end_time": "2023-04-06T13:54:37.017587Z"
    }
   },
   "outputs": [
    {
     "name": "stdout",
     "output_type": "stream",
     "text": [
      "<class 'pandas.core.frame.DataFrame'>\n",
      "RangeIndex: 25000 entries, 0 to 24999\n",
      "Data columns (total 10 columns):\n",
      " #   Column            Non-Null Count  Dtype \n",
      "---  ------            --------------  ----- \n",
      " 0   track_id          25000 non-null  int64 \n",
      " 1   album_id          25000 non-null  int64 \n",
      " 2   album_type        24337 non-null  object\n",
      " 3   artist_id         25000 non-null  int64 \n",
      " 4   set_split         25000 non-null  object\n",
      " 5   set_subset        25000 non-null  object\n",
      " 6   track_genre_top   25000 non-null  object\n",
      " 7   track_genres      25000 non-null  object\n",
      " 8   track_genres_all  25000 non-null  object\n",
      " 9   track_title       25000 non-null  object\n",
      "dtypes: int64(3), object(7)\n",
      "memory usage: 1.9+ MB\n"
     ]
    }
   ],
   "source": [
    "medium_data.info()"
   ]
  },
  {
   "cell_type": "code",
   "execution_count": 78,
   "id": "a83f82f4",
   "metadata": {
    "ExecuteTime": {
     "start_time": "2023-04-06T13:54:36.990106Z",
     "end_time": "2023-04-06T13:54:37.017929Z"
    }
   },
   "outputs": [
    {
     "data": {
      "text/plain": "{'Rock': 0,\n 'International': 1,\n 'Folk': 2,\n 'Experimental': 3,\n 'Instrumental': 4,\n 'Pop': 5,\n 'Hip-Hop': 6,\n 'Electronic': 7,\n 'Soul-RnB': 8,\n 'Blues': 9,\n 'Old-Time / Historic': 10,\n 'Jazz': 11,\n 'Country': 12,\n 'Easy-Listening': 13,\n 'Spoken': 14,\n 'Easy Listening': 15}"
     },
     "execution_count": 78,
     "metadata": {},
     "output_type": "execute_result"
    }
   ],
   "source": [
    "label_dict = {'Rock': 0, 'International':1, 'Folk': 2, 'Experimental': 3,\n",
    "             'Instrumental': 4, 'Pop': 5, 'Hip-Hop':6, 'Electronic': 7,\n",
    "             'Soul-RnB':8, 'Blues': 9, 'Old-Time / Historic': 10, 'Jazz': 11,\n",
    "             'Country': 12, 'Easy-Listening': 13, 'Spoken' : 14, 'Easy Listening': 15}\n",
    "label_dict"
   ]
  },
  {
   "cell_type": "code",
   "execution_count": 79,
   "id": "5e0a98db",
   "metadata": {
    "ExecuteTime": {
     "start_time": "2023-04-06T13:54:36.990151Z",
     "end_time": "2023-04-06T13:54:37.018367Z"
    }
   },
   "outputs": [
    {
     "data": {
      "text/plain": "'/home/xkliu/PycharmProjects/HMAN/raw_data/fma_medium'"
     },
     "execution_count": 79,
     "metadata": {},
     "output_type": "execute_result"
    }
   ],
   "source": [
    "FMA_DATA_PATH = RAW_DATA_PATH + \"/fma_medium\"\n",
    "FMA_DATA_PATH"
   ]
  },
  {
   "cell_type": "code",
   "execution_count": 80,
   "id": "bacd1679",
   "metadata": {
    "ExecuteTime": {
     "start_time": "2023-04-06T13:54:37.225967Z",
     "end_time": "2023-04-06T13:54:37.226127Z"
    }
   },
   "outputs": [],
   "source": [
    "# genre_path_dict = dict()\n",
    "# label_dict = dict()\n",
    "\n",
    "\n",
    "def get_au_path_list(au_path):\n",
    "    genre_path_list = list()\n",
    "    for (dirpath, dirnames, filenames) in os.walk(au_path):\n",
    "        if dirnames:\n",
    "            continue\n",
    "        else:\n",
    "            for au_file in filenames:\n",
    "                if 'mp3' in au_file:\n",
    "                    current_path = dirpath + '/' + au_file\n",
    "                    genre_path_list.append(current_path.replace('\\\\', '/'))\n",
    "    return genre_path_list\n",
    "\n",
    "# genre_path_list = get_au_path_list(FMA_DATA_PATH)\n",
    "genre_path_list_flat = get_au_path_list(RAW_DATA_PATH + '/fma_medium_flat')\n"
   ]
  },
  {
   "cell_type": "code",
   "execution_count": 81,
   "id": "a148755e",
   "metadata": {
    "ExecuteTime": {
     "start_time": "2023-04-06T13:54:37.574118Z",
     "end_time": "2023-04-06T13:54:37.574531Z"
    }
   },
   "outputs": [
    {
     "data": {
      "text/plain": "                 name  orig_id  transform_id\n0                Rock       12             0\n1       International        2             1\n2                Folk       17             2\n3        Experimental       38             3\n4        Instrumental     1235             4\n..                ...      ...           ...\n72   Abstract Hip-Hop      580            72\n73  Country & Western      651            73\n74             Jungle      695            74\n75            Holiday      763            75\n76        Modern Jazz      906            76\n\n[77 rows x 3 columns]",
      "text/html": "<div>\n<style scoped>\n    .dataframe tbody tr th:only-of-type {\n        vertical-align: middle;\n    }\n\n    .dataframe tbody tr th {\n        vertical-align: top;\n    }\n\n    .dataframe thead th {\n        text-align: right;\n    }\n</style>\n<table border=\"1\" class=\"dataframe\">\n  <thead>\n    <tr style=\"text-align: right;\">\n      <th></th>\n      <th>name</th>\n      <th>orig_id</th>\n      <th>transform_id</th>\n    </tr>\n  </thead>\n  <tbody>\n    <tr>\n      <th>0</th>\n      <td>Rock</td>\n      <td>12</td>\n      <td>0</td>\n    </tr>\n    <tr>\n      <th>1</th>\n      <td>International</td>\n      <td>2</td>\n      <td>1</td>\n    </tr>\n    <tr>\n      <th>2</th>\n      <td>Folk</td>\n      <td>17</td>\n      <td>2</td>\n    </tr>\n    <tr>\n      <th>3</th>\n      <td>Experimental</td>\n      <td>38</td>\n      <td>3</td>\n    </tr>\n    <tr>\n      <th>4</th>\n      <td>Instrumental</td>\n      <td>1235</td>\n      <td>4</td>\n    </tr>\n    <tr>\n      <th>...</th>\n      <td>...</td>\n      <td>...</td>\n      <td>...</td>\n    </tr>\n    <tr>\n      <th>72</th>\n      <td>Abstract Hip-Hop</td>\n      <td>580</td>\n      <td>72</td>\n    </tr>\n    <tr>\n      <th>73</th>\n      <td>Country &amp; Western</td>\n      <td>651</td>\n      <td>73</td>\n    </tr>\n    <tr>\n      <th>74</th>\n      <td>Jungle</td>\n      <td>695</td>\n      <td>74</td>\n    </tr>\n    <tr>\n      <th>75</th>\n      <td>Holiday</td>\n      <td>763</td>\n      <td>75</td>\n    </tr>\n    <tr>\n      <th>76</th>\n      <td>Modern Jazz</td>\n      <td>906</td>\n      <td>76</td>\n    </tr>\n  </tbody>\n</table>\n<p>77 rows × 3 columns</p>\n</div>"
     },
     "execution_count": 81,
     "metadata": {},
     "output_type": "execute_result"
    }
   ],
   "source": [
    "transform_csv = pd.read_csv(RAW_DATA_PATH + '/' + 'genre2id.csv')\n",
    "transform_csv"
   ]
  },
  {
   "cell_type": "markdown",
   "id": "d1c14e44",
   "metadata": {},
   "source": [
    "### 2. Create Log-Mel Spectrogram"
   ]
  },
  {
   "cell_type": "code",
   "execution_count": 82,
   "id": "a2ecaab1",
   "metadata": {
    "ExecuteTime": {
     "start_time": "2023-04-06T13:54:38.063430Z",
     "end_time": "2023-04-06T13:54:38.110176Z"
    }
   },
   "outputs": [],
   "source": [
    "sr = 12000\n",
    "sample_time = 29  # 30 s\n",
    "wave_length = sample_time * sr\n",
    "n_ftt = 512\n",
    "hop = n_ftt // 2"
   ]
  },
  {
   "cell_type": "code",
   "execution_count": 83,
   "id": "d5c19a24",
   "metadata": {
    "ExecuteTime": {
     "start_time": "2023-04-06T13:54:38.278843Z",
     "end_time": "2023-04-06T13:54:38.322260Z"
    }
   },
   "outputs": [],
   "source": [
    "# this is the old version (Useless)\n",
    "def feature_extractor(file_path):\n",
    "    \"\"\"\n",
    "    Take au file path and output log mel spectrogram and MFCC\n",
    "    \"\"\"\n",
    "    signal, _ = librosa.load(file_path, sr=sr)\n",
    "    signal = signal[: wave_length]\n",
    "    signal = signal if not len(signal) < wave_length else np.concatenate([signal, np.zeros(wave_length-len(signal))])\n",
    "    \n",
    "    mel = librosa.feature.melspectrogram(y=signal, sr=sr, n_mels=96, hop_length = hop).T\n",
    "    log_mel = librosa.power_to_db(mel)\n",
    "    # shape: n_mels, t -> 128 * 938\n",
    "    \n",
    "    mfcc = librosa.feature.mfcc(S=log_mel)\n",
    "    # shape: n_mfcc, t-> 20 * 938\n",
    "    \n",
    "    return log_mel, mfcc"
   ]
  },
  {
   "cell_type": "code",
   "execution_count": 84,
   "id": "572ebf33",
   "metadata": {
    "ExecuteTime": {
     "start_time": "2023-04-06T13:54:38.542059Z",
     "end_time": "2023-04-06T13:54:38.542179Z"
    }
   },
   "outputs": [],
   "source": [
    "# This is the newer one\n",
    "def frame_feature_extractor(file_path):\n",
    "    signal, _ = librosa.load(file_path, sr=sr)\n",
    "    S = librosa.feature.melspectrogram(y=signal, sr=sr, n_mels=256).T\n",
    "#     print(S.shape)\n",
    "    S = librosa.power_to_db(S)\n",
    "#     print(S.shape\n",
    "    if not S.shape[0] % 256 == 0:\n",
    "        S = S[:-1 * (S.shape[0] % 256)] # divide the mel spectrogram\n",
    "    chunk_num = int(S.shape[0] / 256)\n",
    "    mel_chunks = np.split(S, chunk_num) # create 128 * 128 data frames\n",
    "    return mel_chunks, chunk_num\n"
   ]
  },
  {
   "cell_type": "code",
   "execution_count": 85,
   "id": "f9d0ad37",
   "metadata": {
    "ExecuteTime": {
     "start_time": "2023-04-06T13:54:38.709599Z",
     "end_time": "2023-04-06T13:54:39.077817Z"
    }
   },
   "outputs": [
    {
     "data": {
      "text/plain": "<Figure size 1700x500 with 2 Axes>",
      "image/png": "[encoded data removed]"
     },
     "metadata": {},
     "output_type": "display_data"
    }
   ],
   "source": [
    "# test:\n",
    "signal, mfcc = feature_extractor(genre_path_list_flat[0])\n",
    "plt.subplot(2, 1, 1)\n",
    "plt.title('A sample')\n",
    "display.specshow(signal, sr=sr, x_axis='time')\n",
    "plt.subplot(2, 1, 2)\n",
    "display.specshow(mfcc, sr=sr, x_axis='time')\n",
    "plt.show()"
   ]
  },
  {
   "cell_type": "code",
   "execution_count": 86,
   "id": "e21466c4",
   "metadata": {
    "ExecuteTime": {
     "start_time": "2023-04-06T13:54:39.083012Z",
     "end_time": "2023-04-06T13:54:39.157843Z"
    }
   },
   "outputs": [
    {
     "data": {
      "text/plain": "(1360, 96, 20, 96)"
     },
     "execution_count": 86,
     "metadata": {},
     "output_type": "execute_result"
    }
   ],
   "source": [
    "# signal.shape, mfcc.shape\n",
    "signal_nc = signal.shape[0]\n",
    "signal_nr = signal.shape[1]\n",
    "mfcc_nc = mfcc.shape[0]\n",
    "mfcc_nr = mfcc.shape[1]\n",
    "signal_nc, signal_nr, mfcc_nc, mfcc_nr"
   ]
  },
  {
   "cell_type": "code",
   "execution_count": 87,
   "id": "7e4f78e8",
   "metadata": {
    "ExecuteTime": {
     "start_time": "2023-04-06T13:54:39.808132Z",
     "end_time": "2023-04-06T13:54:39.854136Z"
    }
   },
   "outputs": [],
   "source": [
    "# signal, chunk_num = frame_feature_extractor(genre_path_list_flat[0])\n",
    "# plt.title('pop sample-frame-1')\n",
    "# display.specshow(signal[0], y_axis='time')\n",
    "# plt.show()"
   ]
  },
  {
   "cell_type": "code",
   "execution_count": 88,
   "id": "0624b19f",
   "metadata": {
    "ExecuteTime": {
     "start_time": "2023-04-06T13:54:40.186669Z",
     "end_time": "2023-04-06T13:54:40.230198Z"
    }
   },
   "outputs": [
    {
     "data": {
      "text/plain": "(16,)"
     },
     "execution_count": 88,
     "metadata": {},
     "output_type": "execute_result"
    }
   ],
   "source": [
    "def build_tag(genre):\n",
    "    target = np.zeros(len(label_dict), dtype=int)\n",
    "    pos = label_dict.get(genre)\n",
    "    target[pos] = 1\n",
    "    return target\n",
    "build_tag('pop').shape"
   ]
  },
  {
   "cell_type": "code",
   "execution_count": 89,
   "id": "005a7f11",
   "metadata": {
    "ExecuteTime": {
     "start_time": "2023-04-06T13:54:40.613286Z",
     "end_time": "2023-04-06T13:54:40.655894Z"
    }
   },
   "outputs": [],
   "source": [
    "# data_set_path = DATA_PATH + '/' + 'all_long.h5'\n",
    "# dataset = h5py.File(data_set_path, 'a')"
   ]
  },
  {
   "cell_type": "code",
   "execution_count": 90,
   "id": "491fb768",
   "metadata": {
    "ExecuteTime": {
     "start_time": "2023-04-06T13:54:41.002123Z",
     "end_time": "2023-04-06T13:54:41.002418Z"
    }
   },
   "outputs": [],
   "source": [
    "# dataset.create_dataset('mel', shape=(total_chunks, mel_shape[0], mel_shape[1]), dtype=np.float32)\n",
    "# dataset.create_dataset('track_id', shape=(total_chunks, 1), dtype=int) "
   ]
  },
  {
   "cell_type": "code",
   "execution_count": 91,
   "id": "4d1969cb",
   "metadata": {
    "ExecuteTime": {
     "start_time": "2023-04-06T13:54:41.200889Z",
     "end_time": "2023-04-06T13:54:41.246096Z"
    }
   },
   "outputs": [],
   "source": [
    "# error_file_list = []\n",
    "# count = 0\n",
    "# for i in tqdm(range(len(genre_path_list))):\n",
    "#     filename = genre_path_list[i]\n",
    "#     try:\n",
    "#         mel_list, _ = frame_feature_extractor(filename)\n",
    "#     except:\n",
    "#         error_file_list = filename\n",
    "#         continue\n",
    "#     tag = medium_data[medium_data['track_id'] == int (genre_path_list[i].split('/')[-1].split('.')[0])]\n",
    "# #     print(tag)\n",
    "#     if tag.empty:\n",
    "#         continue\n",
    "#     else:\n",
    "#         tag = tag.iloc[0, 6]    \n",
    "#     for mel_signal_chunk in mel_list:\n",
    "#         dataset['tag'][count] = build_tag(tag)\n",
    "#         dataset['mel'][count] = mel_signal_chunk\n",
    "#         dataset['']\n",
    "#         count += 1\n",
    "# dataset.close()\n",
    "# print(error_file_list)"
   ]
  },
  {
   "cell_type": "code",
   "execution_count": 92,
   "id": "b5114fa7",
   "metadata": {
    "ExecuteTime": {
     "start_time": "2023-04-06T13:54:41.450042Z",
     "end_time": "2023-04-06T13:54:41.460195Z"
    }
   },
   "outputs": [],
   "source": [
    "medium_track_id_train = medium_data_train.iloc[:, 0].values\n",
    "medium_track_id_test = medium_data_test.iloc[:, 0].values"
   ]
  },
  {
   "cell_type": "code",
   "execution_count": 93,
   "id": "4fc91178",
   "metadata": {
    "ExecuteTime": {
     "start_time": "2023-04-06T13:54:42.043425Z",
     "end_time": "2023-04-06T13:54:42.106630Z"
    }
   },
   "outputs": [
    {
     "data": {
      "text/plain": "(19922, 2573)"
     },
     "execution_count": 93,
     "metadata": {},
     "output_type": "execute_result"
    }
   ],
   "source": [
    "len(medium_data_train), len(medium_data_test)"
   ]
  },
  {
   "cell_type": "code",
   "execution_count": 94,
   "id": "527bbb64",
   "metadata": {
    "ExecuteTime": {
     "start_time": "2023-04-06T13:54:43.153156Z",
     "end_time": "2023-04-06T13:54:43.224383Z"
    }
   },
   "outputs": [
    {
     "data": {
      "text/plain": "'/home/xkliu/PycharmProjects/HMAN/raw_data/fma_medium_flat/086152.mp3'"
     },
     "execution_count": 94,
     "metadata": {},
     "output_type": "execute_result"
    }
   ],
   "source": [
    "genre_path_list_flat[0]"
   ]
  },
  {
   "cell_type": "code",
   "execution_count": 95,
   "id": "3ea299ed",
   "metadata": {
    "ExecuteTime": {
     "start_time": "2023-04-06T13:54:43.595672Z",
     "end_time": "2023-04-06T13:54:43.655322Z"
    }
   },
   "outputs": [
    {
     "data": {
      "text/plain": "'/home/xkliu/PycharmProjects/HMAN/raw_data/fma_medium_flat/'"
     },
     "execution_count": 95,
     "metadata": {},
     "output_type": "execute_result"
    }
   ],
   "source": [
    "GENRE_FLAT_PATH"
   ]
  },
  {
   "cell_type": "code",
   "execution_count": 96,
   "id": "210731e4",
   "metadata": {
    "ExecuteTime": {
     "start_time": "2023-04-06T13:54:43.881350Z",
     "end_time": "2023-04-06T13:54:43.926320Z"
    }
   },
   "outputs": [
    {
     "data": {
      "text/plain": "'/home/xkliu/PycharmProjects/HMAN/raw_data/fma_medium_flat/086152.mp3'"
     },
     "execution_count": 96,
     "metadata": {},
     "output_type": "execute_result"
    }
   ],
   "source": [
    "genre_path_list_flat[0]"
   ]
  },
  {
   "cell_type": "code",
   "execution_count": 97,
   "id": "6bcdec2e",
   "metadata": {
    "ExecuteTime": {
     "start_time": "2023-04-06T13:54:44.077512Z",
     "end_time": "2023-04-06T13:54:44.118129Z"
    }
   },
   "outputs": [],
   "source": [
    "not_in_list_train =[]\n",
    "error_file_list_train = []\n",
    "\n",
    "def getMelTrainList(medium_track_id):\n",
    "    mel_list_train = np.zeros((len(medium_track_id), signal_nc, signal_nr)) # 1360 * 96\n",
    "    mfcc_train = np.zeros((len(medium_track_id), mfcc_nc, mfcc_nr)) # 20 * 96\n",
    "    for i in tqdm(range(len(medium_track_id))):\n",
    "        print('\\r',\"Progress: \" + str(i) + \"/\" + str(len(medium_track_id)) + \" \" + str(i/(len(medium_track_id))*100) + \"%\", end='', flush=True)\n",
    "#         sys.stdout.write(\"Progress: \" + str(i) + \"/\" + str(len(medium_track_id)) + \" \" + str(i/(len(medium_track_id))))\n",
    "        # sys.stdout.flush()\n",
    "        if (GENRE_FLAT_PATH + '%06d'%medium_track_id[i] +'.mp3') not in genre_path_list_flat:\n",
    "            not_in_list_train.append(GENRE_FLAT_PATH + '%06d'%medium_track_id[i] +'.mp3')\n",
    "            with open(ROOT_PATH + \"/log/\" + data_size + \"_not_in_list_train.txt\", \"a\") as f:\n",
    "                f.writelines(GENRE_FLAT_PATH + '%06d'%medium_track_id[i] +'.mp3' + \"\\n\")\n",
    "        else:\n",
    "            try:\n",
    "                mel_list, mfcc = feature_extractor(GENRE_FLAT_PATH + '%06d'%medium_track_id[i] +'.mp3')\n",
    "            except:\n",
    "                error_file_list_train.append(GENRE_FLAT_PATH + '%06d'%medium_track_id[i] +'.mp3')\n",
    "                with open(ROOT_PATH + \"/log/\" + data_size + \"_error_file_list_train.txt\", \"a\") as f:\n",
    "                    f.writelines(GENRE_FLAT_PATH + '%06d'%medium_track_id[i] +'.mp3' + \"\\n\")\n",
    "                continue\n",
    "            mel_list_train[i] = mel_list\n",
    "            mfcc_train[i] = mfcc\n",
    "    return mel_list_train, mfcc_train\n",
    "\n",
    "not_in_list_test =[]\n",
    "error_file_list_test = []\n",
    "def getMelTestList(medium_track_id):\n",
    "    mel_list_test = np.zeros((len(medium_track_id), signal_nc, signal_nr))\n",
    "    mfcc_test = np.zeros((len(medium_track_id),  mfcc_nc, mfcc_nr))\n",
    "    for i in tqdm(range(len(medium_track_id))):\n",
    "        print('\\r',\"Progress: \" + str(i) + \"/\" + str(len(medium_track_id)) + \" \" + str(i/(len(medium_track_id))*100) + \"%\", end='', flush=True)\n",
    "#         sys.stdout.write(\"Progress: \" + str(i) + \"/\" + str(len(medium_track_id)) + \" \" + str(i/(len(medium_track_id))))\n",
    "        # sys.stdout.flush()\n",
    "        if (GENRE_FLAT_PATH + '%06d'%medium_track_id[i] +'.mp3') not in genre_path_list_flat:\n",
    "            not_in_list_test.append(GENRE_FLAT_PATH + '%06d'%medium_track_id[i] +'.mp3')\n",
    "            with open(ROOT_PATH + \"/log/\" + data_size + \"_not_in_list_test.txt\", \"a\") as f:\n",
    "                    f.writelines(GENRE_FLAT_PATH + '%06d'%medium_track_id[i] +'.mp3' + \"\\n\")\n",
    "        else:\n",
    "            try:\n",
    "                mel_list, mfcc = feature_extractor(GENRE_FLAT_PATH + '%06d'%medium_track_id[i] +'.mp3')\n",
    "            except:\n",
    "                error_file_list_test.append(GENRE_FLAT_PATH + '%06d'%medium_track_id[i] +'.mp3')\n",
    "                with open(ROOT_PATH + \"/log/\" + data_size + \"_error_file_list_test.txt\", \"a\") as f:\n",
    "                    f.writelines(GENRE_FLAT_PATH + '%06d'%medium_track_id[i] +'.mp3' + \"\\n\")\n",
    "                continue\n",
    "            mel_list_test[i] = mel_list\n",
    "            mfcc_test[i] = mfcc\n",
    "    return mel_list_test, mfcc_test"
   ]
  },
  {
   "cell_type": "code",
   "execution_count": 98,
   "id": "aa9ea31a",
   "metadata": {
    "ExecuteTime": {
     "start_time": "2023-04-06T13:54:44.302007Z",
     "end_time": "2023-04-06T13:54:44.330689Z"
    }
   },
   "outputs": [],
   "source": [
    "data_train_sort = pd.read_csv(RAW_DATA_PATH + '/' + data_size + '_data_train_sort_csv.txt', sep='-----' )\n",
    "data_test_sort = pd.read_csv(RAW_DATA_PATH + '/' + data_size + '_data_test_sort_csv.txt', sep='-----')\n",
    "track_id_train_sort = data_train_sort.iloc[:, 0].values\n",
    "track_id_test_sort = data_test_sort.iloc[:, 0].values"
   ]
  },
  {
   "cell_type": "code",
   "execution_count": 99,
   "outputs": [
    {
     "data": {
      "text/plain": "0             2\n1             3\n2             5\n3           134\n4         10666\n          ...  \n19917    155297\n19918    155298\n19919    155306\n19920    155307\n19921    155314\nName: track_id, Length: 19922, dtype: int64"
     },
     "execution_count": 99,
     "metadata": {},
     "output_type": "execute_result"
    }
   ],
   "source": [
    "data_train_sort.iloc[:, 0]"
   ],
   "metadata": {
    "collapsed": false,
    "ExecuteTime": {
     "start_time": "2023-04-06T13:54:44.486115Z",
     "end_time": "2023-04-06T13:54:44.486477Z"
    }
   }
  },
  {
   "cell_type": "code",
   "execution_count": null,
   "id": "7ca6a6c6",
   "metadata": {
    "ExecuteTime": {
     "start_time": "2023-04-06T02:03:14.315581Z",
     "end_time": "2023-04-06T03:05:38.469900Z"
    },
    "pycharm": {
     "is_executing": true
    }
   },
   "outputs": [
    {
     "data": {
      "text/plain": "  0%|          | 0/19922 [00:00<?, ?it/s]",
      "application/vnd.jupyter.widget-view+json": {
       "version_major": 2,
       "version_minor": 0,
       "model_id": "a5d7da90be2642e4b681c502e552e52b"
      }
     },
     "metadata": {},
     "output_type": "display_data"
    },
    {
     "name": "stdout",
     "output_type": "stream",
     "text": [
      " Progress: 214/19922 1.0741893384198373%%"
     ]
    },
    {
     "name": "stderr",
     "output_type": "stream",
     "text": [
      "[src/libmpg123/parse.c:do_readahead():1099] warning: Cannot read next header, a one-frame stream? Duh...\n"
     ]
    },
    {
     "name": "stdout",
     "output_type": "stream",
     "text": [
      " Progress: 1365/19922 6.851721714687281%%"
     ]
    },
    {
     "name": "stderr",
     "output_type": "stream",
     "text": [
      "[src/libmpg123/layer3.c:INT123_do_layer3():1841] error: dequantization failed!\n"
     ]
    },
    {
     "name": "stdout",
     "output_type": "stream",
     "text": [
      " Progress: 2177/19922 10.927617709065354%"
     ]
    },
    {
     "name": "stderr",
     "output_type": "stream",
     "text": [
      "[src/libmpg123/layer3.c:INT123_do_layer3():1771] error: part2_3_length (3264) too large for available bit count (3224)\n"
     ]
    },
    {
     "name": "stdout",
     "output_type": "stream",
     "text": [
      " Progress: 2940/19922 14.757554462403375%"
     ]
    },
    {
     "name": "stderr",
     "output_type": "stream",
     "text": [
      "[src/libmpg123/layer3.c:INT123_do_layer3():1801] error: dequantization failed!\n"
     ]
    },
    {
     "name": "stdout",
     "output_type": "stream",
     "text": [
      " Progress: 3829/19922 19.21995783555868%%"
     ]
    },
    {
     "name": "stderr",
     "output_type": "stream",
     "text": [
      "[src/libmpg123/layer3.c:INT123_do_layer3():1801] error: dequantization failed!\n"
     ]
    },
    {
     "name": "stdout",
     "output_type": "stream",
     "text": [
      " Progress: 4021/19922 20.18371649432788%%"
     ]
    }
   ],
   "source": [
    "mel_list_train, mfcc_train = getMelTrainList(track_id_train_sort)"
   ]
  },
  {
   "cell_type": "code",
   "execution_count": null,
   "id": "e26965c5",
   "metadata": {
    "ExecuteTime": {
     "start_time": "2023-04-06T03:05:38.524660Z",
     "end_time": "2023-04-06T03:13:48.779900Z"
    },
    "pycharm": {
     "is_executing": true
    }
   },
   "outputs": [],
   "source": [
    "mel_list_test, mfcc_test = getMelTestList(track_id_test_sort)"
   ]
  },
  {
   "cell_type": "code",
   "execution_count": null,
   "id": "4b26af04",
   "metadata": {
    "ExecuteTime": {
     "start_time": "2023-04-06T03:13:48.788006Z",
     "end_time": "2023-04-06T03:13:48.814592Z"
    },
    "pycharm": {
     "is_executing": true
    }
   },
   "outputs": [],
   "source": [
    "mfcc_train.shape"
   ]
  },
  {
   "cell_type": "code",
   "execution_count": null,
   "id": "42839b06",
   "metadata": {
    "ExecuteTime": {
     "start_time": "2023-04-06T03:13:48.797230Z",
     "end_time": "2023-04-06T03:13:48.843668Z"
    },
    "pycharm": {
     "is_executing": true
    }
   },
   "outputs": [],
   "source": [
    "mel_list_train[0]"
   ]
  },
  {
   "cell_type": "code",
   "execution_count": null,
   "id": "8b5e7dd4",
   "metadata": {
    "ExecuteTime": {
     "start_time": "2023-04-06T03:13:48.820553Z",
     "end_time": "2023-04-06T03:15:16.182531Z"
    },
    "pycharm": {
     "is_executing": true
    }
   },
   "outputs": [],
   "source": [
    "np.save(DATA_PATH+ '/' + data_size + '_mel_list_train_1360_96', mel_list_train)\n",
    "np.save(DATA_PATH+ '/' + data_size + '_mel_list_test_1360_96', mel_list_test)\n",
    "np.save(DATA_PATH+ '/' + data_size + '_mfcc_train_20_96', mfcc_train)\n",
    "np.save(DATA_PATH+ '/' + data_size + '_mfcc_test_20_96', mfcc_test)"
   ]
  },
  {
   "cell_type": "markdown",
   "id": "57ee716c",
   "metadata": {},
   "source": [
    "## 我是分界线"
   ]
  },
  {
   "cell_type": "code",
   "execution_count": null,
   "id": "06a7d957",
   "metadata": {
    "ExecuteTime": {
     "end_time": "2023-04-05T12:59:59.784298Z",
     "start_time": "2023-04-05T12:26:59.145683Z"
    },
    "pycharm": {
     "is_executing": true
    }
   },
   "outputs": [],
   "source": [
    "# # error_file_list = []\n",
    "# count = 0\n",
    "# for i in tqdm(range(len(genre_path_list))):\n",
    "#     filename = genre_path_list[i]\n",
    "#     try:\n",
    "#         mel_list, _ = frame_feature_extractor(filename)\n",
    "#     except:\n",
    "#         error_file_list = filename\n",
    "#         continue\n",
    "#     tag = medium_data[medium_data['track_id'] == int (genre_path_list[i].split('/')[-1].split('.')[0])]\n",
    "# #     print(tag)\n",
    "#     if tag.empty:\n",
    "#         continue\n",
    "#     else:\n",
    "#         tag = tag.iloc[0, 6]    \n",
    "#     for mel_signal_chunk in mel_list:\n",
    "#         dataset['track_id'][count] = int (genre_path_list[i].split('/')[-1].split('.')[0])\n",
    "#         dataset['mel'][count] = mel_signal_chunk\n",
    "#         count += 1\n",
    "# dataset.close()\n",
    "# print(error_file_list)"
   ]
  }
 ],
 "metadata": {
  "kernelspec": {
   "display_name": "Python 3 (ipykernel)",
   "language": "python",
   "name": "python3"
  },
  "language_info": {
   "codemirror_mode": {
    "name": "ipython",
    "version": 3
   },
   "file_extension": ".py",
   "mimetype": "text/x-python",
   "name": "python",
   "nbconvert_exporter": "python",
   "pygments_lexer": "ipython3",
   "version": "3.8.16"
  }
 },
 "nbformat": 4,
 "nbformat_minor": 5
}
