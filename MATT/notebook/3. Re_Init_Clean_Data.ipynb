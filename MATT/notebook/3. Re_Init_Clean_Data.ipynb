{
 "cells": [
  {
   "cell_type": "markdown",
   "metadata": {},
   "source": [
    "# Sort Data"
   ]
  },
  {
   "cell_type": "markdown",
   "metadata": {},
   "source": [
    "## 0. Preliminary"
   ]
  },
  {
   "cell_type": "code",
   "execution_count": 1,
   "metadata": {
    "ExecuteTime": {
     "start_time": "2023-04-05T21:28:28.716654Z",
     "end_time": "2023-04-05T21:28:29.229172Z"
    }
   },
   "outputs": [],
   "source": [
    "%matplotlib inline\n",
    "\n",
    "import IPython.display as ipd\n",
    "import numpy as np\n",
    "import pandas as pd\n",
    "import matplotlib.pyplot as plt\n",
    "import seaborn as sns\n",
    "from sklearn.preprocessing import MultiLabelBinarizer\n",
    "import os\n",
    "import sys\n",
    "\n",
    "from ast import literal_eval\n",
    "\n",
    "\"\"\n",
    "sns.set_context(\"notebook\", font_scale=1.5)\n",
    "plt.rcParams['figure.figsize'] = (17, 5)\n",
    "\n",
    "import platform\n",
    "if 'Windows' in platform.platform():\n",
    "    ROOT_PATH = \"D:/PycharmProjects/HMAN\"\n",
    "else:\n",
    "    ROOT_PATH = \"/home/xkliu/PycharmProjects/HMAN\"\n",
    "RAW_DATA_PATH = ROOT_PATH  + \"/raw_data\"\n",
    "DATA_PATH = ROOT_PATH + \"/data\"\n",
    "os.chdir(ROOT_PATH)\n",
    "sys.path.append(\"./\")\n",
    "\n",
    "from kddirkit.utils import utils\n"
   ]
  },
  {
   "cell_type": "code",
   "execution_count": 2,
   "metadata": {
    "ExecuteTime": {
     "start_time": "2023-04-05T21:28:29.230783Z",
     "end_time": "2023-04-05T21:28:29.232923Z"
    }
   },
   "outputs": [
    {
     "name": "stdout",
     "output_type": "stream",
     "text": [
      "reading genre str2ids...\n"
     ]
    }
   ],
   "source": [
    "genre_id2id = {}\n",
    "genre_str2id = {}\n",
    "def init_genre():\n",
    "    # reading relation ids...\n",
    "#     global genre_id2id\n",
    "#     print('reading genre id2id...')\n",
    "#     f = open(RAW_DATA_PATH + \"/fma_metadata/genre_id2id.csv\",\"r\")\n",
    "#     total = (int)(f.readline().strip())\n",
    "#     for i in range(total):\n",
    "#         content = f.readline().strip().split(',')\n",
    "#         genre_id2id[content[0]] = int(content[1])\n",
    "#     f.close()\n",
    "    \n",
    "    global genre_str2id\n",
    "    print('reading genre str2ids...')\n",
    "    f = open(RAW_DATA_PATH + \"/fma_metadata/genre_str2id.csv\",\"r\")\n",
    "    total = (int)(f.readline().strip())\n",
    "    for i in range(total):\n",
    "        content = f.readline().strip().split(',')\n",
    "        genre_str2id[content[0]] = int(content[1])\n",
    "    f.close()\n",
    "init_genre()"
   ]
  },
  {
   "cell_type": "markdown",
   "metadata": {},
   "source": [
    "## 3. Init Files"
   ]
  },
  {
   "cell_type": "code",
   "execution_count": 3,
   "metadata": {
    "ExecuteTime": {
     "start_time": "2023-04-05T21:28:29.287219Z",
     "end_time": "2023-04-05T21:28:29.340705Z"
    }
   },
   "outputs": [],
   "source": [
    "def init_files(name):\n",
    "    print('reading ' + name +' data...')\n",
    "    f = open(RAW_DATA_PATH + '/'+ name + '.txt','r')\n",
    "    total = (int)(f.readline().strip())\n",
    "    print(total)\n",
    "    sen_len = np.zeros((total), dtype = np.int32)\n",
    "    sen_label = np.zeros((total), dtype = np.int32)\n",
    "    sen_label_bottom = np.zeros((total), dtype = np.int32)\n",
    "    instance_scope = []\n",
    "    instance_triple = []\n",
    "    for s in range(total):\n",
    "        content = f.readline().strip().split('-----')\n",
    "        album_id = content[1]\n",
    "        artist_id = content[3]\n",
    "#         print(content)\n",
    "        genre_name = content[6]\n",
    "        if  genre_name in genre_str2id:\n",
    "            genre_id = genre_str2id[genre_name]\n",
    "        else:\n",
    "            genre_id = genre_str2id['NA']\n",
    "        genre_id_bottom = literal_eval(content[8])\n",
    "        if genre_id_bottom:\n",
    "            genre_id_bottom =  genre_id_bottom[-1] \n",
    "        else:\n",
    "            genre_id_bottom = 0\n",
    "        sen_label[s] = genre_id\n",
    "        sen_label_bottom[s] = genre_id_bottom\n",
    "        tup = (album_id,artist_id,genre_id)\n",
    "        if instance_triple == [] or instance_triple[len(instance_triple) - 1] != tup:\n",
    "            instance_triple.append(tup)\n",
    "            instance_scope.append([s,s])\n",
    "        instance_scope[len(instance_triple) - 1][1] = s\n",
    "#         if (s+1) % 100 == 0:\n",
    "#             sys.stdout.write(str(s)+'\\r')\n",
    "#             sys.stdout.flush()\n",
    "    return np.array(instance_triple), np.array(instance_scope), sen_label, sen_label_bottom"
   ]
  },
  {
   "cell_type": "code",
   "execution_count": 4,
   "metadata": {
    "ExecuteTime": {
     "start_time": "2023-04-05T21:28:29.780593Z",
     "end_time": "2023-04-05T21:28:29.783317Z"
    }
   },
   "outputs": [
    {
     "name": "stdout",
     "output_type": "stream",
     "text": [
      "CPU times: user 2 µs, sys: 2 µs, total: 4 µs\n",
      "Wall time: 5.25 µs\n"
     ]
    }
   ],
   "source": [
    "%time\n",
    "# medium_instance_triple, medium_instance_scope, medium_label, medium_label_bottom = init_files(\"medium_data_sort_clean\")"
   ]
  },
  {
   "cell_type": "code",
   "execution_count": 5,
   "metadata": {
    "ExecuteTime": {
     "start_time": "2023-04-05T21:28:30.175835Z",
     "end_time": "2023-04-05T21:28:30.183654Z"
    }
   },
   "outputs": [],
   "source": [
    "# np.save(DATA_PATH+'/' + 'medium_instance_triple', medium_instance_triple)\n",
    "# np.save(DATA_PATH+'/' + 'medium_instance_scope', medium_instance_scope)\n",
    "# np.save(DATA_PATH+'/' + 'medium_label', medium_label)\n",
    "# np.save(DATA_PATH+'/' + 'medium_label_bottom', medium_label_bottom)"
   ]
  },
  {
   "cell_type": "markdown",
   "metadata": {},
   "source": [
    "### 3.1 Init Training Data"
   ]
  },
  {
   "cell_type": "code",
   "execution_count": 6,
   "metadata": {
    "ExecuteTime": {
     "start_time": "2023-04-05T21:28:30.919828Z",
     "end_time": "2023-04-05T21:28:30.922754Z"
    }
   },
   "outputs": [],
   "source": [
    "# def init_train_files(name):\n",
    "#     print('reading ' + name +' data...')\n",
    "#     f = open(RAW_DATA_PATH + '/'+ name + '.txt','r')\n",
    "#     total = (int)(f.readline().strip())\n",
    "#     print(total)\n",
    "#     sen_len = np.zeros((total), dtype = np.int32)\n",
    "#     sen_label = np.zeros((total), dtype = np.int32)\n",
    "#     instance_scope = []\n",
    "#     instance_triple = []\n",
    "#     for s in range(total):\n",
    "#         content = f.readline().strip().split('-----')\n",
    "#         album_id = content[1]\n",
    "#         artist_id = content[3]\n",
    "# #         print(content)'\n",
    "#         genre_name = content[6]\n",
    "#         if  genre_name in genre_str2id:\n",
    "#             genre_id = genre_str2id[genre_name]\n",
    "#         else:\n",
    "# #             print(genre_name)\n",
    "#             genre_id = genre_str2id['NA']\n",
    "#         genre_id = literal_eval(content[7])\n",
    "#         if genre_id:\n",
    "#             genre_id =  genre_id[0] \n",
    "#         else:\n",
    "#             genre_id = 0\n",
    "#         sen_label[s] = genre_id\n",
    "#         tup = (album_id,artist_id,genre_id)\n",
    "#         if instance_triple == [] or instance_triple[len(instance_triple) - 1] != tup:\n",
    "#             instance_triple.append(tup)\n",
    "#             instance_scope.append([s,s])\n",
    "#         instance_scope[len(instance_triple) - 1][1] = s\n",
    "# #         if (s+1) % 100 == 0:\n",
    "# #             sys.stdout.write(str(s)+'\\r')\n",
    "# #             sys.stdout.flush()\n",
    "#     return np.array(instance_triple), np.array(instance_scope), sen_label"
   ]
  },
  {
   "cell_type": "code",
   "execution_count": 7,
   "metadata": {
    "ExecuteTime": {
     "start_time": "2023-04-05T21:28:31.231319Z",
     "end_time": "2023-04-05T21:28:31.361003Z"
    }
   },
   "outputs": [
    {
     "name": "stdout",
     "output_type": "stream",
     "text": [
      "CPU times: user 1 µs, sys: 1e+03 ns, total: 2 µs\n",
      "Wall time: 3.81 µs\n",
      "reading medium_data_train_sort_clean data...\n",
      "13510\n"
     ]
    }
   ],
   "source": [
    "%time\n",
    "medium_instance_triple_train, medium_instance_scope_train, medium_label_train, medium_label_bottom_train = init_files(\"medium_data_train_sort_clean\")"
   ]
  },
  {
   "cell_type": "code",
   "execution_count": 8,
   "metadata": {
    "ExecuteTime": {
     "start_time": "2023-04-05T21:28:31.584613Z",
     "end_time": "2023-04-05T21:28:31.584801Z"
    }
   },
   "outputs": [],
   "source": [
    "# large_instance_triple_train, large_instance_scope_train, large_label_train = init_train_files(\"large_data_train_sort\")"
   ]
  },
  {
   "cell_type": "code",
   "execution_count": 9,
   "metadata": {
    "ExecuteTime": {
     "start_time": "2023-04-05T21:28:31.883705Z",
     "end_time": "2023-04-05T21:28:31.890538Z"
    }
   },
   "outputs": [],
   "source": [
    "np.save(DATA_PATH+'/' + 'medium_instance_triple_train_clean', medium_instance_triple_train)\n",
    "np.save(DATA_PATH+'/' + 'medium_instance_scope_train_clean', medium_instance_scope_train)\n",
    "np.save(DATA_PATH+'/' + 'medium_label_train_clean', medium_label_train)\n",
    "np.save(DATA_PATH+'/' + 'medium_label_bottom_train_clean', medium_label_bottom_train)"
   ]
  },
  {
   "cell_type": "markdown",
   "metadata": {},
   "source": [
    "### 3.2 Init Validation Data"
   ]
  },
  {
   "cell_type": "code",
   "execution_count": 10,
   "metadata": {
    "ExecuteTime": {
     "start_time": "2023-04-05T21:28:32.755657Z",
     "end_time": "2023-04-05T21:28:32.758827Z"
    }
   },
   "outputs": [],
   "source": [
    "# def init_val_files(name):\n",
    "#     print('reading ' + name +' data...')\n",
    "#     f = open(RAW_DATA_PATH + '/'+ name + '.txt','r')\n",
    "#     total = (int)(f.readline().strip())\n",
    "#     print(total)\n",
    "#     sen_len = np.zeros((total), dtype = np.int32)\n",
    "#     sen_label = np.zeros((total), dtype = np.int32)\n",
    "#     instance_scope = []\n",
    "#     instance_triple = []\n",
    "#     for s in range(total):\n",
    "#         content = f.readline().strip().split('-----')\n",
    "#         album_id = content[1]\n",
    "#         artist_id = content[3]\n",
    "# #         print(content)\n",
    "#         genre_name = content[6]\n",
    "#         if  genre_name in genre_str2id:\n",
    "#             genre_id = genre_str2id[genre_name]\n",
    "#         else:\n",
    "#             genre_id = genre_str2id['NA']\n",
    "# #         genre_id = literal_eval(content[8])\n",
    "# #         if genre_id:\n",
    "# #             genre_id =  genre_id[-1] \n",
    "# #         else:\n",
    "# #             genre_id = 0\n",
    "#         sen_label[s] = genre_id\n",
    "#         tup = (album_id,artist_id,genre_id)\n",
    "#         if instance_triple == [] or instance_triple[len(instance_triple) - 1] != tup:\n",
    "#             instance_triple.append(tup)\n",
    "#             instance_scope.append([s,s])\n",
    "#         instance_scope[len(instance_triple) - 1][1] = s\n",
    "# #         if (s+1) % 100 == 0:\n",
    "# #             sys.stdout.write(str(s)+'\\r')\n",
    "# #             sys.stdout.flush()\n",
    "#     return np.array(instance_triple), np.array(instance_scope), sen_label"
   ]
  },
  {
   "cell_type": "code",
   "execution_count": 11,
   "metadata": {
    "ExecuteTime": {
     "start_time": "2023-04-05T21:28:34.255937Z",
     "end_time": "2023-04-05T21:28:34.271351Z"
    }
   },
   "outputs": [
    {
     "name": "stdout",
     "output_type": "stream",
     "text": [
      "CPU times: user 3 µs, sys: 0 ns, total: 3 µs\n",
      "Wall time: 6.2 µs\n",
      "reading medium_data_val_sort_clean data...\n",
      "1704\n"
     ]
    }
   ],
   "source": [
    "%time\n",
    "medium_instance_triple_val, medium_instance_scope_val, medium_label_val, medium_label_bottom_val = init_files(\"medium_data_val_sort_clean\")\n"
   ]
  },
  {
   "cell_type": "code",
   "execution_count": 12,
   "metadata": {
    "ExecuteTime": {
     "start_time": "2023-04-05T21:28:36.924117Z",
     "end_time": "2023-04-05T21:28:36.931032Z"
    }
   },
   "outputs": [],
   "source": [
    "np.save(DATA_PATH+'/' + 'medium_instance_triple_val', medium_instance_triple_val)\n",
    "np.save(DATA_PATH+'/' + 'medium_instance_scope_val', medium_instance_scope_val)\n",
    "np.save(DATA_PATH+'/' + 'medium_label_val', medium_label_val)\n",
    "np.save(DATA_PATH+'/' + 'medium_label_bottom_val', medium_label_bottom_val)"
   ]
  },
  {
   "cell_type": "markdown",
   "metadata": {},
   "source": [
    "### 3.3 Init Testing Data"
   ]
  },
  {
   "cell_type": "code",
   "execution_count": 13,
   "metadata": {
    "ExecuteTime": {
     "start_time": "2023-04-05T21:28:38.247997Z",
     "end_time": "2023-04-05T21:28:38.251290Z"
    }
   },
   "outputs": [],
   "source": [
    "def init_test_files(name):\n",
    "    print('reading ' + name +' data...')\n",
    "    f = open(RAW_DATA_PATH + '/'+ name + '.txt','r')\n",
    "    total = (int)(f.readline().strip())\n",
    "    print(total)\n",
    "    sen_label = np.zeros((total), dtype = np.int32)\n",
    "    sen_label_bottom = np.zeros((total), dtype = np.int32)\n",
    "    entity_pair = []\n",
    "    entity_scope = []\n",
    "    for s in range(total):\n",
    "        content = f.readline().strip().split('-----')\n",
    "        album_id = content[1]\n",
    "        artist_id = content[3]\n",
    "#         print(content)\n",
    "        genre_name = content[6]\n",
    "        if  genre_name in genre_str2id:\n",
    "            genre_id = genre_str2id[genre_name]\n",
    "        else:\n",
    "#             print(genre_name)\n",
    "            genre_id = genre_str2id['NA']\n",
    "        genre_id_bottom = literal_eval(content[8])\n",
    "        if genre_id_bottom:\n",
    "            genre_id_bottom =  genre_id_bottom[-1] \n",
    "        else:\n",
    "            genre_id_bottom = 0\n",
    "        sen_label[s] = genre_id\n",
    "        sen_label_bottom[s] = genre_id_bottom\n",
    "        pair = (album_id,artist_id)\n",
    "        if entity_pair == [] or entity_pair[-1] != pair:\n",
    "            entity_pair.append(pair)\n",
    "            entity_scope.append([s,s])\n",
    "        entity_scope[-1][1] = s\n",
    "#         if (s+1) % 100 == 0:\n",
    "#             sys.stdout.write(str(s)+'\\r')\n",
    "#             sys.stdout.flush()\n",
    "    return np.array(entity_pair), np.array(entity_scope),  sen_label, sen_label_bottom"
   ]
  },
  {
   "cell_type": "code",
   "execution_count": 14,
   "metadata": {
    "ExecuteTime": {
     "start_time": "2023-04-05T21:28:38.756519Z",
     "end_time": "2023-04-05T21:28:38.760577Z"
    }
   },
   "outputs": [
    {
     "name": "stdout",
     "output_type": "stream",
     "text": [
      "CPU times: user 1 µs, sys: 2 µs, total: 3 µs\n",
      "Wall time: 4.05 µs\n",
      "reading medium_data_test_sort_clean data...\n",
      "1772\n"
     ]
    }
   ],
   "source": [
    "%time\n",
    "medium_instance_triple_test, medium_instance_scope_test, medium_label_test, medium_label_bottom_test = init_test_files(\"medium_data_test_sort_clean\")"
   ]
  },
  {
   "cell_type": "code",
   "execution_count": 15,
   "metadata": {
    "ExecuteTime": {
     "start_time": "2023-04-05T21:28:39.005691Z",
     "end_time": "2023-04-05T21:28:39.048794Z"
    }
   },
   "outputs": [],
   "source": [
    "np.save(DATA_PATH+'/' + 'medium_entity_pair_test_clean', medium_instance_triple_test)\n",
    "np.save(DATA_PATH+'/' + 'medium_entity_scope_test_clean', medium_instance_scope_test)\n",
    "np.save(DATA_PATH+'/' + 'medium_label_test_clean', medium_label_test)\n",
    "np.save(DATA_PATH+'/' + 'medium_label_bottom_test_clean', medium_label_bottom_test)"
   ]
  },
  {
   "cell_type": "markdown",
   "metadata": {},
   "source": [
    "## 4. Transform Data"
   ]
  },
  {
   "cell_type": "markdown",
   "metadata": {},
   "source": [
    "### 4.1 initialize bag label for test\n"
   ]
  },
  {
   "cell_type": "code",
   "execution_count": 16,
   "metadata": {
    "ExecuteTime": {
     "start_time": "2023-04-05T21:28:43.743078Z",
     "end_time": "2023-04-05T21:28:43.750134Z"
    }
   },
   "outputs": [],
   "source": [
    "from collections import Counter"
   ]
  },
  {
   "cell_type": "markdown",
   "metadata": {},
   "source": [
    "#### Small"
   ]
  },
  {
   "cell_type": "code",
   "execution_count": 17,
   "metadata": {
    "ExecuteTime": {
     "start_time": "2023-04-05T21:28:44.378864Z",
     "end_time": "2023-04-05T21:28:44.383849Z"
    }
   },
   "outputs": [],
   "source": [
    "# small_label = np.load(DATA_PATH + '/' + 'small_test_label.npy')\n",
    "# small_scope = np.load(DATA_PATH + '/' + 'small_test_entity_scope.npy')\n",
    "# Counter(small_label)"
   ]
  },
  {
   "cell_type": "code",
   "execution_count": 18,
   "metadata": {
    "ExecuteTime": {
     "start_time": "2023-04-05T21:28:44.624695Z",
     "end_time": "2023-04-05T21:28:44.624938Z"
    }
   },
   "outputs": [],
   "source": [
    "# small_label = np.load(DATA_PATH + '/' + 'small_test_label.npy')\n",
    "# small_scope = np.load(DATA_PATH + '/' + 'small_test_entity_scope.npy')\n",
    "# small_label[small_label == 12] = 0\n",
    "# small_label[small_label == 2] = 1\n",
    "# small_label[small_label == 17] = 2\n",
    "# small_label[small_label == 38] = 3\n",
    "# small_label[small_label == 1235] = 4\n",
    "# small_label[small_label == 10] = 5\n",
    "# small_label[small_label == 21] = 6\n",
    "# small_label[small_label == 15] = 7\n",
    "# Counter(small_label)"
   ]
  },
  {
   "cell_type": "code",
   "execution_count": 19,
   "metadata": {
    "ExecuteTime": {
     "start_time": "2023-04-05T21:28:44.848657Z",
     "end_time": "2023-04-05T21:28:44.848908Z"
    }
   },
   "outputs": [],
   "source": [
    "# small_all_true_label = np.zeros((small_scope.shape[0], np.max(small_label)+1))\n",
    "# for pid in range(small_scope.shape[0]):\n",
    "#     small_all_true_label[pid][small_label[small_scope[pid][0]:small_scope[pid][1]+1]] = 1\n",
    "# small_all_true_label = np.reshape(small_all_true_label[:, 1:], -1)\n",
    "# np.save(DATA_PATH + '/'  + 'small_all_true_label.npy', small_all_true_label)"
   ]
  },
  {
   "cell_type": "code",
   "execution_count": 20,
   "metadata": {
    "ExecuteTime": {
     "start_time": "2023-04-05T21:28:45.025924Z",
     "end_time": "2023-04-05T21:28:45.069061Z"
    }
   },
   "outputs": [],
   "source": [
    "# small_all_true_label"
   ]
  },
  {
   "cell_type": "markdown",
   "metadata": {},
   "source": [
    "#### Medium"
   ]
  },
  {
   "cell_type": "code",
   "execution_count": 24,
   "metadata": {
    "ExecuteTime": {
     "start_time": "2023-04-05T21:28:58.908061Z",
     "end_time": "2023-04-05T21:28:58.980604Z"
    }
   },
   "outputs": [
    {
     "data": {
      "text/plain": "[2, 3, 4, 5, 8, 9, 10, 12, 13, 14, 15, 17, 20, 21, 38, 1235]"
     },
     "execution_count": 24,
     "metadata": {},
     "output_type": "execute_result"
    }
   ],
   "source": [
    "medium_label = np.load(DATA_PATH + '/' + 'medium_label_test_clean.npy')\n",
    "medium_scope = np.load(DATA_PATH + '/' + 'medium_entity_scope_test_clean.npy')\n",
    "sorted(Counter(medium_label).keys())"
   ]
  },
  {
   "cell_type": "code",
   "execution_count": 25,
   "metadata": {
    "ExecuteTime": {
     "start_time": "2023-04-05T21:28:59.739263Z",
     "end_time": "2023-04-05T21:28:59.742422Z"
    }
   },
   "outputs": [
    {
     "data": {
      "text/plain": "Counter({12: 610,\n         14: 42,\n         38: 125,\n         17: 52,\n         3: 8,\n         15: 532,\n         8: 51,\n         1235: 74,\n         4: 39,\n         21: 120,\n         9: 18,\n         5: 62,\n         10: 19,\n         20: 12,\n         2: 2,\n         13: 6})"
     },
     "execution_count": 25,
     "metadata": {},
     "output_type": "execute_result"
    }
   ],
   "source": [
    "Counter(medium_label)"
   ]
  },
  {
   "cell_type": "code",
   "execution_count": 26,
   "metadata": {
    "ExecuteTime": {
     "start_time": "2023-04-05T21:29:00.097382Z",
     "end_time": "2023-04-05T21:29:00.100269Z"
    }
   },
   "outputs": [],
   "source": [
    "# medium_label = np.load(DATA_PATH + '/' + 'medium_test_label.npy')\n",
    "# medium_scope = np.load(DATA_PATH + '/' + 'medium_test_entity_scope.npy')\n",
    "# for i in range(len(medium_label)):\n",
    "#     if medium_label[i] ==12:\n",
    "#         medium_label[i] = 0\n",
    "#     elif medium_label[i] == 2:\n",
    "#         medium_label[i] =1\n",
    "#     elif medium_label[i] == 17:\n",
    "#         medium_label[i] =2\n",
    "#     elif medium_label[i] == 38:\n",
    "#         medium_label[i] =3 \n",
    "#     elif medium_label[i] == 1235:\n",
    "#         medium_label[i] =4\n",
    "#     elif medium_label[i] == 10:\n",
    "#         medium_label[i] =5\n",
    "#     elif medium_label[i] == 21:\n",
    "#         medium_label[i] =6\n",
    "#     elif medium_label[i] == 15:\n",
    "#         medium_label[i] =7\n",
    "#     elif medium_label[i] == 14:\n",
    "#         medium_label[i] =8\n",
    "#     elif medium_label[i] == 3rooddd:\n",
    "#         medium_label[i] =9\n",
    "#     elif medium_label[i] == 8:\n",
    "#         medium_label[i] =10\n",
    "#     elif medium_label[i] == 4:\n",
    "#         medium_label[i] =11\n",
    "#     elif medium_label[i] == 9:\n",
    "#         medium_label[i] =12\n",
    "#     elif medium_label[i] == 5:\n",
    "#         medium_label[i] =13\n",
    "#     elif medium_label[i] == 20:\n",
    "#         medium_label[i] =14\n",
    "#     elif medium_label[i] == 13:\n",
    "#         medium_label[i] =15\n",
    "# Counter(medium_label)"
   ]
  },
  {
   "cell_type": "code",
   "execution_count": 27,
   "metadata": {
    "ExecuteTime": {
     "start_time": "2023-04-05T21:29:00.470813Z",
     "end_time": "2023-04-05T21:29:00.481436Z"
    }
   },
   "outputs": [],
   "source": [
    "# medium_all_true_label = np.zeros((medium_scope.shape[0], np.max(medium_label)+1))\n",
    "# for pid in range(small_scope.shape[0]):\n",
    "#     medium_all_true_label[pid][medium_all_true_label[medium_scope[pid][0]:medium_scope[pid][1]+1]] = 1\n",
    "# medium_all_true_label = np.reshape(medium_all_true_label[:, 0:], -1)\n",
    "# np.save(DATA_PATH + '/'  + 'medium_all_true_label.npy', medium_all_true_label)"
   ]
  },
  {
   "cell_type": "markdown",
   "metadata": {},
   "source": [
    "#### Large"
   ]
  },
  {
   "cell_type": "code",
   "execution_count": 28,
   "metadata": {
    "ExecuteTime": {
     "start_time": "2023-04-05T21:29:01.191786Z",
     "end_time": "2023-04-05T21:29:01.194978Z"
    }
   },
   "outputs": [],
   "source": [
    "# large_label = np.load(DATA_PATH + '/' + 'large_test_label.npy')\n",
    "# large_scope = np.load(DATA_PATH + '/' + 'large_test_entity_scope.npy')\n",
    "# sorted(Counter(large_label).keys())"
   ]
  },
  {
   "cell_type": "code",
   "execution_count": 29,
   "metadata": {
    "ExecuteTime": {
     "start_time": "2023-04-05T21:29:01.476557Z",
     "end_time": "2023-04-05T21:29:01.478932Z"
    }
   },
   "outputs": [],
   "source": [
    "# Counter(large_label)"
   ]
  },
  {
   "cell_type": "code",
   "execution_count": 30,
   "metadata": {
    "ExecuteTime": {
     "start_time": "2023-04-05T21:29:01.750899Z",
     "end_time": "2023-04-05T21:29:01.755082Z"
    }
   },
   "outputs": [],
   "source": [
    "# large_label = np.load(DATA_PATH + '/' + 'large_test_label.npy')\n",
    "# large_scope = np.load(DATA_PATH + '/' + 'large_test_entity_scope.npy')\n",
    "# large_label[large_label == 12] = 0\n",
    "# large_label[large_label == 2] = 1\n",
    "# large_label[large_label == 17] = 2\n",
    "# large_label[large_label == 38] = 3\n",
    "# large_label[large_label == 1235] = 4\n",
    "# large_label[large_label == 10] = 5\n",
    "# large_label[large_label == 21] = 6\n",
    "# large_label[large_label == 15] = 7\n",
    "# Counter(large_label)"
   ]
  },
  {
   "cell_type": "code",
   "execution_count": 31,
   "metadata": {
    "ExecuteTime": {
     "start_time": "2023-04-05T21:29:02.004728Z",
     "end_time": "2023-04-05T21:29:02.004951Z"
    }
   },
   "outputs": [],
   "source": [
    "# large_all_true_label = np.zeros((small_scope.shape[0], np.max(small_label)+1))\n",
    "# for pid in range(small_scope.shape[0]):\n",
    "#     large_all_true_label[pid][large_label[large_scope[pid][0]:large_scope[pid][1]+1]] = 1\n",
    "# large_all_true_label = np.reshape(large_all_true_label[:, 1:], -1)\n",
    "# np.save(DATA_PATH + '/'  + 'large_all_true_label.npy', large_all_true_label)"
   ]
  },
  {
   "cell_type": "markdown",
   "metadata": {},
   "source": [
    "### 4.2 Transform Label"
   ]
  },
  {
   "cell_type": "code",
   "execution_count": 32,
   "metadata": {
    "ExecuteTime": {
     "start_time": "2023-04-05T21:29:02.662586Z",
     "end_time": "2023-04-05T21:29:02.665234Z"
    }
   },
   "outputs": [],
   "source": [
    "def transform_label(label_pd):\n",
    "    for i in range(len(label_pd)):\n",
    "        if label_pd[i] ==12:\n",
    "            label_pd[i] = 0\n",
    "        elif label_pd[i] == 2:\n",
    "            label_pd[i] =1\n",
    "        elif label_pd[i] == 17:\n",
    "            label_pd[i] =2\n",
    "        elif label_pd[i] == 38:\n",
    "            label_pd[i] =3 \n",
    "        elif label_pd[i] == 1235:\n",
    "            label_pd[i] =4\n",
    "        elif label_pd[i] == 10:\n",
    "            label_pd[i] =5\n",
    "        elif label_pd[i] == 21:\n",
    "            label_pd[i] =6\n",
    "        elif label_pd[i] == 15:\n",
    "            label_pd[i] =7\n",
    "        elif label_pd[i] == 14:\n",
    "            label_pd[i] =8\n",
    "        elif label_pd[i] == 3:\n",
    "            label_pd[i] =9\n",
    "        elif label_pd[i] == 8:\n",
    "            label_pd[i] =10\n",
    "        elif label_pd[i] == 4:\n",
    "            label_pd[i] =11\n",
    "        elif label_pd[i] == 9:\n",
    "            label_pd[i] =12\n",
    "        elif label_pd[i] == 5:\n",
    "            label_pd[i] =13\n",
    "        elif label_pd[i] == 20:\n",
    "            label_pd[i] =14\n",
    "        elif label_pd[i] == 13:\n",
    "            label_pd[i] =15\n",
    "    return label_pd"
   ]
  },
  {
   "cell_type": "code",
   "execution_count": 33,
   "metadata": {
    "ExecuteTime": {
     "start_time": "2023-04-05T21:29:02.930566Z",
     "end_time": "2023-04-05T21:29:02.981572Z"
    }
   },
   "outputs": [],
   "source": [
    "# medium_label_transform = transform_label(np.load(DATA_PATH+'/' + 'medium_label_clean.npy'))\n",
    "medium_train_label_transform = transform_label( np.load(DATA_PATH+'/' + 'medium_label_train_clean.npy'))\n",
    "# medium_val_label_transform = transform_label(np.load(DATA_PATH+'/' + 'medium_val_label_clean.npy'))\n",
    "medium_test_label_transform = transform_label(np.load(DATA_PATH+'/' + 'medium_label_test_clean.npy'))"
   ]
  },
  {
   "cell_type": "code",
   "execution_count": 34,
   "metadata": {
    "ExecuteTime": {
     "start_time": "2023-04-05T21:29:03.418823Z",
     "end_time": "2023-04-05T21:29:03.421009Z"
    }
   },
   "outputs": [
    {
     "data": {
      "text/plain": "(13510, 1772)"
     },
     "execution_count": 34,
     "metadata": {},
     "output_type": "execute_result"
    }
   ],
   "source": [
    "# np.save(DATA_PATH+'/' + \"medium_label_transform\", medium_label_transform)\n",
    "np.save(DATA_PATH+'/' + \"medium_label_train_transform_clean\", medium_train_label_transform)\n",
    "# np.save(DATA_PATH+'/' + \"medium_val_label_transform\", medium_val_label_transform)\n",
    "np.save(DATA_PATH+'/' + \"medium_label_test_transform_clean\", medium_test_label_transform)\n",
    "len(medium_train_label_transform), len(medium_test_label_transform)"
   ]
  },
  {
   "cell_type": "code",
   "execution_count": 35,
   "metadata": {
    "ExecuteTime": {
     "start_time": "2023-04-05T21:29:04.069001Z",
     "end_time": "2023-04-05T21:29:04.075622Z"
    }
   },
   "outputs": [
    {
     "data": {
      "text/plain": "(13510, 1772)"
     },
     "execution_count": 35,
     "metadata": {},
     "output_type": "execute_result"
    }
   ],
   "source": [
    "len(medium_label_train), len(medium_label_test)"
   ]
  },
  {
   "cell_type": "code",
   "execution_count": 36,
   "metadata": {
    "ExecuteTime": {
     "start_time": "2023-04-05T21:29:04.586788Z",
     "end_time": "2023-04-05T21:29:04.589922Z"
    }
   },
   "outputs": [
    {
     "data": {
      "text/plain": "[0, 1, 2, 3, 4, 5, 6, 7, 8, 9, 10, 11, 12, 13, 14, 15]"
     },
     "execution_count": 36,
     "metadata": {},
     "output_type": "execute_result"
    }
   ],
   "source": [
    "medium_label_test_tramsform = np.load(DATA_PATH + '/' + 'medium_label_test_transform_clean.npy')\n",
    "medium_scope = np.load(DATA_PATH + '/' + 'medium_entity_scope_test_clean.npy')\n",
    "sorted(Counter(medium_label_test_tramsform).keys())"
   ]
  },
  {
   "cell_type": "code",
   "execution_count": 37,
   "metadata": {
    "ExecuteTime": {
     "start_time": "2023-04-05T21:29:05.437161Z",
     "end_time": "2023-04-05T21:29:05.443663Z"
    }
   },
   "outputs": [],
   "source": [
    "medium_all_true_label_transform = np.zeros((medium_scope.shape[0], np.max(medium_label_test_tramsform)+1))\n",
    "for pid in range(medium_scope.shape[0]):\n",
    "    medium_all_true_label_transform[pid][medium_label_test_tramsform[medium_scope[pid][0]:medium_scope[pid][1]+1]] = 1\n",
    "medium_all_true_label_transform = np.reshape(medium_all_true_label_transform[:, :], -1)\n",
    "np.save(DATA_PATH + '/'  + 'medium_flat_true_label_transform_clean.npy', medium_all_true_label_transform)"
   ]
  },
  {
   "cell_type": "markdown",
   "metadata": {},
   "source": [
    "### 4.2 Get Bottom ID"
   ]
  },
  {
   "cell_type": "code",
   "execution_count": 38,
   "metadata": {
    "ExecuteTime": {
     "start_time": "2023-04-05T21:29:07.769238Z",
     "end_time": "2023-04-05T21:29:07.776612Z"
    }
   },
   "outputs": [],
   "source": [
    "def transform_label_via_dict(label_pd, transform_dict):\n",
    "    for i in range(len(label_pd)):\n",
    "        label_pd[i] = transform_dict[label_pd[i]]\n",
    "    return label_pd"
   ]
  },
  {
   "cell_type": "markdown",
   "metadata": {},
   "source": [
    "### Medium"
   ]
  },
  {
   "cell_type": "code",
   "execution_count": 39,
   "metadata": {
    "ExecuteTime": {
     "start_time": "2023-04-05T21:29:10.304082Z",
     "end_time": "2023-04-05T21:29:10.307026Z"
    }
   },
   "outputs": [],
   "source": [
    "medium_label_bottom = np.load(DATA_PATH + '/' + 'medium_label_bottom_test_clean.npy')\n",
    "medium_scope = np.load(DATA_PATH + '/' + 'medium_entity_scope_test_clean.npy')\n",
    "# sorted(Counter(medium_label_bottom).keys())"
   ]
  },
  {
   "cell_type": "code",
   "execution_count": 42,
   "metadata": {
    "ExecuteTime": {
     "start_time": "2023-04-05T21:29:24.113307Z",
     "end_time": "2023-04-05T21:29:24.114620Z"
    }
   },
   "outputs": [],
   "source": [
    "transform_csv = pd.read_csv(RAW_DATA_PATH + '/' + 'genre2id.csv')"
   ]
  },
  {
   "cell_type": "code",
   "execution_count": 43,
   "metadata": {
    "ExecuteTime": {
     "start_time": "2023-04-05T21:29:25.420589Z",
     "end_time": "2023-04-05T21:29:25.423200Z"
    }
   },
   "outputs": [],
   "source": [
    "orig_id = transform_csv.orig_id.to_list()\n",
    "transform_id = transform_csv.transform_id.to_list()"
   ]
  },
  {
   "cell_type": "code",
   "execution_count": 44,
   "metadata": {
    "ExecuteTime": {
     "start_time": "2023-04-05T21:29:26.033066Z",
     "end_time": "2023-04-05T21:29:26.036834Z"
    }
   },
   "outputs": [],
   "source": [
    "transform_dict = {}\n",
    "for i in zip(orig_id, transform_id):\n",
    "    transform_dict[i[0]] = i[1]\n",
    "# transform_dict"
   ]
  },
  {
   "cell_type": "code",
   "execution_count": 45,
   "metadata": {
    "ExecuteTime": {
     "start_time": "2023-04-05T21:29:26.541498Z",
     "end_time": "2023-04-05T21:29:26.576650Z"
    }
   },
   "outputs": [],
   "source": [
    "# medium_label_bottom_transform = transform_label_via_dict(np.load(DATA_PATH+'/' + 'medium_label_bottom.npy'), transform_dict)\n",
    "medium_train_label_bottom_transform_clean = transform_label_via_dict( np.load(DATA_PATH+'/' + 'medium_label_bottom_train_clean.npy'), transform_dict)\n",
    "# medium_val_label_bottom_transform = transform_label_via_dict(np.load(DATA_PATH+'/' + 'medium_label_bottom_val.npy'), transform_dict)\n",
    "medium_test_label_bottom_transform_clean = transform_label_via_dict(np.load(DATA_PATH+'/' + 'medium_label_bottom_test_clean.npy'), transform_dict)"
   ]
  },
  {
   "cell_type": "code",
   "execution_count": 46,
   "metadata": {
    "ExecuteTime": {
     "start_time": "2023-04-05T21:29:27.093028Z",
     "end_time": "2023-04-05T21:29:27.095667Z"
    }
   },
   "outputs": [
    {
     "data": {
      "text/plain": "(13510, 1772)"
     },
     "execution_count": 46,
     "metadata": {},
     "output_type": "execute_result"
    }
   ],
   "source": [
    "# np.save(DATA_PATH+'/' + \"medium_label_bottom_transform\", medium_label_bottom_transform)\n",
    "np.save(DATA_PATH+'/' + \"medium_label_bottom_train_transform_clean\", medium_train_label_bottom_transform_clean)\n",
    "# np.save(DATA_PATH+'/' + \"medium_val_label_bottom_transform\", medium_val_label_bottom_transform)\n",
    "np.save(DATA_PATH+'/' + \"medium_label_bottom_test_transform_clean\", medium_test_label_bottom_transform_clean)\n",
    "len(medium_train_label_bottom_transform_clean),  len(medium_test_label_bottom_transform_clean)"
   ]
  },
  {
   "cell_type": "code",
   "execution_count": 47,
   "metadata": {
    "ExecuteTime": {
     "start_time": "2023-04-05T21:29:27.711249Z",
     "end_time": "2023-04-05T21:29:27.720130Z"
    }
   },
   "outputs": [],
   "source": [
    "medium_all_true_label_bottom_transform_clean = np.zeros((medium_scope.shape[0], np.max(medium_train_label_bottom_transform_clean)+1))\n",
    "for pid in range(medium_scope.shape[0]):\n",
    "    medium_all_true_label_bottom_transform_clean[pid][medium_test_label_bottom_transform_clean[medium_scope[pid][0]:medium_scope[pid][1]+1]] = 1\n",
    "medium_all_true_label_bottom_transform_clean = np.reshape(medium_all_true_label_bottom_transform_clean[:, :], -1)\n",
    "np.save(DATA_PATH + '/'  + 'medium_flat_true_label_bottom_transform_clean.npy', medium_all_true_label_bottom_transform_clean)"
   ]
  },
  {
   "cell_type": "code",
   "execution_count": 48,
   "metadata": {
    "ExecuteTime": {
     "start_time": "2023-04-05T21:29:28.395626Z",
     "end_time": "2023-04-05T21:29:28.440944Z"
    }
   },
   "outputs": [
    {
     "data": {
      "text/plain": "array([1., 0., 0., ..., 0., 0., 0.])"
     },
     "execution_count": 48,
     "metadata": {},
     "output_type": "execute_result"
    }
   ],
   "source": [
    "medium_all_true_label_bottom_transform_clean"
   ]
  },
  {
   "cell_type": "code",
   "execution_count": 49,
   "metadata": {
    "ExecuteTime": {
     "start_time": "2023-04-05T21:29:29.183953Z",
     "end_time": "2023-04-05T21:29:29.188003Z"
    }
   },
   "outputs": [
    {
     "data": {
      "text/plain": "(565, 77)"
     },
     "execution_count": 49,
     "metadata": {},
     "output_type": "execute_result"
    }
   ],
   "source": [
    "medium_all_true_label_bottom_transform_clean.reshape(-1, 77).shape"
   ]
  },
  {
   "cell_type": "code",
   "execution_count": 50,
   "metadata": {
    "ExecuteTime": {
     "start_time": "2023-04-05T21:29:29.530229Z",
     "end_time": "2023-04-05T21:29:29.533004Z"
    }
   },
   "outputs": [
    {
     "data": {
      "text/plain": "array([[1., 0., 0., ..., 0., 0., 0.],\n       [1., 0., 0., ..., 0., 0., 0.],\n       [0., 0., 0., ..., 0., 0., 0.],\n       ...,\n       [0., 0., 0., ..., 0., 0., 0.],\n       [1., 0., 0., ..., 0., 0., 0.],\n       [0., 0., 0., ..., 0., 0., 0.]])"
     },
     "execution_count": 50,
     "metadata": {},
     "output_type": "execute_result"
    }
   ],
   "source": [
    "medium_all_true_label_bottom_transform_clean.reshape(-1, 77)"
   ]
  },
  {
   "cell_type": "code",
   "execution_count": 51,
   "metadata": {
    "ExecuteTime": {
     "start_time": "2023-04-05T21:29:30.320313Z",
     "end_time": "2023-04-05T21:29:30.324674Z"
    }
   },
   "outputs": [],
   "source": [
    "import torch.nn as nn\n",
    "import torch"
   ]
  },
  {
   "cell_type": "code",
   "execution_count": 52,
   "metadata": {
    "ExecuteTime": {
     "start_time": "2023-04-05T21:29:30.775942Z",
     "end_time": "2023-04-05T21:29:30.779000Z"
    }
   },
   "outputs": [],
   "source": [
    "genre_matrixs = []\n",
    "genre_matrixs.append(nn.Embedding(16, 230, _weight=nn.init.xavier_uniform_(\n",
    "                torch.Tensor(16, 230))))"
   ]
  },
  {
   "cell_type": "code",
   "execution_count": null,
   "metadata": {},
   "outputs": [],
   "source": []
  }
 ],
 "metadata": {
  "kernelspec": {
   "display_name": "Python 3",
   "language": "python",
   "name": "python3"
  },
  "language_info": {
   "codemirror_mode": {
    "name": "ipython",
    "version": 3
   },
   "file_extension": ".py",
   "mimetype": "text/x-python",
   "name": "python",
   "nbconvert_exporter": "python",
   "pygments_lexer": "ipython3",
   "version": "3.8.5"
  }
 },
 "nbformat": 4,
 "nbformat_minor": 5
}
