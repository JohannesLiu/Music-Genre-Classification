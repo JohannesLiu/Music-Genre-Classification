{
 "cells": [
  {
   "cell_type": "markdown",
   "source": [
    "# Evaluation"
   ],
   "metadata": {
    "collapsed": false
   }
  },
  {
   "cell_type": "markdown",
   "source": [
    "## Load"
   ],
   "metadata": {
    "collapsed": false,
    "pycharm": {
     "name": "#%% md\n"
    }
   }
  },
  {
   "cell_type": "code",
   "execution_count": 245,
   "outputs": [],
   "source": [
    "import torch\n",
    "from sklearn.metrics import top_k_accuracy_score\n",
    "\n",
    "from kddirkit.metrics import metric\n",
    "\n",
    "import IPython.display as ipd\n",
    "import numpy as np\n",
    "import pandas as pd\n",
    "import matplotlib.pyplot as plt\n",
    "import seaborn as sns\n",
    "from sklearn.preprocessing import MultiLabelBinarizer\n",
    "from sklearn.svm import SVC\n",
    "from sklearn.linear_model import LogisticRegression\n",
    "from sklearn.neighbors import KNeighborsClassifier\n",
    "import os\n",
    "import sys\n",
    "import sklearn as skl\n",
    "import sklearn.utils, sklearn.preprocessing, sklearn.decomposition, sklearn.svm\n",
    "from sklearn.metrics import average_precision_score\n",
    "from sklearn.metrics import precision_recall_curve\n",
    "from ast import literal_eval\n",
    "from joblib import dump, load\n",
    "\n",
    "\"\"\n",
    "sns.set_context(\"notebook\", font_scale=1.5)\n",
    "plt.rcParams['figure.figsize'] = (17, 5)\n",
    "\n",
    "import platform\n",
    "if 'Windows' in platform.platform():\n",
    "    ROOT_PATH = \"D:/PycharmProjects/HMAN\"\n",
    "else:\n",
    "    ROOT_PATH = \"/home/xkliu/PycharmProjects/HMAN\"\n",
    "RAW_DATA_PATH = ROOT_PATH  + \"/raw_data\"\n",
    "DATA_PATH = ROOT_PATH + \"/data\"\n",
    "os.chdir(ROOT_PATH)\n",
    "sys.path.append(\"./\")\n",
    "MODEL_SAVE_PATH = ROOT_PATH + \"/outputs/ckpt/best_results\"\n",
    "PLOT_DATA_PATH = ROOT_PATH + \"/outputs/plot\"\n",
    "from kddirkit.utils import utils\n"
   ],
   "metadata": {
    "collapsed": false,
    "pycharm": {
     "name": "#%%\n"
    }
   }
  },
  {
   "cell_type": "code",
   "execution_count": 179,
   "outputs": [],
   "source": [
    "import logging\n",
    "import torch.nn as nn\n",
    "import numpy as np\n",
    "\n",
    "from kddirkit.networks.encoders import SentenceEncoder\n",
    "from kddirkit.networks.models import BaselineModel\n",
    "from kddirkit.config import *\n",
    "# from kddirkit.dataloaders import LoadNYT, LoadHierData\n",
    "from kddirkit.frameworks import Trainer\n",
    "from kddirkit.losses.FocalLoss import FocalLoss\n",
    "\n",
    "project_name = 'HMAN'\n",
    "\n",
    "logger = logging.getLogger(project_name)"
   ],
   "metadata": {
    "collapsed": false,
    "pycharm": {
     "name": "#%%\n"
    }
   }
  },
  {
   "cell_type": "code",
   "execution_count": 180,
   "outputs": [],
   "source": [
    "track_dtype = {'track_id': int, 'album_id': int, 'album_type': str, 'artist_id': int, 'set_split': str,\n",
    "               'set_subset': str, 'track_genre_top': str, 'track_genres': str, 'track_genres_all': str,\n",
    "               'track_title': str}\n",
    "genres_converters = {'track_genres': literal_eval, 'track_genres_all': literal_eval}\n",
    "medium_data = pd.read_csv(RAW_DATA_PATH + '/medium_data.csv', converters=genres_converters)"
   ],
   "metadata": {
    "collapsed": false,
    "pycharm": {
     "name": "#%%\n"
    }
   }
  },
  {
   "cell_type": "code",
   "execution_count": 181,
   "outputs": [],
   "source": [
    "medium_data_train = pd.read_csv(RAW_DATA_PATH + '/medium_data_train.csv', converters=genres_converters)\n",
    "medium_data_test = pd.read_csv(RAW_DATA_PATH + '/medium_data_test.csv', converters=genres_converters)\n",
    "medium_data_val = pd.read_csv(RAW_DATA_PATH + '/medium_data_val.csv', converters=genres_converters)"
   ],
   "metadata": {
    "collapsed": false,
    "pycharm": {
     "name": "#%%\n"
    }
   }
  },
  {
   "cell_type": "code",
   "execution_count": 182,
   "outputs": [],
   "source": [
    "medium_instance_triple = np.load(DATA_PATH + '/' + 'medium_instance_triple.npy')\n",
    "medium_instance_scope = np.load(DATA_PATH + '/' + 'medium_instance_scope.npy')\n",
    "medium_label = np.load(DATA_PATH + '/' + 'medium_label.npy')"
   ],
   "metadata": {
    "collapsed": false,
    "pycharm": {
     "name": "#%%\n"
    }
   }
  },
  {
   "cell_type": "code",
   "execution_count": 183,
   "outputs": [],
   "source": [
    "medium_train_instance_triple = np.load(DATA_PATH + '/' + 'medium_train_instance_triple.npy')\n",
    "medium_train_instance_scope = np.load(DATA_PATH + '/' + 'medium_train_instance_scope.npy')\n",
    "medium_train_label = np.load(DATA_PATH + '/' + 'medium_train_label.npy')"
   ],
   "metadata": {
    "collapsed": false,
    "pycharm": {
     "name": "#%%\n"
    }
   }
  },
  {
   "cell_type": "code",
   "execution_count": 184,
   "outputs": [],
   "source": [
    "medium_val_instance_triple = np.load(DATA_PATH + '/' + 'medium_val_instance_triple.npy')\n",
    "medium_val_instance_scope = np.load(DATA_PATH + '/' + 'medium_val_instance_scope.npy')\n",
    "medium_val_label = np.load(DATA_PATH + '/' + 'medium_val_label.npy')"
   ],
   "metadata": {
    "collapsed": false,
    "pycharm": {
     "name": "#%%\n"
    }
   }
  },
  {
   "cell_type": "code",
   "execution_count": 185,
   "outputs": [],
   "source": [
    "medium_test_entity_pair = np.load(DATA_PATH + '/' + 'medium_test_entity_pair.npy')\n",
    "medium_test_entity_scope = np.load(DATA_PATH + '/' + 'medium_test_entity_scope.npy')\n",
    "medium_test_label = np.load(DATA_PATH + '/' + 'medium_test_label.npy')"
   ],
   "metadata": {
    "collapsed": false,
    "pycharm": {
     "name": "#%%\n"
    }
   }
  },
  {
   "cell_type": "code",
   "execution_count": 186,
   "outputs": [],
   "source": [
    "medium_label_transform = np.load(DATA_PATH + '/' + 'medium_label_transform.npy')\n",
    "medium_train_label_transform = np.load(DATA_PATH + '/' + 'medium_train_label_transform.npy')\n",
    "medium_val_label_transform = np.load(DATA_PATH + '/' + 'medium_val_label_transform.npy')\n",
    "medium_test_label_transform = np.load(DATA_PATH + '/' + 'medium_test_label_transform.npy')\n",
    "medium_label_bottom_transform = np.load(DATA_PATH + '/' + 'medium_label_bottom_transform.npy')\n",
    "medium_train_label_bottom_transform = np.load(DATA_PATH + '/' + 'medium_train_label_bottom_transform.npy')\n",
    "medium_val_label_bottom_transform = np.load(DATA_PATH + '/' + 'medium_val_label_bottom_transform.npy')\n",
    "medium_test_label_bottom_transform = np.load(DATA_PATH + '/' + 'medium_test_label_bottom_transform.npy')"
   ],
   "metadata": {
    "collapsed": false,
    "pycharm": {
     "name": "#%%\n"
    }
   }
  },
  {
   "cell_type": "code",
   "execution_count": 187,
   "outputs": [
    {
     "name": "stderr",
     "output_type": "stream",
     "text": [
      "C:\\Users\\Johan\\AppData\\Local\\Temp\\ipykernel_29488\\691608824.py:2: ParserWarning: Falling back to the 'python' engine because the 'c' engine does not support regex separators (separators > 1 char and different from '\\s+' are interpreted as regex); you can avoid this warning by specifying engine='python'.\n",
      "  medium_data_train_sort = pd.read_csv(RAW_DATA_PATH + '/' + 'medium_data_train_sort.txt', sep ='-----',  skiprows =1, names  = col_name)\n",
      "C:\\Users\\Johan\\AppData\\Local\\Temp\\ipykernel_29488\\691608824.py:3: ParserWarning: Falling back to the 'python' engine because the 'c' engine does not support regex separators (separators > 1 char and different from '\\s+' are interpreted as regex); you can avoid this warning by specifying engine='python'.\n",
      "  medium_data_val_sort = pd.read_csv(RAW_DATA_PATH + '/' + 'medium_data_VAL_sort.txt', sep = '-----',  skiprows =1, names  = col_name)\n",
      "C:\\Users\\Johan\\AppData\\Local\\Temp\\ipykernel_29488\\691608824.py:4: ParserWarning: Falling back to the 'python' engine because the 'c' engine does not support regex separators (separators > 1 char and different from '\\s+' are interpreted as regex); you can avoid this warning by specifying engine='python'.\n",
      "  medium_data_test_sort = pd.read_csv(RAW_DATA_PATH + '/' + 'medium_data_test_sort.txt', sep = '-----', skiprows =1, names  = col_name)\n"
     ]
    }
   ],
   "source": [
    "col_name = ['track_id', 'album_id', 'album_type', 'artist_id', 'set_split', 'set_subset', 'track_genres_top', 'track_genre', 'track_genres_all']\n",
    "medium_data_train_sort = pd.read_csv(RAW_DATA_PATH + '/' + 'medium_data_train_sort.txt', sep ='-----',  skiprows =1, names  = col_name)\n",
    "medium_data_val_sort = pd.read_csv(RAW_DATA_PATH + '/' + 'medium_data_VAL_sort.txt', sep = '-----',  skiprows =1, names  = col_name)\n",
    "medium_data_test_sort = pd.read_csv(RAW_DATA_PATH + '/' + 'medium_data_test_sort.txt', sep = '-----', skiprows =1, names  = col_name)"
   ],
   "metadata": {
    "collapsed": false,
    "pycharm": {
     "name": "#%%\n"
    }
   }
  },
  {
   "cell_type": "code",
   "execution_count": 188,
   "outputs": [
    {
     "data": {
      "text/plain": "       track_id  album_id        album_type  artist_id set_split set_subset  \\\n0             2         1             Album          1  training      small   \n1             5         1             Album          1  training      small   \n2             3         1             Album          1  training     medium   \n3           134         1             Album          1  training     medium   \n4         10666         1             Album          1  training     medium   \n...         ...       ...               ...        ...       ...        ...   \n19917    155297     22935             Album      24354  training     medium   \n19918    155298     22936             Album      22050  training     medium   \n19919    155306     22936             Album      22050  training     medium   \n19920    155307     22937  Live Performance       7820  training     medium   \n19921    155314     22940  Live Performance      24357  training     medium   \n\n      track_genres_top      track_genre track_genres_all  \n0              Hip-Hop             [21]             [21]  \n1              Hip-Hop             [21]             [21]  \n2              Hip-Hop             [21]             [21]  \n3              Hip-Hop             [21]             [21]  \n4              Hip-Hop             [21]             [21]  \n...                ...              ...              ...  \n19917     Instrumental  [18, 107, 1235]  [107, 18, 1235]  \n19918             Folk        [17, 103]        [17, 103]  \n19919             Folk        [17, 103]        [17, 103]  \n19920     Experimental              [1]          [1, 38]  \n19921             Rock             [25]         [25, 12]  \n\n[19922 rows x 9 columns]",
      "text/html": "<div>\n<style scoped>\n    .dataframe tbody tr th:only-of-type {\n        vertical-align: middle;\n    }\n\n    .dataframe tbody tr th {\n        vertical-align: top;\n    }\n\n    .dataframe thead th {\n        text-align: right;\n    }\n</style>\n<table border=\"1\" class=\"dataframe\">\n  <thead>\n    <tr style=\"text-align: right;\">\n      <th></th>\n      <th>track_id</th>\n      <th>album_id</th>\n      <th>album_type</th>\n      <th>artist_id</th>\n      <th>set_split</th>\n      <th>set_subset</th>\n      <th>track_genres_top</th>\n      <th>track_genre</th>\n      <th>track_genres_all</th>\n    </tr>\n  </thead>\n  <tbody>\n    <tr>\n      <th>0</th>\n      <td>2</td>\n      <td>1</td>\n      <td>Album</td>\n      <td>1</td>\n      <td>training</td>\n      <td>small</td>\n      <td>Hip-Hop</td>\n      <td>[21]</td>\n      <td>[21]</td>\n    </tr>\n    <tr>\n      <th>1</th>\n      <td>5</td>\n      <td>1</td>\n      <td>Album</td>\n      <td>1</td>\n      <td>training</td>\n      <td>small</td>\n      <td>Hip-Hop</td>\n      <td>[21]</td>\n      <td>[21]</td>\n    </tr>\n    <tr>\n      <th>2</th>\n      <td>3</td>\n      <td>1</td>\n      <td>Album</td>\n      <td>1</td>\n      <td>training</td>\n      <td>medium</td>\n      <td>Hip-Hop</td>\n      <td>[21]</td>\n      <td>[21]</td>\n    </tr>\n    <tr>\n      <th>3</th>\n      <td>134</td>\n      <td>1</td>\n      <td>Album</td>\n      <td>1</td>\n      <td>training</td>\n      <td>medium</td>\n      <td>Hip-Hop</td>\n      <td>[21]</td>\n      <td>[21]</td>\n    </tr>\n    <tr>\n      <th>4</th>\n      <td>10666</td>\n      <td>1</td>\n      <td>Album</td>\n      <td>1</td>\n      <td>training</td>\n      <td>medium</td>\n      <td>Hip-Hop</td>\n      <td>[21]</td>\n      <td>[21]</td>\n    </tr>\n    <tr>\n      <th>...</th>\n      <td>...</td>\n      <td>...</td>\n      <td>...</td>\n      <td>...</td>\n      <td>...</td>\n      <td>...</td>\n      <td>...</td>\n      <td>...</td>\n      <td>...</td>\n    </tr>\n    <tr>\n      <th>19917</th>\n      <td>155297</td>\n      <td>22935</td>\n      <td>Album</td>\n      <td>24354</td>\n      <td>training</td>\n      <td>medium</td>\n      <td>Instrumental</td>\n      <td>[18, 107, 1235]</td>\n      <td>[107, 18, 1235]</td>\n    </tr>\n    <tr>\n      <th>19918</th>\n      <td>155298</td>\n      <td>22936</td>\n      <td>Album</td>\n      <td>22050</td>\n      <td>training</td>\n      <td>medium</td>\n      <td>Folk</td>\n      <td>[17, 103]</td>\n      <td>[17, 103]</td>\n    </tr>\n    <tr>\n      <th>19919</th>\n      <td>155306</td>\n      <td>22936</td>\n      <td>Album</td>\n      <td>22050</td>\n      <td>training</td>\n      <td>medium</td>\n      <td>Folk</td>\n      <td>[17, 103]</td>\n      <td>[17, 103]</td>\n    </tr>\n    <tr>\n      <th>19920</th>\n      <td>155307</td>\n      <td>22937</td>\n      <td>Live Performance</td>\n      <td>7820</td>\n      <td>training</td>\n      <td>medium</td>\n      <td>Experimental</td>\n      <td>[1]</td>\n      <td>[1, 38]</td>\n    </tr>\n    <tr>\n      <th>19921</th>\n      <td>155314</td>\n      <td>22940</td>\n      <td>Live Performance</td>\n      <td>24357</td>\n      <td>training</td>\n      <td>medium</td>\n      <td>Rock</td>\n      <td>[25]</td>\n      <td>[25, 12]</td>\n    </tr>\n  </tbody>\n</table>\n<p>19922 rows × 9 columns</p>\n</div>"
     },
     "execution_count": 188,
     "metadata": {},
     "output_type": "execute_result"
    }
   ],
   "source": [
    "medium_data_train_sort"
   ],
   "metadata": {
    "collapsed": false,
    "pycharm": {
     "name": "#%%\n"
    }
   }
  },
  {
   "cell_type": "code",
   "execution_count": 189,
   "outputs": [],
   "source": [
    "# Load metadata and features.\n",
    "tracks = utils.load(RAW_DATA_PATH + '/fma_metadata/tracks.csv')\n",
    "genres = utils.load(RAW_DATA_PATH + '/fma_metadata/genres.csv')\n",
    "features = utils.load(RAW_DATA_PATH + '/fma_metadata/features.csv')\n",
    "echonest = utils.load(RAW_DATA_PATH + '/fma_metadata/echonest.csv')"
   ],
   "metadata": {
    "collapsed": false,
    "pycharm": {
     "name": "#%%\n"
    }
   }
  },
  {
   "cell_type": "code",
   "execution_count": 190,
   "outputs": [
    {
     "data": {
      "text/plain": "0             2\n1             5\n2             3\n3           134\n4         10666\n          ...  \n19917    155297\n19918    155298\n19919    155306\n19920    155307\n19921    155314\nName: track_id, Length: 19922, dtype: int64"
     },
     "execution_count": 190,
     "metadata": {},
     "output_type": "execute_result"
    }
   ],
   "source": [
    "medium_data_train_sort.track_id"
   ],
   "metadata": {
    "collapsed": false,
    "pycharm": {
     "name": "#%%\n"
    }
   }
  },
  {
   "cell_type": "code",
   "execution_count": 191,
   "outputs": [
    {
     "name": "stdout",
     "output_type": "stream",
     "text": [
      "19922 training examples, 2573 testing examples\n",
      "518 features, 16 classes\n"
     ]
    }
   ],
   "source": [
    "small = tracks['set', 'subset'] <= 'medium'\n",
    "\n",
    "train = tracks['set', 'split'] == 'training'\n",
    "small = tracks['set', 'subset'] <= 'medium'\n",
    "\n",
    "train = tracks['set', 'split'] == 'training'\n",
    "val = tracks['set', 'split'] == 'validation'\n",
    "test = tracks['set', 'split'] == 'test'\n",
    "\n",
    "chroma_cens_feature = features.loc[medium_data_train_sort.track_id, 'chroma_cens']\n",
    "chroma_cqt_feature = features.loc[medium_data_train_sort.track_id, 'chroma_cens']\n",
    "chroma_stft_feature = features.loc[medium_data_train_sort.track_id, 'chroma_cens']\n",
    "chroma_feature = pd.concat([chroma_cens_feature, chroma_cqt_feature, chroma_stft_feature], axis = 1)\n",
    "tonnetz_feature = features.loc[medium_data_train_sort.track_id, 'tonnetz']\n",
    "mfcc_feature = features.loc[medium_data_train_sort.track_id, 'mfcc']\n",
    "centroid_feature = features.loc[medium_data_train_sort.track_id, 'spectral_centroid']\n",
    "bandwidth_feature = features.loc[medium_data_train_sort.track_id, 'spectral_bandwidth']\n",
    "contrast_feature = features.loc[medium_data_train_sort.track_id, 'spectral_contrast']\n",
    "rolloff_feature = features.loc[medium_data_train_sort.track_id, 'spectral_rolloff']\n",
    "rmse_feature = features.loc[medium_data_train_sort.track_id, 'rmse']\n",
    "zcr_feature = features.loc[medium_data_train_sort.track_id, 'zcr']\n",
    "X_train = np.array(pd.concat([chroma_feature, tonnetz_feature, mfcc_feature, centroid_feature, bandwidth_feature, contrast_feature, rolloff_feature, rmse_feature, zcr_feature], axis = 1))\n",
    "\n",
    "chroma_cens_feature = features.loc[medium_data_test_sort.track_id, 'chroma_cens']\n",
    "chroma_cqt_feature = features.loc[medium_data_test_sort.track_id, 'chroma_cens']\n",
    "chroma_stft_feature = features.loc[medium_data_test_sort.track_id, 'chroma_cens']\n",
    "chroma_feature = pd.concat([chroma_cens_feature, chroma_cqt_feature, chroma_stft_feature], axis = 1)\n",
    "tonnetz_feature = features.loc[medium_data_test_sort.track_id, 'tonnetz']\n",
    "mfcc_feature = features.loc[medium_data_test_sort.track_id, 'mfcc']\n",
    "centroid_feature = features.loc[medium_data_test_sort.track_id, 'spectral_centroid']\n",
    "bandwidth_feature = features.loc[medium_data_test_sort.track_id, 'spectral_bandwidth']\n",
    "contrast_feature = features.loc[medium_data_test_sort.track_id, 'spectral_contrast']\n",
    "rolloff_feature = features.loc[medium_data_test_sort.track_id, 'spectral_rolloff']\n",
    "rmse_feature = features.loc[medium_data_test_sort.track_id, 'rmse']\n",
    "zcr_feature = features.loc[medium_data_test_sort.track_id, 'zcr']\n",
    "X_test = np.array(pd.concat(\n",
    "    [chroma_feature, tonnetz_feature, mfcc_feature, centroid_feature, bandwidth_feature,\n",
    "     contrast_feature, rolloff_feature, rmse_feature, zcr_feature], axis=1))\n",
    "\n",
    "y_train = tracks.loc[medium_data_train_sort.track_id, ('track', 'genre_top')]\n",
    "y_val = tracks.loc[medium_data_val_sort.track_id, ('track', 'genre_top')]\n",
    "y_test = tracks.loc[medium_data_test_sort.track_id, ('track', 'genre_top')]\n",
    "# X_train = features.loc[medium_data_train_sort.track_id, 'chroma_cens']\n",
    "X_val= features.loc[medium_data_val_sort.track_id, 'chroma_cens']\n",
    "# X_test = features.loc[medium_data_test_sort.track_id, 'chroma_cens']\n",
    "\n",
    "print('{} training examples, {} testing examples'.format(y_train.size, y_test.size))\n",
    "print('{} features, {} classes'.format(X_train.shape[1], np.unique(y_train).size))"
   ],
   "metadata": {
    "collapsed": false,
    "pycharm": {
     "name": "#%%\n"
    }
   }
  },
  {
   "cell_type": "code",
   "execution_count": 192,
   "outputs": [
    {
     "data": {
      "text/plain": "array([[0., 0., 0., ..., 1., 0., 0.],\n       [0., 0., 0., ..., 0., 0., 0.],\n       [0., 0., 0., ..., 0., 0., 0.],\n       ...,\n       [0., 0., 0., ..., 1., 0., 0.],\n       [0., 0., 0., ..., 1., 0., 0.],\n       [0., 0., 0., ..., 1., 0., 0.]])"
     },
     "execution_count": 192,
     "metadata": {},
     "output_type": "execute_result"
    }
   ],
   "source": [
    "from sklearn.neural_network import MLPClassifier\n",
    "\n",
    "# Be sure training samples are shuffled.\n",
    "X_train, y_train = skl.utils.shuffle(X_train, y_train, random_state=42)\n",
    "\n",
    "\n",
    "X_train_np = np.array(X_train).astype('float32')\n",
    "X_test_np = np.array(X_test).astype('float32')\n",
    "X_val_np = np.array(X_val).astype('float32')\n",
    "\n",
    "y_train_np = np.argmax(pd.get_dummies(y_train).to_numpy(), axis=1)\n",
    "y_test_np = np.argmax(pd.get_dummies(y_test).to_numpy(), axis = 1)\n",
    "y_val_np = np.argmax(pd.get_dummies(y_val).to_numpy(), axis = 1)\n",
    "X_train_np\n",
    "\n",
    "\n",
    "y_test_np_ = np.zeros((len(y_test_np) , 16))  # 相当于 做了一个onehot_dict\n",
    "y_test_np_[np.arange(len(y_test_np) ), y_test_np] = 1  # 为onehot_dict 赋值\n",
    "y_test_np_"
   ],
   "metadata": {
    "collapsed": false,
    "pycharm": {
     "name": "#%%\n"
    }
   }
  },
  {
   "cell_type": "code",
   "execution_count": 193,
   "outputs": [
    {
     "data": {
      "text/plain": "array([[-0.30672131,  0.27931084,  0.11356005, ..., -0.51318961,\n        -0.81050529, -0.72263236],\n       [ 0.18826375,  0.14552122,  0.09464844, ...,  0.07462511,\n         1.1971453 ,  2.10486865],\n       [-0.22370899, -0.32126444, -0.15783681, ..., -0.51318961,\n        -0.71166087, -0.82982455],\n       ...,\n       [-0.13931596, -0.00646161, -0.01418914, ..., -0.51318961,\n        -0.67092247, -0.49690338],\n       [ 0.38393488,  2.14125101,  0.45401017, ...,  0.56447071,\n        -0.63792314,  0.14908666],\n       [-0.31469917, -0.53799579, -0.24250403, ...,  1.34822367,\n        -0.68292   , -1.27547641]])"
     },
     "execution_count": 193,
     "metadata": {},
     "output_type": "execute_result"
    }
   ],
   "source": [
    "# Standardize features by removing the mean and scaling to unit variance.\n",
    "scaler = skl.preprocessing.StandardScaler(copy=False)\n",
    "scaler.fit_transform(X_train)\n",
    "scaler.transform(X_test)\n",
    "\n",
    "# Support vector classification.\n",
    "X_train"
   ],
   "metadata": {
    "collapsed": false,
    "pycharm": {
     "name": "#%%\n"
    }
   }
  },
  {
   "cell_type": "code",
   "execution_count": 194,
   "outputs": [],
   "source": [
    "from kddirkit.dataloaders import LoadFMA\n",
    "feature_mode = \"fma_all\"\n",
    "device = \"cpu\"\n",
    "testDataLoader = LoadFMA.FMATestDataLoader(mode=\"pr\", use_label = 'top' , feature_mode = feature_mode, device=device)\n",
    "\n",
    "\n",
    "y_label_ = np.zeros((len(y_test_np), 16))\n",
    "y_label_[np.arange(len(y_test_np)), y_test_np] = 1\n",
    "y_label_\n",
    "\n",
    "exclude_na_flatten_label = y_label_.reshape(-1)\n",
    "exclude_na_label = y_label_\n",
    "index_non_zero = np.sum(exclude_na_label, 0) > 0\n",
    "\n",
    "evalMetric = metric.EvaFMATMetric(testDataLoader.id2genre,\n",
    "                                               testDataLoader.fewrel_100,\n",
    "                                               testDataLoader.fewrel_200,\n",
    "                                               exclude_na_flatten_label,\n",
    "                                               exclude_na_label,\n",
    "                                               index_non_zero\n",
    "                                               )"
   ],
   "metadata": {
    "collapsed": false,
    "pycharm": {
     "name": "#%%\n"
    }
   }
  },
  {
   "cell_type": "code",
   "execution_count": 195,
   "outputs": [
    {
     "data": {
      "text/plain": "array([ 0,  1,  2,  3,  4,  5,  6,  7,  8,  9, 10, 11, 12, 13, 14, 15])"
     },
     "execution_count": 195,
     "metadata": {},
     "output_type": "execute_result"
    }
   ],
   "source": [
    "few_rel100 = ['Easy Listening', 'International', 'Blues', 'Spoken', 'Soul-RnB']\n",
    "few_rel200 = ['Easy Listening', 'International', 'Blues', 'Spoken', 'Soul-RnB', 'Country']\n",
    "labels = np.array(range(16))\n",
    "labels"
   ],
   "metadata": {
    "collapsed": false,
    "pycharm": {
     "name": "#%%\n"
    }
   }
  },
  {
   "cell_type": "code",
   "execution_count": 196,
   "outputs": [],
   "source": [
    "few_relid100 = {15: 'Easy Listening', 1: 'International', 9: 'Blues', 14: 'Spoken', 8: 'Soul-RnB'}\n",
    "few_relid200 = {15: 'Easy Listening', 1: 'International', 9: 'Blues', 14: 'Spoken', 8: 'Soul-RnB', 12: 'Country'}"
   ],
   "metadata": {
    "collapsed": false,
    "pycharm": {
     "name": "#%%\n"
    }
   }
  },
  {
   "cell_type": "code",
   "execution_count": 197,
   "outputs": [
    {
     "data": {
      "text/plain": "True"
     },
     "execution_count": 197,
     "metadata": {},
     "output_type": "execute_result"
    }
   ],
   "source": [
    "15 in few_relid100"
   ],
   "metadata": {
    "collapsed": false,
    "pycharm": {
     "name": "#%%\n"
    }
   }
  },
  {
   "cell_type": "code",
   "execution_count": 198,
   "outputs": [
    {
     "name": "stdout",
     "output_type": "stream",
     "text": [
      "170 188\n"
     ]
    }
   ],
   "source": [
    "idx_few100_list = []\n",
    "for i in range(len(X_test_np)):\n",
    "    if y_test.iloc[i] in few_rel100:\n",
    "        idx_few100_list.append(i)\n",
    "\n",
    "idx_few200_list = []\n",
    "for i in range(len(X_test_np)):\n",
    "    if y_test.iloc[i] in few_rel200:\n",
    "        idx_few200_list.append(i)\n",
    "print(len(idx_few100_list) , len(idx_few200_list))\n",
    "\n",
    "x_test_few_100 = X_test_np[idx_few100_list]\n",
    "y_test_few_100 = y_test_np[idx_few100_list]\n",
    "x_test_few_200 = X_test_np[idx_few200_list]\n",
    "y_test_few_200 = y_test_np[idx_few200_list]"
   ],
   "metadata": {
    "collapsed": false,
    "pycharm": {
     "name": "#%%\n"
    }
   }
  },
  {
   "cell_type": "markdown",
   "source": [
    "# Model Training & Evaluation"
   ],
   "metadata": {
    "collapsed": false,
    "pycharm": {
     "name": "#%% md\n"
    }
   }
  },
  {
   "cell_type": "markdown",
   "source": [
    "## LR"
   ],
   "metadata": {
    "collapsed": false
   }
  },
  {
   "cell_type": "code",
   "execution_count": 203,
   "outputs": [
    {
     "name": "stdout",
     "output_type": "stream",
     "text": [
      "Accuracy: 47.69%\n"
     ]
    },
    {
     "name": "stderr",
     "output_type": "stream",
     "text": [
      "C:\\Users\\Johan\\anaconda3\\envs\\HMAN\\lib\\site-packages\\sklearn\\linear_model\\_logistic.py:814: ConvergenceWarning: lbfgs failed to converge (status=1):\n",
      "STOP: TOTAL NO. of ITERATIONS REACHED LIMIT.\n",
      "\n",
      "Increase the number of iterations (max_iter) or scale the data as shown in:\n",
      "    https://scikit-learn.org/stable/modules/preprocessing.html\n",
      "Please also refer to the documentation for alternative solver options:\n",
      "    https://scikit-learn.org/stable/modules/linear_model.html#logistic-regression\n",
      "  n_iter_i = _check_optimize_result(\n"
     ]
    },
    {
     "data": {
      "text/plain": "['D:/PycharmProjects/HMAN/outputs/ckpt/best_results/LR_47.69%.joblib']"
     },
     "execution_count": 203,
     "metadata": {},
     "output_type": "execute_result"
    }
   ],
   "source": [
    "lr_model = LogisticRegression()\n",
    "lr_model.fit(X_train_np, y_train_np)\n",
    "score_lr_model = lr_model.score(X_test_np, y_test_np)\n",
    "lr_results = lr_model.predict(X_test_np)\n",
    "print('Accuracy: {:.2%}'.format(score_lr_model))\n",
    "dump(lr_model,  MODEL_SAVE_PATH + '/LR_{:.2%}'.format(score_lr_model) + '.joblib')"
   ],
   "metadata": {
    "collapsed": false,
    "pycharm": {
     "name": "#%%\n"
    }
   }
  },
  {
   "cell_type": "code",
   "execution_count": 204,
   "outputs": [
    {
     "data": {
      "text/plain": "array([[0., 0., 0., ..., 1., 0., 0.],\n       [0., 0., 0., ..., 0., 0., 0.],\n       [0., 0., 0., ..., 0., 0., 0.],\n       ...,\n       [0., 0., 0., ..., 1., 0., 0.],\n       [0., 0., 0., ..., 1., 0., 0.],\n       [0., 0., 0., ..., 1., 0., 0.]])"
     },
     "execution_count": 204,
     "metadata": {},
     "output_type": "execute_result"
    }
   ],
   "source": [
    "lr_results_prob = lr_model.predict_proba(X_test)\n",
    "lr_results_ = np.zeros((len(lr_results), 16))\n",
    "lr_results_[np.arange(len(lr_results)), lr_results] = 1\n",
    "lr_results_"
   ],
   "metadata": {
    "collapsed": false,
    "pycharm": {
     "name": "#%%\n"
    }
   }
  },
  {
   "cell_type": "code",
   "execution_count": 205,
   "outputs": [
    {
     "data": {
      "text/plain": "0.26010529461602283"
     },
     "execution_count": 205,
     "metadata": {},
     "output_type": "execute_result"
    }
   ],
   "source": [
    "average_precision_score(exclude_na_flatten_label, lr_results_.reshape(-1))"
   ],
   "metadata": {
    "collapsed": false,
    "pycharm": {
     "name": "#%%\n"
    }
   }
  },
  {
   "cell_type": "code",
   "execution_count": 206,
   "outputs": [
    {
     "data": {
      "text/plain": "array([[0., 0., 0., ..., 0., 0., 0.],\n       [0., 0., 0., ..., 0., 0., 0.],\n       [0., 0., 0., ..., 0., 0., 0.],\n       ...,\n       [0., 0., 0., ..., 0., 0., 0.],\n       [0., 0., 0., ..., 0., 0., 0.],\n       [0., 0., 0., ..., 0., 0., 0.]])"
     },
     "execution_count": 206,
     "metadata": {},
     "output_type": "execute_result"
    }
   ],
   "source": [
    "x_test_few_100_prob = lr_model.predict_proba(x_test_few_100)\n",
    "x_test_few_200_prob = lr_model.predict_proba(x_test_few_200)\n",
    "\n",
    "y_test_few_100_ = np.zeros((len(y_test_few_100), 16))\n",
    "y_test_few_100_[np.arange(len(y_test_few_100)), y_test_few_100] = 1\n",
    "y_test_few_100_"
   ],
   "metadata": {
    "collapsed": false,
    "pycharm": {
     "name": "#%%\n"
    }
   }
  },
  {
   "cell_type": "code",
   "execution_count": 207,
   "outputs": [
    {
     "data": {
      "text/plain": "0.01764705882352941"
     },
     "execution_count": 207,
     "metadata": {},
     "output_type": "execute_result"
    }
   ],
   "source": [
    "top2score = top_k_accuracy_score(y_test_few_100, x_test_few_100_prob, k=2, labels= labels)\n",
    "top2score"
   ],
   "metadata": {
    "collapsed": false,
    "pycharm": {
     "name": "#%%\n"
    }
   }
  },
  {
   "cell_type": "code",
   "execution_count": 208,
   "outputs": [
    {
     "data": {
      "text/plain": "0.07058823529411765"
     },
     "execution_count": 208,
     "metadata": {},
     "output_type": "execute_result"
    }
   ],
   "source": [
    "top2score = top_k_accuracy_score(y_test_few_100, x_test_few_100_prob, k=3, labels= labels)\n",
    "top2score"
   ],
   "metadata": {
    "collapsed": false,
    "pycharm": {
     "name": "#%%\n"
    }
   }
  },
  {
   "cell_type": "code",
   "execution_count": 209,
   "outputs": [
    {
     "data": {
      "text/plain": "0.2529411764705882"
     },
     "execution_count": 209,
     "metadata": {},
     "output_type": "execute_result"
    }
   ],
   "source": [
    "top2score = top_k_accuracy_score(y_test_few_100, x_test_few_100_prob, k=5, labels= labels)\n",
    "top2score"
   ],
   "metadata": {
    "collapsed": false,
    "pycharm": {
     "name": "#%%\n"
    }
   }
  },
  {
   "cell_type": "code",
   "execution_count": 210,
   "outputs": [
    {
     "data": {
      "text/plain": "0.015957446808510637"
     },
     "execution_count": 210,
     "metadata": {},
     "output_type": "execute_result"
    }
   ],
   "source": [
    "top2score = top_k_accuracy_score(y_test_few_200, x_test_few_200_prob, k=2, labels= labels)\n",
    "top2score"
   ],
   "metadata": {
    "collapsed": false,
    "pycharm": {
     "name": "#%%\n"
    }
   }
  },
  {
   "cell_type": "code",
   "execution_count": 211,
   "outputs": [
    {
     "data": {
      "text/plain": "0.06382978723404255"
     },
     "execution_count": 211,
     "metadata": {},
     "output_type": "execute_result"
    }
   ],
   "source": [
    "top2score = top_k_accuracy_score(y_test_few_200, x_test_few_200_prob, k=3, labels= labels)\n",
    "top2score"
   ],
   "metadata": {
    "collapsed": false,
    "pycharm": {
     "name": "#%%\n"
    }
   }
  },
  {
   "cell_type": "code",
   "execution_count": 212,
   "outputs": [
    {
     "data": {
      "text/plain": "0.22872340425531915"
     },
     "execution_count": 212,
     "metadata": {},
     "output_type": "execute_result"
    }
   ],
   "source": [
    "top2score = top_k_accuracy_score(y_test_few_200, x_test_few_200_prob, k=5, labels= labels)\n",
    "top2score"
   ],
   "metadata": {
    "collapsed": false,
    "pycharm": {
     "name": "#%%\n"
    }
   }
  },
  {
   "cell_type": "markdown",
   "source": [
    "## KNN"
   ],
   "metadata": {
    "collapsed": false,
    "pycharm": {
     "name": "#%% md\n"
    }
   }
  },
  {
   "cell_type": "code",
   "execution_count": 213,
   "outputs": [
    {
     "name": "stdout",
     "output_type": "stream",
     "text": [
      "Accuracy: 44.81%\n"
     ]
    },
    {
     "data": {
      "text/plain": "['D:/PycharmProjects/HMAN/outputs/ckpt/best_results/LR_44.81%.joblib']"
     },
     "execution_count": 213,
     "metadata": {},
     "output_type": "execute_result"
    }
   ],
   "source": [
    "knn_model = KNeighborsClassifier()\n",
    "knn_model.fit(X_train_np, y_train_np)\n",
    "score_knn_model = knn_model.score(X_test_np, y_test_np)\n",
    "knn_results = knn_model.predict(X_test_np)\n",
    "print('Accuracy: {:.2%}'.format(score_knn_model))\n",
    "dump(knn_model,  MODEL_SAVE_PATH + '/LR_{:.2%}'.format(score_knn_model) + '.joblib')"
   ],
   "metadata": {
    "collapsed": false,
    "pycharm": {
     "name": "#%%\n"
    }
   }
  },
  {
   "cell_type": "code",
   "execution_count": 214,
   "outputs": [
    {
     "data": {
      "text/plain": "array([[0., 0., 0., ..., 1., 0., 0.],\n       [0., 0., 0., ..., 0., 0., 0.],\n       [0., 0., 0., ..., 0., 0., 0.],\n       ...,\n       [0., 0., 0., ..., 0., 0., 0.],\n       [0., 0., 0., ..., 1., 0., 0.],\n       [0., 0., 0., ..., 0., 0., 0.]])"
     },
     "execution_count": 214,
     "metadata": {},
     "output_type": "execute_result"
    }
   ],
   "source": [
    "knn_results_prob = knn_model.predict_proba(X_test)\n",
    "knn_results_ = np.zeros((len(knn_results), 16))\n",
    "knn_results_[np.arange(len(knn_results)), knn_results] = 1\n",
    "knn_results_"
   ],
   "metadata": {
    "collapsed": false,
    "pycharm": {
     "name": "#%%\n"
    }
   }
  },
  {
   "cell_type": "code",
   "execution_count": 215,
   "outputs": [
    {
     "data": {
      "text/plain": "0.23529989974818472"
     },
     "execution_count": 215,
     "metadata": {},
     "output_type": "execute_result"
    }
   ],
   "source": [
    "average_precision_score(exclude_na_flatten_label, knn_results_.reshape(-1))"
   ],
   "metadata": {
    "collapsed": false,
    "pycharm": {
     "name": "#%%\n"
    }
   }
  },
  {
   "cell_type": "code",
   "execution_count": 216,
   "outputs": [
    {
     "data": {
      "text/plain": "array([[0., 0., 0., ..., 0., 0., 0.],\n       [0., 0., 0., ..., 0., 0., 0.],\n       [0., 0., 0., ..., 0., 0., 0.],\n       ...,\n       [0., 0., 0., ..., 0., 0., 0.],\n       [0., 0., 0., ..., 0., 0., 0.],\n       [0., 0., 0., ..., 0., 0., 0.]])"
     },
     "execution_count": 216,
     "metadata": {},
     "output_type": "execute_result"
    }
   ],
   "source": [
    "x_test_few_100_prob = knn_model.predict_proba(x_test_few_100)\n",
    "x_test_few_200_prob = knn_model.predict_proba(x_test_few_200)\n",
    "\n",
    "y_test_few_100_ = np.zeros((len(y_test_few_100), 16))\n",
    "y_test_few_100_[np.arange(len(y_test_few_100)), y_test_few_100] = 1\n",
    "y_test_few_100_"
   ],
   "metadata": {
    "collapsed": false,
    "pycharm": {
     "name": "#%%\n"
    }
   }
  },
  {
   "cell_type": "code",
   "execution_count": 217,
   "outputs": [
    {
     "data": {
      "text/plain": "0.17058823529411765"
     },
     "execution_count": 217,
     "metadata": {},
     "output_type": "execute_result"
    }
   ],
   "source": [
    "top2score = top_k_accuracy_score(y_test_few_100, x_test_few_100_prob, k=2, labels= labels)\n",
    "top2score"
   ],
   "metadata": {
    "collapsed": false,
    "pycharm": {
     "name": "#%%\n"
    }
   }
  },
  {
   "cell_type": "code",
   "execution_count": 218,
   "outputs": [
    {
     "data": {
      "text/plain": "0.25882352941176473"
     },
     "execution_count": 218,
     "metadata": {},
     "output_type": "execute_result"
    }
   ],
   "source": [
    "top2score = top_k_accuracy_score(y_test_few_100, x_test_few_100_prob, k=3, labels= labels)\n",
    "top2score"
   ],
   "metadata": {
    "collapsed": false,
    "pycharm": {
     "name": "#%%\n"
    }
   }
  },
  {
   "cell_type": "code",
   "execution_count": 219,
   "outputs": [
    {
     "data": {
      "text/plain": "0.45294117647058824"
     },
     "execution_count": 219,
     "metadata": {},
     "output_type": "execute_result"
    }
   ],
   "source": [
    "top2score = top_k_accuracy_score(y_test_few_100, x_test_few_100_prob, k=5, labels= labels)\n",
    "top2score"
   ],
   "metadata": {
    "collapsed": false,
    "pycharm": {
     "name": "#%%\n"
    }
   }
  },
  {
   "cell_type": "code",
   "execution_count": 220,
   "outputs": [
    {
     "data": {
      "text/plain": "0.15425531914893617"
     },
     "execution_count": 220,
     "metadata": {},
     "output_type": "execute_result"
    }
   ],
   "source": [
    "top2score = top_k_accuracy_score(y_test_few_200, x_test_few_200_prob, k=2, labels= labels)\n",
    "top2score"
   ],
   "metadata": {
    "collapsed": false,
    "pycharm": {
     "name": "#%%\n"
    }
   }
  },
  {
   "cell_type": "code",
   "execution_count": 221,
   "outputs": [
    {
     "data": {
      "text/plain": "0.2393617021276596"
     },
     "execution_count": 221,
     "metadata": {},
     "output_type": "execute_result"
    }
   ],
   "source": [
    "top2score = top_k_accuracy_score(y_test_few_200, x_test_few_200_prob, k=3, labels= labels)\n",
    "top2score"
   ],
   "metadata": {
    "collapsed": false,
    "pycharm": {
     "name": "#%%\n"
    }
   }
  },
  {
   "cell_type": "code",
   "execution_count": 222,
   "outputs": [
    {
     "data": {
      "text/plain": "0.4148936170212766"
     },
     "execution_count": 222,
     "metadata": {},
     "output_type": "execute_result"
    }
   ],
   "source": [
    "top2score = top_k_accuracy_score(y_test_few_200, x_test_few_200_prob, k=5, labels= labels)\n",
    "top2score"
   ],
   "metadata": {
    "collapsed": false,
    "pycharm": {
     "name": "#%%\n"
    }
   }
  },
  {
   "cell_type": "markdown",
   "source": [
    "## SVM"
   ],
   "metadata": {
    "collapsed": false
   }
  },
  {
   "cell_type": "code",
   "execution_count": 223,
   "outputs": [
    {
     "name": "stdout",
     "output_type": "stream",
     "text": [
      "Accuracy: 45.94%\n"
     ]
    },
    {
     "data": {
      "text/plain": "['D:/PycharmProjects/HMAN/outputs/ckpt/best_results/LR_45.94%.joblib']"
     },
     "execution_count": 223,
     "metadata": {},
     "output_type": "execute_result"
    }
   ],
   "source": [
    "svm_model = SVC(probability= True)\n",
    "svm_model.fit(X_train_np, y_train_np)\n",
    "score_svm_model = svm_model.score(X_test_np, y_test_np)\n",
    "svm_results = svm_model.predict(X_test_np)\n",
    "print('Accuracy: {:.2%}'.format(score_svm_model))\n",
    "dump(svm_model,  MODEL_SAVE_PATH + '/LR_{:.2%}'.format(score_svm_model) + '.joblib')"
   ],
   "metadata": {
    "collapsed": false,
    "pycharm": {
     "name": "#%%\n"
    }
   }
  },
  {
   "cell_type": "code",
   "execution_count": 224,
   "outputs": [
    {
     "data": {
      "text/plain": "array([[0., 0., 0., ..., 1., 0., 0.],\n       [0., 0., 0., ..., 0., 0., 0.],\n       [0., 0., 0., ..., 0., 0., 0.],\n       ...,\n       [0., 0., 0., ..., 1., 0., 0.],\n       [0., 0., 0., ..., 1., 0., 0.],\n       [0., 0., 0., ..., 1., 0., 0.]])"
     },
     "execution_count": 224,
     "metadata": {},
     "output_type": "execute_result"
    }
   ],
   "source": [
    "svm_results_prob = svm_model.predict_proba(X_test)\n",
    "svm_results_ = np.zeros((len(svm_results), 16))\n",
    "svm_results_[np.arange(len(svm_results)), svm_results] = 1\n",
    "svm_results_"
   ],
   "metadata": {
    "collapsed": false,
    "pycharm": {
     "name": "#%%\n"
    }
   }
  },
  {
   "cell_type": "code",
   "execution_count": 225,
   "outputs": [
    {
     "data": {
      "text/plain": "0.2448238127591544"
     },
     "execution_count": 225,
     "metadata": {},
     "output_type": "execute_result"
    }
   ],
   "source": [
    "average_precision_score(exclude_na_flatten_label, svm_results_.reshape(-1))"
   ],
   "metadata": {
    "collapsed": false,
    "pycharm": {
     "name": "#%%\n"
    }
   }
  },
  {
   "cell_type": "code",
   "execution_count": 226,
   "outputs": [
    {
     "data": {
      "text/plain": "array([[0., 0., 0., ..., 0., 0., 0.],\n       [0., 0., 0., ..., 0., 0., 0.],\n       [0., 0., 0., ..., 0., 0., 0.],\n       ...,\n       [0., 0., 0., ..., 0., 0., 0.],\n       [0., 0., 0., ..., 0., 0., 0.],\n       [0., 0., 0., ..., 0., 0., 0.]])"
     },
     "execution_count": 226,
     "metadata": {},
     "output_type": "execute_result"
    }
   ],
   "source": [
    "x_test_few_100_prob = svm_model.predict_proba(x_test_few_100)\n",
    "x_test_few_200_prob = svm_model.predict_proba(x_test_few_200)\n",
    "\n",
    "y_test_few_100_ = np.zeros((len(y_test_few_100), 16))\n",
    "y_test_few_100_[np.arange(len(y_test_few_100)), y_test_few_100] = 1\n",
    "y_test_few_100_"
   ],
   "metadata": {
    "collapsed": false,
    "pycharm": {
     "name": "#%%\n"
    }
   }
  },
  {
   "cell_type": "code",
   "execution_count": 227,
   "outputs": [
    {
     "data": {
      "text/plain": "0.11764705882352941"
     },
     "execution_count": 227,
     "metadata": {},
     "output_type": "execute_result"
    }
   ],
   "source": [
    "top2score = top_k_accuracy_score(y_test_few_100, x_test_few_100_prob, k=2, labels= labels)\n",
    "top2score"
   ],
   "metadata": {
    "collapsed": false,
    "pycharm": {
     "name": "#%%\n"
    }
   }
  },
  {
   "cell_type": "code",
   "execution_count": 228,
   "outputs": [
    {
     "data": {
      "text/plain": "0.19411764705882353"
     },
     "execution_count": 228,
     "metadata": {},
     "output_type": "execute_result"
    }
   ],
   "source": [
    "top2score = top_k_accuracy_score(y_test_few_100, x_test_few_100_prob, k=3, labels= labels)\n",
    "top2score"
   ],
   "metadata": {
    "collapsed": false,
    "pycharm": {
     "name": "#%%\n"
    }
   }
  },
  {
   "cell_type": "code",
   "execution_count": 229,
   "outputs": [
    {
     "data": {
      "text/plain": "0.4470588235294118"
     },
     "execution_count": 229,
     "metadata": {},
     "output_type": "execute_result"
    }
   ],
   "source": [
    "top2score = top_k_accuracy_score(y_test_few_100, x_test_few_100_prob, k=5, labels= labels)\n",
    "top2score"
   ],
   "metadata": {
    "collapsed": false,
    "pycharm": {
     "name": "#%%\n"
    }
   }
  },
  {
   "cell_type": "code",
   "execution_count": 230,
   "outputs": [
    {
     "data": {
      "text/plain": "0.10638297872340426"
     },
     "execution_count": 230,
     "metadata": {},
     "output_type": "execute_result"
    }
   ],
   "source": [
    "top2score = top_k_accuracy_score(y_test_few_200, x_test_few_200_prob, k=2, labels= labels)\n",
    "top2score"
   ],
   "metadata": {
    "collapsed": false,
    "pycharm": {
     "name": "#%%\n"
    }
   }
  },
  {
   "cell_type": "code",
   "execution_count": 231,
   "outputs": [
    {
     "data": {
      "text/plain": "0.17553191489361702"
     },
     "execution_count": 231,
     "metadata": {},
     "output_type": "execute_result"
    }
   ],
   "source": [
    "top2score = top_k_accuracy_score(y_test_few_200, x_test_few_200_prob, k=3, labels= labels)\n",
    "top2score"
   ],
   "metadata": {
    "collapsed": false,
    "pycharm": {
     "name": "#%%\n"
    }
   }
  },
  {
   "cell_type": "code",
   "execution_count": 232,
   "outputs": [
    {
     "data": {
      "text/plain": "0.40425531914893614"
     },
     "execution_count": 232,
     "metadata": {},
     "output_type": "execute_result"
    }
   ],
   "source": [
    "top2score = top_k_accuracy_score(y_test_few_200, x_test_few_200_prob, k=5, labels= labels)\n",
    "top2score"
   ],
   "metadata": {
    "collapsed": false,
    "pycharm": {
     "name": "#%%\n"
    }
   }
  },
  {
   "cell_type": "markdown",
   "source": [
    "## MLP"
   ],
   "metadata": {
    "collapsed": false,
    "pycharm": {
     "name": "#%% md\n"
    }
   }
  },
  {
   "cell_type": "code",
   "execution_count": 233,
   "outputs": [
    {
     "name": "stdout",
     "output_type": "stream",
     "text": [
      "Accuracy: 54.57%\n"
     ]
    },
    {
     "data": {
      "text/plain": "['D:/PycharmProjects/HMAN/outputs/ckpt/best_results/LR_54.57%.joblib']"
     },
     "execution_count": 233,
     "metadata": {},
     "output_type": "execute_result"
    }
   ],
   "source": [
    "mlp_model = MLPClassifier()\n",
    "mlp_model.fit(X_train_np, y_train_np)\n",
    "score_mlp_model = mlp_model.score(X_test_np, y_test_np)\n",
    "mlp_results = mlp_model.predict(X_test_np)\n",
    "print('Accuracy: {:.2%}'.format(score_mlp_model))\n",
    "dump(mlp_model,  MODEL_SAVE_PATH + '/LR_{:.2%}'.format(score_mlp_model) + '.joblib')"
   ],
   "metadata": {
    "collapsed": false,
    "pycharm": {
     "name": "#%%\n"
    }
   }
  },
  {
   "cell_type": "markdown",
   "source": [],
   "metadata": {
    "collapsed": false
   }
  },
  {
   "cell_type": "code",
   "execution_count": 234,
   "outputs": [
    {
     "data": {
      "text/plain": "array([[0., 0., 0., ..., 0., 0., 0.],\n       [0., 0., 0., ..., 0., 0., 0.],\n       [0., 0., 0., ..., 0., 0., 0.],\n       ...,\n       [0., 0., 0., ..., 1., 0., 0.],\n       [0., 0., 0., ..., 1., 0., 0.],\n       [0., 0., 0., ..., 0., 0., 0.]])"
     },
     "execution_count": 234,
     "metadata": {},
     "output_type": "execute_result"
    }
   ],
   "source": [
    "mlp_results_prob = mlp_model.predict_proba(X_test)\n",
    "mlp_results_ = np.zeros((len(mlp_results), 16))\n",
    "mlp_results_[np.arange(len(mlp_results)), mlp_results] = 1\n",
    "mlp_results_"
   ],
   "metadata": {
    "collapsed": false,
    "pycharm": {
     "name": "#%%\n"
    }
   }
  },
  {
   "cell_type": "code",
   "execution_count": 235,
   "outputs": [
    {
     "data": {
      "text/plain": "array([[0., 0., 0., ..., 0., 0., 0.],\n       [0., 0., 0., ..., 0., 0., 0.],\n       [0., 0., 0., ..., 0., 0., 0.],\n       ...,\n       [0., 0., 0., ..., 0., 0., 0.],\n       [0., 0., 0., ..., 0., 0., 0.],\n       [0., 0., 0., ..., 0., 0., 0.]])"
     },
     "execution_count": 235,
     "metadata": {},
     "output_type": "execute_result"
    }
   ],
   "source": [
    "x_test_few_100_prob = mlp_model.predict_proba(x_test_few_100)\n",
    "x_test_few_200_prob = mlp_model.predict_proba(x_test_few_200)\n",
    "\n",
    "y_test_few_100_ = np.zeros((len(y_test_few_100), 16))\n",
    "y_test_few_100_[np.arange(len(y_test_few_100)), y_test_few_100] = 1\n",
    "y_test_few_100_"
   ],
   "metadata": {
    "collapsed": false,
    "pycharm": {
     "name": "#%%\n"
    }
   }
  },
  {
   "cell_type": "code",
   "execution_count": 236,
   "outputs": [
    {
     "data": {
      "text/plain": "0.32614781115862973"
     },
     "execution_count": 236,
     "metadata": {},
     "output_type": "execute_result"
    }
   ],
   "source": [
    "average_precision_score(exclude_na_flatten_label, mlp_results_.reshape(-1))"
   ],
   "metadata": {
    "collapsed": false,
    "pycharm": {
     "name": "#%%\n"
    }
   }
  },
  {
   "cell_type": "code",
   "execution_count": 237,
   "outputs": [
    {
     "data": {
      "text/plain": "0.029411764705882353"
     },
     "execution_count": 237,
     "metadata": {},
     "output_type": "execute_result"
    }
   ],
   "source": [
    "top2score = top_k_accuracy_score(y_test_few_100, x_test_few_100_prob, k=2, labels= labels)\n",
    "top2score"
   ],
   "metadata": {
    "collapsed": false,
    "pycharm": {
     "name": "#%%\n"
    }
   }
  },
  {
   "cell_type": "code",
   "execution_count": 238,
   "outputs": [
    {
     "data": {
      "text/plain": "0.10588235294117647"
     },
     "execution_count": 238,
     "metadata": {},
     "output_type": "execute_result"
    }
   ],
   "source": [
    "top2score = top_k_accuracy_score(y_test_few_100, x_test_few_100_prob, k=3, labels= labels)\n",
    "top2score"
   ],
   "metadata": {
    "collapsed": false,
    "pycharm": {
     "name": "#%%\n"
    }
   }
  },
  {
   "cell_type": "code",
   "execution_count": 239,
   "outputs": [
    {
     "data": {
      "text/plain": "0.2823529411764706"
     },
     "execution_count": 239,
     "metadata": {},
     "output_type": "execute_result"
    }
   ],
   "source": [
    "top2score = top_k_accuracy_score(y_test_few_100, x_test_few_100_prob, k=5, labels= labels)\n",
    "top2score"
   ],
   "metadata": {
    "collapsed": false,
    "pycharm": {
     "name": "#%%\n"
    }
   }
  },
  {
   "cell_type": "code",
   "execution_count": 240,
   "outputs": [
    {
     "data": {
      "text/plain": "0.026595744680851064"
     },
     "execution_count": 240,
     "metadata": {},
     "output_type": "execute_result"
    }
   ],
   "source": [
    "top2score = top_k_accuracy_score(y_test_few_200, x_test_few_200_prob, k=2, labels= labels)\n",
    "top2score"
   ],
   "metadata": {
    "collapsed": false,
    "pycharm": {
     "name": "#%%\n"
    }
   }
  },
  {
   "cell_type": "code",
   "execution_count": 241,
   "outputs": [
    {
     "data": {
      "text/plain": "0.10106382978723404"
     },
     "execution_count": 241,
     "metadata": {},
     "output_type": "execute_result"
    }
   ],
   "source": [
    "top2score = top_k_accuracy_score(y_test_few_200, x_test_few_200_prob, k=3, labels= labels)\n",
    "top2score"
   ],
   "metadata": {
    "collapsed": false,
    "pycharm": {
     "name": "#%%\n"
    }
   }
  },
  {
   "cell_type": "code",
   "execution_count": 242,
   "outputs": [
    {
     "data": {
      "text/plain": "0.2712765957446808"
     },
     "execution_count": 242,
     "metadata": {},
     "output_type": "execute_result"
    }
   ],
   "source": [
    "top2score = top_k_accuracy_score(y_test_few_200, x_test_few_200_prob, k=5, labels= labels)\n",
    "top2score"
   ],
   "metadata": {
    "collapsed": false,
    "pycharm": {
     "name": "#%%\n"
    }
   }
  },
  {
   "cell_type": "markdown",
   "source": [
    "# Plot"
   ],
   "metadata": {
    "collapsed": false,
    "pycharm": {
     "name": "#%% md\n"
    }
   }
  },
  {
   "cell_type": "markdown",
   "source": [
    "## PR-1"
   ],
   "metadata": {
    "collapsed": false,
    "pycharm": {
     "name": "#%% md\n"
    }
   }
  },
  {
   "cell_type": "code",
   "execution_count": 246,
   "outputs": [],
   "source": [
    "data_path = \"D:/PycharmProjects/HMAN/data/\"\n",
    "data_size = \"medium\"\n",
    "test_instance_scope = np.load(data_path + data_size + '_test_entity_scope.npy')"
   ],
   "metadata": {
    "collapsed": false,
    "pycharm": {
     "name": "#%%\n"
    }
   }
  },
  {
   "cell_type": "code",
   "execution_count": 247,
   "outputs": [],
   "source": [
    "feature_mode = 'fma_all'\n",
    "trainDataLoader = LoadFMA.FMATrainDataLoader(use_label = 'top', feature_mode = feature_mode, device=device)\n",
    "testDataLoader = LoadFMA.FMATestDataLoader(mode=\"pr\", use_label = 'top' , feature_mode = feature_mode, device=device)"
   ],
   "metadata": {
    "collapsed": false,
    "pycharm": {
     "name": "#%%\n"
    }
   }
  },
  {
   "cell_type": "code",
   "execution_count": 293,
   "outputs": [
    {
     "name": "stdout",
     "output_type": "stream",
     "text": [
      "MLP-MIL Bag-Level Average Precision:  0.5850106605362679\n",
      "MLP-MIL Segment-Level Average Precision:  0.6522825915142245\n",
      "MLP-MATT Bag-Level Average Precision:  0.7202442584294232\n",
      "MLP-MATT Segment-Level Average Precision:  0.7320735677107747\n"
     ]
    },
    {
     "data": {
      "text/plain": "<Figure size 1152x720 with 1 Axes>",
      "image/png": "[encoded data removed]"
     },
     "metadata": {
      "needs_background": "light"
     },
     "output_type": "display_data"
    }
   ],
   "source": [
    "from matplotlib.font_manager import FontProperties\n",
    "\n",
    "\n",
    "output_path = ROOT_PATH + \"/outputs/logits/best_results\"\n",
    "\n",
    "plt.figure(figsize = (16, 10))\n",
    "# plt.style.use()\n",
    "# plt.style.use('seaborn')\n",
    "\n",
    "precision,recall,threshold = precision_recall_curve(exclude_na_flatten_label, svm_results_prob.reshape(-1))\n",
    "# plt.plot(recall[:], precision[:], \"-c\", marker=\"2\", markevery=60, lw=2, label=\"SVM\")\n",
    "plt.plot(recall[:], precision[:], lw=4, label=\"SVM\")\n",
    "pd.DataFrame([precision, recall]).to_csv(\"svm-fma_all.txt\", index=False)\n",
    "pd.DataFrame({'precision': precision, 'recall': recall}).to_csv(PLOT_DATA_PATH + \"/SVM-fma_all.csv\", index = False)\n",
    "\n",
    "\n",
    "precision,recall,threshold = precision_recall_curve(exclude_na_flatten_label, lr_results_prob.reshape(-1))\n",
    "# plt.plot(recall[:], precision[:],\"-k\", marker=\",\", markevery=60, lw=2, label=\"LR\")\n",
    "plt.plot(recall[:], precision[:], lw=4, label=\"LR\")\n",
    "pd.DataFrame([precision, recall]).to_csv(\"lr-fma_all.txt\", index=False)\n",
    "pd.DataFrame({'precision': precision, 'recall': recall}).to_csv(PLOT_DATA_PATH + \"/LR-fma_all.csv\", index = False)\n",
    "\n",
    "\n",
    "precision,recall,threshold = precision_recall_curve(exclude_na_flatten_label, knn_results_prob.reshape(-1))\n",
    "# plt.plot(recall[:], precision[:],\"-y\", marker=\"*\", markevery=60, lw=2, label=\"KNN\")\n",
    "plt.plot(recall[:], precision[:], lw=4, label=\"KNN\")\n",
    "pd.DataFrame([precision, recall]).to_csv(\"knn-fma_all.txt\", index=False)\n",
    "pd.DataFrame({'precision': precision, 'recall': recall}).to_csv(PLOT_DATA_PATH + \"/KNN-fma_all.csv\", index = False)\n",
    "\n",
    "\n",
    "precision,recall,threshold = precision_recall_curve(exclude_na_flatten_label, mlp_results_prob.reshape(-1))\n",
    "# plt.plot(recall[:], precision[:],\"-g\", marker=\"1\", markevery=60, lw=2, label=\"MLP\")\n",
    "# plt.plot(recall[:], precision[:], label=\"MLP\")\n",
    "plt.plot(recall[:], precision[:], lw=4, label=\"MLP\")\n",
    "pd.DataFrame({'precision': precision, 'recall': recall}).to_csv(PLOT_DATA_PATH + \"/MLP-fma_all.csv\", index = False)\n",
    "\n",
    "\n",
    "## Bag-MLP\n",
    "\n",
    "testDataLoader = LoadFMA.FMATestDataLoader(mode=\"pr\", use_label = 'top' , feature_mode = \"fma_all\", device=device)\n",
    "\n",
    "score = output_path + \"/MLP1LayerBag-Blank-fma_all--auc-0.5850106605362679-accuracy-0.6921881437301636-params-tb_160-lr_0.2-weight_decay_1e-05-keep_prob_0.5.npy\"\n",
    "y_scores = np.load(score)\n",
    "print(\"MLP-MIL Bag-Level Average Precision: \", average_precision_score(testDataLoader.exclude_na_flatten_label, y_scores))\n",
    "y_predict_label_flatten = []\n",
    "for i in range(len(testDataLoader.instance_scope)):\n",
    "    y_predict_label_flatten.extend(\n",
    "        [y_scores.reshape(-1, 16)[i]] * (testDataLoader.instance_scope[i][1] - testDataLoader.instance_scope[i][0] + 1))\n",
    "y_predict_label_flatten = np.array(y_predict_label_flatten)\n",
    "y_mel_label_ = np.zeros((len(testDataLoader.label), 16))\n",
    "y_mel_label_[np.arange(len(testDataLoader.label)), testDataLoader.label] = 1\n",
    "y_mel_label_\n",
    "# precision,recall,threshold = precision_recall_curve(testDataLoader.exclude_na_flatten_label,y_scores)\n",
    "precision,recall,threshold = precision_recall_curve(y_mel_label_.reshape(-1),y_predict_label_flatten.reshape(-1))\n",
    "print(\"MLP-MIL Segment-Level Average Precision: \", average_precision_score(y_mel_label_.reshape(-1),y_predict_label_flatten.reshape(-1)))\n",
    "# plt.plot(recall[:], precision[:], \"-c\", marker=\"2\", markevery=60, lw=2, label=\"MLP + MIL\")\n",
    "plt.plot(recall[:], precision[:], lw=4, label=\"MLP + MIL\")\n",
    "pd.DataFrame({'precision': precision, 'recall': recall}).to_csv(PLOT_DATA_PATH + \"/MLP+MIL-fma_all.csv\", index = False)\n",
    "\n",
    "\n",
    "## MLP-MATT\n",
    "\n",
    "score = output_path + \"/AttentionNetwork16-Blank-fma_all--auc-0.7202442584294232-accuracy-0.6883016228675842-params-tb_160-lr_0.2-weight_decay_1e-05-keep_prob_0.5.npy\"\n",
    "y_scores = np.load(score)\n",
    "print(\"MLP-MATT Bag-Level Average Precision: \", average_precision_score(testDataLoader.exclude_na_flatten_label, y_scores))\n",
    "y_predict_label_flatten = []\n",
    "for i in range(len(testDataLoader.instance_scope)):\n",
    "    y_predict_label_flatten.extend(\n",
    "        [y_scores.reshape(-1, 16)[i]] * (testDataLoader.instance_scope[i][1] - testDataLoader.instance_scope[i][0] + 1))\n",
    "y_predict_label_flatten = np.array(y_predict_label_flatten)\n",
    "y_mel_label_ = np.zeros((len(testDataLoader.label), 16))\n",
    "y_mel_label_[np.arange(len(testDataLoader.label)), testDataLoader.label] = 1\n",
    "y_mel_label_\n",
    "# precision,recall,threshold = precision_recall_curve(testDataLoader.exclude_na_flatten_label,y_scores)\n",
    "precision,recall,threshold = precision_recall_curve(y_mel_label_.reshape(-1),y_predict_label_flatten.reshape(-1))\n",
    "print(\"MLP-MATT Segment-Level Average Precision: \", average_precision_score(y_mel_label_.reshape(-1),y_predict_label_flatten.reshape(-1)))\n",
    "# plt.plot(recall[:], precision[:], \"-c\", marker=\"2\", markevery=60, lw=2, label=\"MLP + MATT\")\n",
    "plt.plot(recall[:], precision[:], lw=4, label=\"MLP + MATT\")\n",
    "pd.DataFrame({'precision': precision, 'recall': recall}).to_csv(PLOT_DATA_PATH + \"/MLP+MATT-fma_all.csv\", index = False)\n",
    "\n",
    "plt.xlabel('Recall', weight=\"bold\")\n",
    "plt.ylabel('Precision', weight=\"bold\")\n",
    "plt.ylim([0, 1])\n",
    "plt.xlim([0.0, 1.0])\n",
    "# plt.title('Precision-Recall Area={0:1.4f}'.format(auc))\n",
    "plt.legend(loc=\"lower right\")\n",
    "plt.grid(True)\n",
    "plt.xticks([0, 0.2, 0.4, 0.6, 0.8, 1], weight = 'bold')\n",
    "plt.yticks([0, 0.2, 0.4, 0.6, 0.8, 1], weight = 'bold')\n",
    "\n",
    "legend_properties = {'weight':'bold'}\n",
    "\n",
    "plt.legend(prop=legend_properties)\n",
    "\n",
    "plt.savefig(\"pr1.png\")\n",
    "plt.show()"
   ],
   "metadata": {
    "collapsed": false,
    "pycharm": {
     "name": "#%%\n"
    }
   }
  },
  {
   "cell_type": "code",
   "execution_count": 275,
   "outputs": [
    {
     "data": {
      "text/plain": "(2573, 16)"
     },
     "execution_count": 275,
     "metadata": {},
     "output_type": "execute_result"
    }
   ],
   "source": [
    "y_predict_label_flatten.shape"
   ],
   "metadata": {
    "collapsed": false,
    "pycharm": {
     "name": "#%%\n"
    }
   }
  },
  {
   "cell_type": "code",
   "execution_count": 271,
   "outputs": [
    {
     "data": {
      "text/plain": "(2573, 16)"
     },
     "execution_count": 271,
     "metadata": {},
     "output_type": "execute_result"
    }
   ],
   "source": [
    "y_mel_label_.shape"
   ],
   "metadata": {
    "collapsed": false,
    "pycharm": {
     "name": "#%%\n"
    }
   }
  },
  {
   "cell_type": "code",
   "execution_count": null,
   "outputs": [],
   "source": [
    "testDataLoader.label.shape"
   ],
   "metadata": {
    "collapsed": false,
    "pycharm": {
     "name": "#%%\n"
    }
   }
  },
  {
   "cell_type": "markdown",
   "source": [
    "## Pr-2"
   ],
   "metadata": {
    "collapsed": false,
    "pycharm": {
     "name": "#%% md\n"
    }
   }
  },
  {
   "cell_type": "code",
   "execution_count": 292,
   "outputs": [
    {
     "name": "stdout",
     "output_type": "stream",
     "text": [
      "CRNN-MATT Bag-Level Average Precision:  0.6511054557402031\n",
      "CRNN-MIL Segment-Level Average Precision:  0.695881777320194\n",
      "CRNN-TF-MIL Bag-Level Average Precision:  0.5153466107627882\n",
      "CRNN-TF-MIL Segment-Level Average Precision:  0.6106842811668627\n",
      "CRNN-MATT Bag-Level Average Precision:  0.681650779797164\n",
      "CRNN-MATT Segment-Level Average Precision:  0.7356715689631064\n",
      "CRNN-TF-MATT Bag-Level Average Precision:  0.7120520788445732\n",
      "CRNN-TF-MATT Segment-Level Average Precision:  0.726802785642557\n"
     ]
    },
    {
     "data": {
      "text/plain": "<Figure size 1152x720 with 1 Axes>",
      "image/png": "[encoded data removed]"
     },
     "metadata": {
      "needs_background": "light"
     },
     "output_type": "display_data"
    }
   ],
   "source": [
    "output_path = ROOT_PATH + \"/outputs/logits/best_results\"\n",
    "\n",
    "plt.figure(figsize = (16, 10))\n",
    "# plt.style.use()\n",
    "# plt.style.use('seaborn')\n",
    "\n",
    "testDataLoader = LoadFMA.FMATestDataLoader(mode=\"pr\", use_label = 'top' , feature_mode = \"mel_1360_96\", device=device)\n",
    "\n",
    "# CRNN and CGRNN\n",
    "all_true_label =  np.zeros((len(testDataLoader.label_top), 16))\n",
    "for pid in range(len(testDataLoader.label_top)):\n",
    "    all_true_label[pid][testDataLoader.label_top[pid]] = 1\n",
    "testDataLoader.exclude_na_flatten_label = np.reshape(all_true_label, -1)\n",
    "\n",
    "score = output_path + \"/CRNNBaseline16-mel_1360_96--auc-0.6243799852515145-accuracy-0.6323268413543701-params-tb_14-lr_0.2-weight_decay_1e-05-keep_prob_0.5.npy\"\n",
    "y_scores = np.load(score)\n",
    "precision,recall,threshold = precision_recall_curve(testDataLoader.exclude_na_flatten_label,y_scores)\n",
    "# plt.plot(recall[:], precision[:], \"-c\", marker=\"2\", markevery=60, lw=2, label=\"MLP + MATT\")\n",
    "plt.plot(recall[:], precision[:], lw=4, label=\"CRNN\")\n",
    "pd.DataFrame({'precision': precision, 'recall': recall}).to_csv(PLOT_DATA_PATH + \"/PR-CRNN_mel_1360_6.csv\", index = False)\n",
    "\n",
    "score = output_path + \"/CGRNNBaseline16-mel_1360_96--auc-0.6243979863337593-accuracy-0.6475671529769897-params-tb_14-lr_0.2-weight_decay_1e-05-keep_prob_0.5.npy\"\n",
    "y_scores = np.load(score)\n",
    "precision,recall,threshold = precision_recall_curve(testDataLoader.exclude_na_flatten_label,y_scores)\n",
    "# plt.plot(recall[:], precision[:], \"-c\", marker=\"2\", markevery=60, lw=2, label=\"MLP + MATT\")\n",
    "plt.plot(recall[:], precision[:], lw=4, label=\"CRNN-TF\")\n",
    "pd.DataFrame({'precision': precision, 'recall': recall}).to_csv(PLOT_DATA_PATH + \"/PR-CRNN-TF_mel_1360_96.csv\", index = False)\n",
    "\n",
    "# CRNN and CGRNN + MIL\n",
    "\n",
    "testDataLoader = LoadFMA.FMATestDataLoader(mode=\"pr\", use_label = 'top' , feature_mode = 'mel_1360_96', device=device)\n",
    "y_mel_label_ = np.zeros((len(testDataLoader.label), 16))\n",
    "y_mel_label_[np.arange(len(testDataLoader.label)), testDataLoader.label] = 1\n",
    "y_mel_label_\n",
    "\n",
    "score = output_path + \"/MNMLP1LayerBag-crnn-mel_1360_96--auc-0.6511054557402031-accuracy-0.7192845940589905-params-tb_14-lr_0.1-weight_decay_1e-05-keep_prob_0.5.npy\"\n",
    "y_scores = np.load(score)\n",
    "print(\"CRNN-MATT Bag-Level Average Precision: \", average_precision_score(testDataLoader.exclude_na_flatten_label, y_scores))\n",
    "y_predict_label_flatten = []\n",
    "for i in range(len(testDataLoader.instance_scope)):\n",
    "    y_predict_label_flatten.extend(\n",
    "        [y_scores.reshape(-1, 16)[i]] * (testDataLoader.instance_scope[i][1] - testDataLoader.instance_scope[i][0] + 1))\n",
    "y_predict_label_flatten = np.array(y_predict_label_flatten)\n",
    "\n",
    "# precision,recall,threshold = precision_recall_curve(testDataLoader.exclude_na_flatten_label,y_scores)\n",
    "precision,recall,threshold = precision_recall_curve(y_mel_label_.reshape(-1),y_predict_label_flatten.reshape(-1))\n",
    "print(\"CRNN-MIL Segment-Level Average Precision: \", average_precision_score(y_mel_label_.reshape(-1),y_predict_label_flatten.reshape(-1)))\n",
    "# plt.plot(recall[:], precision[:], \"-c\", marker=\"2\", markevery=60, lw=2, label=\"MLP + MATT\")\n",
    "plt.plot(recall[:], precision[:], lw=4, label=\"CRNN+MIL\")\n",
    "pd.DataFrame({'precision': precision, 'recall': recall}).to_csv(PLOT_DATA_PATH + \"/PR-CRNN+MIL_mel_1360_96.csv\", index = False)\n",
    "\n",
    "score = output_path + \"/MNMLP1LayerBag-cgrnn-mel_1360_96--auc-0.5153466107627882-accuracy-0.7188957929611206-params-tb_14-lr_0.2-weight_decay_1e-05-keep_prob_0.5.npy\"\n",
    "y_scores = np.load(score)\n",
    "print(\"CRNN-TF-MIL Bag-Level Average Precision: \", average_precision_score(testDataLoader.exclude_na_flatten_label, y_scores))\n",
    "y_predict_label_flatten = []\n",
    "for i in range(len(testDataLoader.instance_scope)):\n",
    "    y_predict_label_flatten.extend(\n",
    "        [y_scores.reshape(-1, 16)[i]] * (testDataLoader.instance_scope[i][1] - testDataLoader.instance_scope[i][0] + 1))\n",
    "y_predict_label_flatten = np.array(y_predict_label_flatten)\n",
    "# precision,recall,threshold = precision_recall_curve(testDataLoader.exclude_na_flatten_label,y_scores)\n",
    "precision,recall,threshold = precision_recall_curve(y_mel_label_.reshape(-1),y_predict_label_flatten.reshape(-1))\n",
    "print(\"CRNN-TF-MIL Segment-Level Average Precision: \", average_precision_score(y_mel_label_.reshape(-1),y_predict_label_flatten.reshape(-1)))\n",
    "# plt.plot(recall[:], precision[:], \"-c\", marker=\"2\", markevery=60, lw=2, label=\"MLP + MATT\")\n",
    "plt.plot(recall[:], precision[:], lw=4, label=\"CRNN-TF+MIL\")\n",
    "pd.DataFrame({'precision': precision, 'recall': recall}).to_csv(PLOT_DATA_PATH + \"/PR-CRNN-TF+MIL_mel_1360_96.csv\", index = False)\n",
    "\n",
    "\n",
    "# CRNN and CGRNN + MATT\n",
    "\n",
    "# testDataLoader = LoadFMA.FMATestDataLoader(mode=\"pr\", use_label = 'top' , feature_mode = 'mel_1360_96', device=device)\n",
    "score = output_path + \"/AttentionNetwork16-crnn-mel_1360_96--auc-0.681650779797164-accuracy-0.690902054309845-params-tb_12-lr_0.3-weight_decay_1e-05-keep_prob_0.5.npy\"\n",
    "y_scores = np.load(score)\n",
    "print(\"CRNN-MATT Bag-Level Average Precision: \", average_precision_score(testDataLoader.exclude_na_flatten_label, y_scores))\n",
    "y_predict_label_flatten = []\n",
    "for i in range(len(testDataLoader.instance_scope)):\n",
    "    y_predict_label_flatten.extend(\n",
    "        [y_scores.reshape(-1, 16)[i]] * (testDataLoader.instance_scope[i][1] - testDataLoader.instance_scope[i][0] + 1))\n",
    "y_predict_label_flatten = np.array(y_predict_label_flatten)\n",
    "# precision,recall,threshold = precision_recall_curve(testDataLoader.exclude_na_flatten_label,y_scores)\n",
    "precision,recall,threshold = precision_recall_curve(y_mel_label_.reshape(-1),y_predict_label_flatten.reshape(-1))\n",
    "print(\"CRNN-MATT Segment-Level Average Precision: \", average_precision_score(y_mel_label_.reshape(-1),y_predict_label_flatten.reshape(-1)))\n",
    "# plt.plot(recall[:], precision[:], \"-c\", marker=\"2\", markevery=60, lw=2, label=\"MLP + MATT\")\n",
    "plt.plot(recall[:], precision[:],lw=4,  label=\"CRNN + MATT\")\n",
    "pd.DataFrame({'precision': precision, 'recall': recall}).to_csv(PLOT_DATA_PATH + \"/PR-CRNN+MATT_mel_1360_96.csv\", index = False)\n",
    "\n",
    "score = output_path + \"/AttentionNetwork16-cgrnn-mel_1360_96--auc-0.7120520788445732-accuracy-0.6905132532119751-params-tb_12-lr_0.1-weight_decay_1e-05-keep_prob_0.5.npy\"\n",
    "y_scores = np.load(score)\n",
    "print(\"CRNN-TF-MATT Bag-Level Average Precision: \", average_precision_score(testDataLoader.exclude_na_flatten_label, y_scores))\n",
    "y_predict_label_flatten = []\n",
    "for i in range(len(testDataLoader.instance_scope)):\n",
    "    y_predict_label_flatten.extend(\n",
    "        [y_scores.reshape(-1, 16)[i]] * (testDataLoader.instance_scope[i][1] - testDataLoader.instance_scope[i][0] + 1))\n",
    "y_predict_label_flatten = np.array(y_predict_label_flatten)\n",
    "# precision,recall,threshold = precision_recall_curve(testDataLoader.exclude_na_flatten_label,y_scores)\n",
    "precision,recall,threshold = precision_recall_curve(y_mel_label_.reshape(-1),y_predict_label_flatten.reshape(-1))\n",
    "print(\"CRNN-TF-MATT Segment-Level Average Precision: \", average_precision_score(y_mel_label_.reshape(-1),y_predict_label_flatten.reshape(-1)))\n",
    "# plt.plot(recall[:], precision[:], \"-c\", marker=\"2\", markevery=60, lw=2, label=\"MLP + MATT\")\n",
    "plt.plot(recall[:], precision[:],lw=4,  label=\"CRNN-TF + MATT\")\n",
    "pd.DataFrame({'precision': precision, 'recall': recall}).to_csv(PLOT_DATA_PATH + \"/PR-CRNN-TF+MATT_mel_1360_96.csv\", index = False)\n",
    "\n",
    "\n",
    "plt.xlabel('Recall', weight=\"bold\")\n",
    "plt.ylabel('Precision', weight=\"bold\")\n",
    "plt.ylim([0, 1])\n",
    "plt.xlim([0.0, 1.0])\n",
    "# plt.title('Precision-Recall Area={0:1.4f}'.format(auc))\n",
    "plt.legend(loc=\"lower right\")\n",
    "plt.grid(True)\n",
    "plt.xticks([0, 0.2, 0.4, 0.6, 0.8, 1], weight = 'bold')\n",
    "plt.yticks([0, 0.2, 0.4, 0.6, 0.8, 1], weight = 'bold')\n",
    "\n",
    "legend_properties = {'weight':'bold'}\n",
    "\n",
    "plt.legend(prop=legend_properties)\n",
    "\n",
    "plt.grid(True)\n",
    "plt.savefig(\"pr2.png\")\n",
    "plt.show()"
   ],
   "metadata": {
    "collapsed": false,
    "pycharm": {
     "name": "#%%\n"
    }
   }
  },
  {
   "cell_type": "code",
   "execution_count": 130,
   "outputs": [
    {
     "name": "stderr",
     "output_type": "stream",
     "text": [
      "C:\\Users\\Johan\\AppData\\Local\\Temp\\ipykernel_29488\\593184565.py:17: UserWarning: To copy construct from a tensor, it is recommended to use sourceTensor.clone().detach() or sourceTensor.clone().detach().requires_grad_(True), rather than torch.tensor(sourceTensor).\n",
      "  correct_predictions = torch.eq(label_, torch.tensor(predictions).float())\n"
     ]
    },
    {
     "data": {
      "text/plain": "tensor(0.6883)"
     },
     "execution_count": 130,
     "metadata": {},
     "output_type": "execute_result"
    }
   ],
   "source": [
    "testDataLoader = LoadFMA.FMATestDataLoader(mode=\"pr\", use_label = 'top' , feature_mode = \"fma_all\", device=device)\n",
    "\n",
    "index = []\n",
    "scope = [0]\n",
    "label = []\n",
    "for i in range(len(testDataLoader.instance_scope)):\n",
    "        index = index + list(range(testDataLoader.instance_scope[i][0], testDataLoader.instance_scope[i][1] + 1))\n",
    "        label.append(testDataLoader.label[testDataLoader.instance_scope[i][0]])\n",
    "        scope.append(scope[len(scope) - 1] + testDataLoader.instance_scope[i][1] - testDataLoader.instance_scope[i][0] + 1)\n",
    "label_ = np.zeros((len(testDataLoader.instance_scope), 16))\n",
    "label_[np.arange(len(testDataLoader.instance_scope)), label] = 1\n",
    "label_ = torch.argmax(torch.LongTensor(label_), axis = 1)\n",
    "\n",
    "score = output_path + \"/AttentionNetwork16-Blank-fma_all--auc-0.7202442584294232-accuracy-0.6883016228675842-params-tb_160-lr_0.2-weight_decay_1e-05-keep_prob_0.5.npy\"\n",
    "y_scores = np.load(score)\n",
    "predictions = torch.tensor(np.argmax(y_scores.reshape(-1, 16), axis = -1))\n",
    "correct_predictions = torch.eq(label_, torch.tensor(predictions).float())\n",
    "torch.mean(correct_predictions.float())\n",
    "sk_accuracy_sum = 0.0\n",
    "sk_total_num = 0.0\n",
    "for i in range(len(correct_predictions)):\n",
    "    sk_accuracy_sum += torch.eq(predictions[i],\n",
    "                                label_[i]) * (\n",
    "                                   testDataLoader.instance_scope[i][1] - testDataLoader.instance_scope[i][0] + 1)\n",
    "    sk_total_num += (testDataLoader.instance_scope[i][1] - testDataLoader.instance_scope[i][0] + 1)\n",
    "sk_accuracy_sum/sk_total_num"
   ],
   "metadata": {
    "collapsed": false,
    "pycharm": {
     "name": "#%%\n"
    }
   }
  },
  {
   "cell_type": "markdown",
   "source": [
    "# Calculate TopK Accuracy Manully"
   ],
   "metadata": {
    "collapsed": false,
    "pycharm": {
     "name": "#%% md\n"
    }
   }
  },
  {
   "cell_type": "markdown",
   "source": [
    "## MLP+MATT"
   ],
   "metadata": {
    "collapsed": false,
    "pycharm": {
     "name": "#%% md\n"
    }
   }
  },
  {
   "cell_type": "code",
   "execution_count": 131,
   "outputs": [],
   "source": [
    "score = output_path + \"/AttentionNetwork16-Blank-fma_all--auc-0.7202442584294232-accuracy-0.6883016228675842-params-tb_160-lr_0.2-weight_decay_1e-05-keep_prob_0.5.npy\""
   ],
   "metadata": {
    "collapsed": false,
    "pycharm": {
     "name": "#%%\n"
    }
   }
  },
  {
   "cell_type": "code",
   "execution_count": 132,
   "outputs": [
    {
     "name": "stdout",
     "output_type": "stream",
     "text": [
      "170 188\n"
     ]
    }
   ],
   "source": [
    "idx_fewid100_list = []\n",
    "for i in range(len(testDataLoader.label)): # 2573\n",
    "    if testDataLoader.label[i] in few_relid100:\n",
    "        idx_fewid100_list.append(i)\n",
    "\n",
    "idx_fewid200_list = []\n",
    "for i in range(len(testDataLoader.label)):\n",
    "    if testDataLoader.label[i] in few_relid200:\n",
    "        idx_fewid200_list.append(i)\n",
    "print(len(idx_fewid100_list) , len(idx_fewid200_list))\n"
   ],
   "metadata": {
    "collapsed": false,
    "pycharm": {
     "name": "#%%\n"
    }
   }
  },
  {
   "cell_type": "code",
   "execution_count": 133,
   "outputs": [
    {
     "data": {
      "text/plain": "2573"
     },
     "execution_count": 133,
     "metadata": {},
     "output_type": "execute_result"
    }
   ],
   "source": [
    "# y_label_flatten = []\n",
    "# score = output_path + \"/AttentionNetwork16-Blank-fma_all--auc-0.7202442584294232-accuracy-0.6883016228675842-params-tb_160-lr_0.2-weight_decay_1e-05-keep_prob_0.5.npy\"\n",
    "score = output_path + \"/AttentionNetwork16-Blank-fma_all--auc-0.7123190763259505-accuracy-0.6906335353851318-params-tb_160-lr_0.2-weight_decay_1e-05-keep_prob_0.5.npy\"\n",
    "y_scores = np.load(score)\n",
    "\n",
    "y_predict_label_flatten = []\n",
    "for i in range(len(testDataLoader.instance_scope)):\n",
    "    y_predict_label_flatten.extend([y_scores.reshape(-1, 16)[i]] * (testDataLoader.instance_scope[i][1] - testDataLoader.instance_scope[i][0] + 1) )\n",
    "\n",
    "y_predict_label_flatten = np.array(y_predict_label_flatten)\n",
    "len(y_predict_label_flatten)"
   ],
   "metadata": {
    "collapsed": false,
    "pycharm": {
     "name": "#%%\n"
    }
   }
  },
  {
   "cell_type": "code",
   "execution_count": 134,
   "outputs": [
    {
     "data": {
      "text/plain": "0.2823529411764706"
     },
     "execution_count": 134,
     "metadata": {},
     "output_type": "execute_result"
    }
   ],
   "source": [
    "top2score = top_k_accuracy_score(testDataLoader.label[idx_fewid100_list], y_predict_label_flatten[idx_fewid100_list], k=2, labels= labels)\n",
    "top2score"
   ],
   "metadata": {
    "collapsed": false,
    "pycharm": {
     "name": "#%%\n"
    }
   }
  },
  {
   "cell_type": "code",
   "execution_count": 90,
   "outputs": [
    {
     "data": {
      "text/plain": "0.4470588235294118"
     },
     "execution_count": 90,
     "metadata": {},
     "output_type": "execute_result"
    }
   ],
   "source": [
    "top2score = top_k_accuracy_score(testDataLoader.label[idx_fewid100_list], y_predict_label_flatten[idx_fewid100_list], k=3, labels= labels)\n",
    "top2score"
   ],
   "metadata": {
    "collapsed": false,
    "pycharm": {
     "name": "#%%\n"
    }
   }
  },
  {
   "cell_type": "code",
   "execution_count": 91,
   "outputs": [
    {
     "data": {
      "text/plain": "0.47058823529411764"
     },
     "execution_count": 91,
     "metadata": {},
     "output_type": "execute_result"
    }
   ],
   "source": [
    "top2score = top_k_accuracy_score(testDataLoader.label[idx_fewid100_list], y_predict_label_flatten[idx_fewid100_list], k=5, labels= labels)\n",
    "top2score"
   ],
   "metadata": {
    "collapsed": false,
    "pycharm": {
     "name": "#%%\n"
    }
   }
  },
  {
   "cell_type": "code",
   "execution_count": 92,
   "outputs": [
    {
     "data": {
      "text/plain": "0.26595744680851063"
     },
     "execution_count": 92,
     "metadata": {},
     "output_type": "execute_result"
    }
   ],
   "source": [
    "top2score = top_k_accuracy_score(testDataLoader.label[idx_fewid200_list], y_predict_label_flatten[idx_fewid200_list], k=2, labels= labels)\n",
    "top2score"
   ],
   "metadata": {
    "collapsed": false,
    "pycharm": {
     "name": "#%%\n"
    }
   }
  },
  {
   "cell_type": "code",
   "execution_count": 93,
   "outputs": [
    {
     "data": {
      "text/plain": "0.4148936170212766"
     },
     "execution_count": 93,
     "metadata": {},
     "output_type": "execute_result"
    }
   ],
   "source": [
    "top2score = top_k_accuracy_score(testDataLoader.label[idx_fewid200_list], y_predict_label_flatten[idx_fewid200_list], k=3, labels= labels)\n",
    "top2score"
   ],
   "metadata": {
    "collapsed": false,
    "pycharm": {
     "name": "#%%\n"
    }
   }
  },
  {
   "cell_type": "code",
   "execution_count": 94,
   "outputs": [
    {
     "data": {
      "text/plain": "0.44148936170212766"
     },
     "execution_count": 94,
     "metadata": {},
     "output_type": "execute_result"
    }
   ],
   "source": [
    "top2score = top_k_accuracy_score(testDataLoader.label[idx_fewid200_list], y_predict_label_flatten[idx_fewid200_list], k=5, labels= labels)\n",
    "top2score"
   ],
   "metadata": {
    "collapsed": false,
    "pycharm": {
     "name": "#%%\n"
    }
   }
  },
  {
   "cell_type": "code",
   "execution_count": 135,
   "outputs": [
    {
     "data": {
      "text/plain": "0.7123190763259505"
     },
     "execution_count": 135,
     "metadata": {},
     "output_type": "execute_result"
    }
   ],
   "source": [
    "average_precision_score(testDataLoader.exclude_na_flatten_label, y_scores)"
   ],
   "metadata": {
    "collapsed": false,
    "pycharm": {
     "name": "#%%\n"
    }
   }
  },
  {
   "cell_type": "markdown",
   "source": [
    "## CRNN"
   ],
   "metadata": {
    "collapsed": false
   }
  },
  {
   "cell_type": "code",
   "execution_count": 258,
   "outputs": [
    {
     "name": "stdout",
     "output_type": "stream",
     "text": [
      "170 188\n",
      "0.09411764705882353\n",
      "0.13529411764705881\n",
      "0.34705882352941175\n",
      "0.0851063829787234\n",
      "0.12234042553191489\n",
      "0.3882978723404255\n"
     ]
    }
   ],
   "source": [
    "testDataLoader = LoadFMA.FMATestDataLoader(mode=\"pr\", use_label = 'top' , feature_mode = \"mel_1360_96\", device=device)\n",
    "\n",
    "score = output_path + \"/CRNNBaseline16-mel_1360_96--auc-0.6243799852515145-accuracy-0.6323268413543701-params-tb_14-lr_0.2-weight_decay_1e-05-keep_prob_0.5.npy\"\n",
    "y_scores = np.load(score)\n",
    "\n",
    "idx_fewid100_list = []\n",
    "for i in range(len(testDataLoader.label)):  # 2573\n",
    "    if testDataLoader.label[i] in few_relid100:\n",
    "        idx_fewid100_list.append(i)\n",
    "\n",
    "idx_fewid200_list = []\n",
    "for i in range(len(testDataLoader.label)):\n",
    "    if testDataLoader.label[i] in few_relid200:\n",
    "        idx_fewid200_list.append(i)\n",
    "print(len(idx_fewid100_list), len(idx_fewid200_list))\n",
    "\n",
    "# y_label_flatten = []\n",
    "# score = output_path + \"/AttentionNetwork16-Blank-fma_all--auc-0.7202442584294232-accuracy-0.6883016228675842-params-tb_160-lr_0.2-weight_decay_1e-05-keep_prob_0.5.npy\"\n",
    "\n",
    "\n",
    "y_predict_label_flatten = []\n",
    "for i in range(len(testDataLoader.instance_scope)):\n",
    "    y_predict_label_flatten.extend(\n",
    "        [y_scores.reshape(-1, 16)[i]] * (testDataLoader.instance_scope[i][1] - testDataLoader.instance_scope[i][0] + 1))\n",
    "\n",
    "y_predict_label_flatten = np.array(y_predict_label_flatten)\n",
    "len(y_predict_label_flatten)\n",
    "top2score = top_k_accuracy_score(testDataLoader.label[idx_fewid100_list], y_predict_label_flatten[idx_fewid100_list],\n",
    "                                 k=2, labels=labels)\n",
    "print(top2score)\n",
    "top2score = top_k_accuracy_score(testDataLoader.label[idx_fewid100_list], y_predict_label_flatten[idx_fewid100_list],\n",
    "                                 k=3, labels=labels)\n",
    "print(top2score)\n",
    "top2score = top_k_accuracy_score(testDataLoader.label[idx_fewid100_list], y_predict_label_flatten[idx_fewid100_list],\n",
    "                                 k=5, labels=labels)\n",
    "print(top2score)\n",
    "top2score = top_k_accuracy_score(testDataLoader.label[idx_fewid200_list], y_predict_label_flatten[idx_fewid200_list],\n",
    "                                 k=2, labels=labels)\n",
    "print(top2score)\n",
    "top2score = top_k_accuracy_score(testDataLoader.label[idx_fewid200_list], y_predict_label_flatten[idx_fewid200_list],\n",
    "                                 k=3, labels=labels)\n",
    "print(top2score)\n",
    "top2score = top_k_accuracy_score(testDataLoader.label[idx_fewid200_list], y_predict_label_flatten[idx_fewid200_list],\n",
    "                                 k=5, labels=labels)\n",
    "print(top2score)\n",
    "# print(average_precision_score(testDataLoader.exclude_na_flatten_label, y_scores))"
   ],
   "metadata": {
    "collapsed": false,
    "pycharm": {
     "name": "#%%\n"
    }
   }
  },
  {
   "cell_type": "markdown",
   "source": [
    "## CRNN-TF"
   ],
   "metadata": {
    "collapsed": false,
    "pycharm": {
     "name": "#%% md\n"
    }
   }
  },
  {
   "cell_type": "code",
   "execution_count": 156,
   "outputs": [
    {
     "name": "stdout",
     "output_type": "stream",
     "text": [
      "170 188\n",
      "0.023529411764705882\n",
      "0.09411764705882353\n",
      "0.20588235294117646\n",
      "0.02127659574468085\n",
      "0.0851063829787234\n",
      "0.18617021276595744\n"
     ]
    }
   ],
   "source": [
    "testDataLoader = LoadFMA.FMATestDataLoader(mode=\"pr\", use_label = 'top' , feature_mode = \"mel_1360_96\", device=device)\n",
    "\n",
    "score = output_path + \"/CGRNNBaseline16-mel_1360_96--auc-0.6243979863337593-accuracy-0.6475671529769897-params-tb_14-lr_0.2-weight_decay_1e-05-keep_prob_0.5.npy\"\n",
    "y_scores = np.load(score)\n",
    "\n",
    "idx_fewid100_list = []\n",
    "for i in range(len(testDataLoader.label)):  # 2573\n",
    "    if testDataLoader.label[i] in few_relid100:\n",
    "        idx_fewid100_list.append(i)\n",
    "\n",
    "idx_fewid200_list = []\n",
    "for i in range(len(testDataLoader.label)):\n",
    "    if testDataLoader.label[i] in few_relid200:\n",
    "        idx_fewid200_list.append(i)\n",
    "print(len(idx_fewid100_list), len(idx_fewid200_list))\n",
    "\n",
    "# y_label_flatten = []\n",
    "# score = output_path + \"/AttentionNetwork16-Blank-fma_all--auc-0.7202442584294232-accuracy-0.6883016228675842-params-tb_160-lr_0.2-weight_decay_1e-05-keep_prob_0.5.npy\"\n",
    "\n",
    "\n",
    "y_predict_label_flatten = []\n",
    "for i in range(len(testDataLoader.instance_scope)):\n",
    "    y_predict_label_flatten.extend(\n",
    "        [y_scores.reshape(-1, 16)[i]] * (testDataLoader.instance_scope[i][1] - testDataLoader.instance_scope[i][0] + 1))\n",
    "\n",
    "y_predict_label_flatten = np.array(y_predict_label_flatten)\n",
    "len(y_predict_label_flatten)\n",
    "top2score = top_k_accuracy_score(testDataLoader.label[idx_fewid100_list], y_predict_label_flatten[idx_fewid100_list],\n",
    "                                 k=2, labels=labels)\n",
    "print(top2score)\n",
    "top2score = top_k_accuracy_score(testDataLoader.label[idx_fewid100_list], y_predict_label_flatten[idx_fewid100_list],\n",
    "                                 k=3, labels=labels)\n",
    "print(top2score)\n",
    "top2score = top_k_accuracy_score(testDataLoader.label[idx_fewid100_list], y_predict_label_flatten[idx_fewid100_list],\n",
    "                                 k=5, labels=labels)\n",
    "print(top2score)\n",
    "top2score = top_k_accuracy_score(testDataLoader.label[idx_fewid200_list], y_predict_label_flatten[idx_fewid200_list],\n",
    "                                 k=2, labels=labels)\n",
    "print(top2score)\n",
    "top2score = top_k_accuracy_score(testDataLoader.label[idx_fewid200_list], y_predict_label_flatten[idx_fewid200_list],\n",
    "                                 k=3, labels=labels)\n",
    "print(top2score)\n",
    "top2score = top_k_accuracy_score(testDataLoader.label[idx_fewid200_list], y_predict_label_flatten[idx_fewid200_list],\n",
    "                                 k=5, labels=labels)\n",
    "print(top2score)\n",
    "# print(average_precision_score(testDataLoader.exclude_na_flatten_label, y_scores))"
   ],
   "metadata": {
    "collapsed": false,
    "pycharm": {
     "name": "#%%\n"
    }
   }
  },
  {
   "cell_type": "markdown",
   "source": [
    "## CRNN+MATT"
   ],
   "metadata": {
    "collapsed": false,
    "pycharm": {
     "name": "#%% md\n"
    }
   }
  },
  {
   "cell_type": "code",
   "execution_count": 157,
   "outputs": [
    {
     "name": "stdout",
     "output_type": "stream",
     "text": [
      "170 188\n",
      "0.5411764705882353\n",
      "0.5588235294117647\n",
      "0.5764705882352941\n",
      "0.4946808510638298\n",
      "0.5159574468085106\n",
      "0.6170212765957447\n",
      "0.681650779797164\n"
     ]
    }
   ],
   "source": [
    "testDataLoader = LoadFMA.FMATestDataLoader(mode=\"pr\", use_label = 'top' , feature_mode = \"mel_1360_96\", device=device)\n",
    "\n",
    "score = output_path + \"/AttentionNetwork16-crnn-mel_1360_96--auc-0.681650779797164-accuracy-0.690902054309845-params-tb_12-lr_0.3-weight_decay_1e-05-keep_prob_0.5.npy\"\n",
    "y_scores = np.load(score)\n",
    "\n",
    "idx_fewid100_list = []\n",
    "for i in range(len(testDataLoader.label)):  # 2573\n",
    "    if testDataLoader.label[i] in few_relid100:\n",
    "        idx_fewid100_list.append(i)\n",
    "\n",
    "idx_fewid200_list = []\n",
    "for i in range(len(testDataLoader.label)):\n",
    "    if testDataLoader.label[i] in few_relid200:\n",
    "        idx_fewid200_list.append(i)\n",
    "print(len(idx_fewid100_list), len(idx_fewid200_list))\n",
    "\n",
    "# y_label_flatten = []\n",
    "# score = output_path + \"/AttentionNetwork16-Blank-fma_all--auc-0.7202442584294232-accuracy-0.6883016228675842-params-tb_160-lr_0.2-weight_decay_1e-05-keep_prob_0.5.npy\"\n",
    "\n",
    "\n",
    "y_predict_label_flatten = []\n",
    "for i in range(len(testDataLoader.instance_scope)):\n",
    "    y_predict_label_flatten.extend(\n",
    "        [y_scores.reshape(-1, 16)[i]] * (testDataLoader.instance_scope[i][1] - testDataLoader.instance_scope[i][0] + 1))\n",
    "\n",
    "y_predict_label_flatten = np.array(y_predict_label_flatten)\n",
    "len(y_predict_label_flatten)\n",
    "top2score = top_k_accuracy_score(testDataLoader.label[idx_fewid100_list], y_predict_label_flatten[idx_fewid100_list],\n",
    "                                 k=2, labels=labels)\n",
    "print(top2score)\n",
    "top2score = top_k_accuracy_score(testDataLoader.label[idx_fewid100_list], y_predict_label_flatten[idx_fewid100_list],\n",
    "                                 k=3, labels=labels)\n",
    "print(top2score)\n",
    "top2score = top_k_accuracy_score(testDataLoader.label[idx_fewid100_list], y_predict_label_flatten[idx_fewid100_list],\n",
    "                                 k=5, labels=labels)\n",
    "print(top2score)\n",
    "top2score = top_k_accuracy_score(testDataLoader.label[idx_fewid200_list], y_predict_label_flatten[idx_fewid200_list],\n",
    "                                 k=2, labels=labels)\n",
    "print(top2score)\n",
    "top2score = top_k_accuracy_score(testDataLoader.label[idx_fewid200_list], y_predict_label_flatten[idx_fewid200_list],\n",
    "                                 k=3, labels=labels)\n",
    "print(top2score)\n",
    "top2score = top_k_accuracy_score(testDataLoader.label[idx_fewid200_list], y_predict_label_flatten[idx_fewid200_list],\n",
    "                                 k=5, labels=labels)\n",
    "print(top2score)\n",
    "print(average_precision_score(testDataLoader.exclude_na_flatten_label, y_scores))"
   ],
   "metadata": {
    "collapsed": false,
    "pycharm": {
     "name": "#%%\n"
    }
   }
  },
  {
   "cell_type": "markdown",
   "source": [
    "## CGRNN+MATT"
   ],
   "metadata": {
    "collapsed": false,
    "pycharm": {
     "name": "#%% md\n"
    }
   }
  },
  {
   "cell_type": "code",
   "execution_count": 158,
   "outputs": [
    {
     "name": "stdout",
     "output_type": "stream",
     "text": [
      "170 188\n",
      "0.5411764705882353\n",
      "0.6352941176470588\n",
      "0.6529411764705882\n",
      "0.4946808510638298\n",
      "0.5904255319148937\n",
      "0.6117021276595744\n",
      "0.7120520788445732\n"
     ]
    }
   ],
   "source": [
    "testDataLoader = LoadFMA.FMATestDataLoader(mode=\"pr\", use_label = 'top' , feature_mode = \"mel_1360_96\", device=device)\n",
    "\n",
    "score = output_path + \"/AttentionNetwork16-cgrnn-mel_1360_96--auc-0.7120520788445732-accuracy-0.6905132532119751-params-tb_12-lr_0.1-weight_decay_1e-05-keep_prob_0.5.npy\"\n",
    "y_scores = np.load(score)\n",
    "\n",
    "idx_fewid100_list = []\n",
    "for i in range(len(testDataLoader.label)):  # 2573\n",
    "    if testDataLoader.label[i] in few_relid100:\n",
    "        idx_fewid100_list.append(i)\n",
    "\n",
    "idx_fewid200_list = []\n",
    "for i in range(len(testDataLoader.label)):\n",
    "    if testDataLoader.label[i] in few_relid200:\n",
    "        idx_fewid200_list.append(i)\n",
    "print(len(idx_fewid100_list), len(idx_fewid200_list))\n",
    "\n",
    "# y_label_flatten = []\n",
    "# score = output_path + \"/AttentionNetwork16-Blank-fma_all--auc-0.7202442584294232-accuracy-0.6883016228675842-params-tb_160-lr_0.2-weight_decay_1e-05-keep_prob_0.5.npy\"\n",
    "\n",
    "\n",
    "y_predict_label_flatten = []\n",
    "for i in range(len(testDataLoader.instance_scope)):\n",
    "    y_predict_label_flatten.extend(\n",
    "        [y_scores.reshape(-1, 16)[i]] * (testDataLoader.instance_scope[i][1] - testDataLoader.instance_scope[i][0] + 1))\n",
    "\n",
    "y_predict_label_flatten = np.array(y_predict_label_flatten)\n",
    "len(y_predict_label_flatten)\n",
    "top2score = top_k_accuracy_score(testDataLoader.label[idx_fewid100_list], y_predict_label_flatten[idx_fewid100_list],\n",
    "                                 k=2, labels=labels)\n",
    "print(top2score)\n",
    "top2score = top_k_accuracy_score(testDataLoader.label[idx_fewid100_list], y_predict_label_flatten[idx_fewid100_list],\n",
    "                                 k=3, labels=labels)\n",
    "print(top2score)\n",
    "top2score = top_k_accuracy_score(testDataLoader.label[idx_fewid100_list], y_predict_label_flatten[idx_fewid100_list],\n",
    "                                 k=5, labels=labels)\n",
    "print(top2score)\n",
    "top2score = top_k_accuracy_score(testDataLoader.label[idx_fewid200_list], y_predict_label_flatten[idx_fewid200_list],\n",
    "                                 k=2, labels=labels)\n",
    "print(top2score)\n",
    "top2score = top_k_accuracy_score(testDataLoader.label[idx_fewid200_list], y_predict_label_flatten[idx_fewid200_list],\n",
    "                                 k=3, labels=labels)\n",
    "print(top2score)\n",
    "top2score = top_k_accuracy_score(testDataLoader.label[idx_fewid200_list], y_predict_label_flatten[idx_fewid200_list],\n",
    "                                 k=5, labels=labels)\n",
    "print(top2score)\n",
    "print(average_precision_score(testDataLoader.exclude_na_flatten_label, y_scores))"
   ],
   "metadata": {
    "collapsed": false,
    "pycharm": {
     "name": "#%%\n"
    }
   }
  },
  {
   "cell_type": "markdown",
   "source": [
    "# Calculate Accuracy Manully"
   ],
   "metadata": {
    "collapsed": false,
    "pycharm": {
     "name": "#%% md\n"
    }
   }
  },
  {
   "cell_type": "code",
   "execution_count": 176,
   "outputs": [],
   "source": [
    "testDataLoader = LoadFMA.FMATestDataLoader(mode=\"pr\", use_label = 'top' , feature_mode = \"fma_all\", device=device)\n",
    "\n",
    "index = []\n",
    "scope = [0]\n",
    "label = []\n",
    "for i in range(len(testDataLoader.instance_scope)):\n",
    "        index = index + list(range(testDataLoader.instance_scope[i][0], testDataLoader.instance_scope[i][1] + 1))\n",
    "        label.append(testDataLoader.label[testDataLoader.instance_scope[i][0]])\n",
    "        scope.append(scope[len(scope) - 1] + testDataLoader.instance_scope[i][1] - testDataLoader.instance_scope[i][0] + 1)\n",
    "label_ = np.zeros((len(testDataLoader.instance_scope), 16))\n",
    "label_[np.arange(len(testDataLoader.instance_scope)), label] = 1\n",
    "label_ = torch.argmax(torch.LongTensor(label_), axis = 1)"
   ],
   "metadata": {
    "collapsed": false,
    "pycharm": {
     "name": "#%%\n"
    }
   }
  },
  {
   "cell_type": "code",
   "execution_count": 168,
   "outputs": [
    {
     "name": "stderr",
     "output_type": "stream",
     "text": [
      "C:\\Users\\Johan\\AppData\\Local\\Temp\\ipykernel_30548\\1101841486.py:9: UserWarning: To copy construct from a tensor, it is recommended to use sourceTensor.clone().detach() or sourceTensor.clone().detach().requires_grad_(True), rather than torch.tensor(sourceTensor).\n",
      "  correct_predictions = torch.eq(label_, torch.tensor(predictions).float())\n"
     ]
    },
    {
     "data": {
      "text/plain": "tensor(0.6883)"
     },
     "execution_count": 168,
     "metadata": {},
     "output_type": "execute_result"
    }
   ],
   "source": [
    "score = output_path + \"/AttentionNetwork16-Blank-fma_all--auc-0.7202442584294232-accuracy-0.6883016228675842-params-tb_160-lr_0.2-weight_decay_1e-05-keep_prob_0.5.npy\"\n",
    "all_true_label =  np.zeros((len(testDataLoader.label_top), 16))\n",
    "for pid in range(len(testDataLoader.label_top)):\n",
    "    all_true_label[pid][testDataLoader.label_top[pid]] = 1\n",
    "testDataLoader.exclude_na_flatten_label = np.reshape(all_true_label, -1)\n",
    "\n",
    "y_scores = np.load(score)\n",
    "predictions = torch.tensor(np.argmax(y_scores.reshape(-1, 16), axis = -1))\n",
    "correct_predictions = torch.eq(label_, torch.tensor(predictions).float())\n",
    "torch.mean(correct_predictions.float())\n",
    "sk_accuracy_sum = 0.0\n",
    "sk_total_num = 0.0\n",
    "for i in range(len(correct_predictions)):\n",
    "    sk_accuracy_sum += torch.eq(predictions[i],\n",
    "                                label_[i]) * (\n",
    "                                   testDataLoader.instance_scope[i][1] - testDataLoader.instance_scope[i][0] + 1)\n",
    "    sk_total_num += (testDataLoader.instance_scope[i][1] - testDataLoader.instance_scope[i][0] + 1)\n",
    "sk_accuracy_sum/sk_total_num"
   ],
   "metadata": {
    "collapsed": false,
    "pycharm": {
     "name": "#%%\n"
    }
   }
  },
  {
   "cell_type": "code",
   "execution_count": 175,
   "outputs": [
    {
     "name": "stderr",
     "output_type": "stream",
     "text": [
      "C:\\Users\\Johan\\AppData\\Local\\Temp\\ipykernel_30548\\4047025046.py:21: UserWarning: To copy construct from a tensor, it is recommended to use sourceTensor.clone().detach() or sourceTensor.clone().detach().requires_grad_(True), rather than torch.tensor(sourceTensor).\n",
      "  correct_predictions = torch.eq(label_, torch.tensor(predictions).float())\n"
     ]
    },
    {
     "data": {
      "text/plain": "tensor(0.7158)"
     },
     "execution_count": 175,
     "metadata": {},
     "output_type": "execute_result"
    }
   ],
   "source": [
    "# all_true_label =  np.zeros((len(testDataLoader.label_top), 16))\n",
    "# for pid in range(len(testDataLoader.label_top)):\n",
    "#     all_true_label[pid][testDataLoader.label_top[pid]] = 1\n",
    "# testDataLoader.exclude_na_flatten_label = np.reshape(all_true_label, -1)\n",
    "testDataLoader =  LoadFMA.FMATestDataLoader(mode=\"pr\", use_label = 'top' , feature_mode = 'mel_1360_96', device=device)\n",
    "\n",
    "index = []\n",
    "scope = [0]\n",
    "label = []\n",
    "for i in range(len(testDataLoader.instance_scope)):\n",
    "        index = index + list(range(testDataLoader.instance_scope[i][0], testDataLoader.instance_scope[i][1] + 1))\n",
    "        label.append(testDataLoader.label[testDataLoader.instance_scope[i][0]])\n",
    "        scope.append(scope[len(scope) - 1] + testDataLoader.instance_scope[i][1] - testDataLoader.instance_scope[i][0] + 1)\n",
    "label_ = np.zeros((len(testDataLoader.instance_scope), 16))\n",
    "label_[np.arange(len(testDataLoader.instance_scope)), label] = 1\n",
    "label_ = torch.argmax(torch.LongTensor(label_), axis = 1)\n",
    "\n",
    "score = output_path + \"/MNMLP1LayerBag-cgrnn-mel_1360_96--auc-0.5381815039629877-accuracy-0.7157853841781616-params-tb_14-lr_0.1-weight_decay_1e-05-keep_prob_0.5.npy\"\n",
    "y_scores = np.load(score)\n",
    "predictions = torch.tensor(np.argmax(y_scores.reshape(-1, 16), axis = -1))\n",
    "correct_predictions = torch.eq(label_, torch.tensor(predictions).float())\n",
    "torch.mean(correct_predictions.float())\n",
    "sk_accuracy_sum = 0.0\n",
    "sk_total_num = 0.0\n",
    "for i in range(len(correct_predictions)):\n",
    "    sk_accuracy_sum += torch.eq(predictions[i],\n",
    "                                label_[i]) * (\n",
    "                                   testDataLoader.instance_scope[i][1] - testDataLoader.instance_scope[i][0] + 1)\n",
    "    sk_total_num += (testDataLoader.instance_scope[i][1] - testDataLoader.instance_scope[i][0] + 1)\n",
    "sk_accuracy_sum/sk_total_num"
   ],
   "metadata": {
    "collapsed": false,
    "pycharm": {
     "name": "#%%\n"
    }
   }
  },
  {
   "cell_type": "code",
   "execution_count": 85,
   "outputs": [
    {
     "data": {
      "text/plain": "tensor(0.6369)"
     },
     "execution_count": 85,
     "metadata": {},
     "output_type": "execute_result"
    }
   ],
   "source": [
    "sk_accuracy_sum = 0.0\n",
    "sk_total_num = 0.0\n",
    "for i in range(len(testDataLoader.instance_scope)):\n",
    "    if testDataLoader.instance_scope[i][0] == testDataLoader.instance_scope[i][1]:\n",
    "        sk_accuracy_sum += torch.eq(predictions[i],\n",
    "                                label_[i]) * (testDataLoader.instance_scope[i][1] - testDataLoader.instance_scope[i][0] + 1)\n",
    "        sk_total_num += (testDataLoader.instance_scope[i][1] - testDataLoader.instance_scope[i][0] + 1)\n",
    "sk_accuracy_sum/sk_total_num"
   ],
   "metadata": {
    "collapsed": false,
    "pycharm": {
     "name": "#%%\n"
    }
   }
  },
  {
   "cell_type": "code",
   "execution_count": 86,
   "outputs": [],
   "source": [
    "evalMetric = metric.EvaFMATMetric(testDataLoader.id2genre,\n",
    "                                               testDataLoader.fewrel_100,\n",
    "                                               testDataLoader.fewrel_200,\n",
    "                                               exclude_na_flatten_label,\n",
    "                                               exclude_na_label,\n",
    "                                               index_non_zero\n",
    "                                               )"
   ],
   "metadata": {
    "collapsed": false,
    "pycharm": {
     "name": "#%%\n"
    }
   }
  },
  {
   "cell_type": "code",
   "execution_count": 87,
   "outputs": [
    {
     "data": {
      "text/plain": "{'mi_10': 0.0,\n 'mi_15': 0.0,\n 'mi_20': 0.029535864978902954,\n 'ma_10': 0.0,\n 'ma_15': 0.0,\n 'ma_20': 0.05798079807980798}"
     },
     "execution_count": 87,
     "metadata": {},
     "output_type": "execute_result"
    }
   ],
   "source": [
    "evalMetric.mi_ma_100_sklearn(y_scores.reshape(-1, 16), testDataLoader.instance_scope)"
   ],
   "metadata": {
    "collapsed": false,
    "pycharm": {
     "name": "#%%\n"
    }
   }
  },
  {
   "cell_type": "markdown",
   "source": [
    "# evalMetric.mi_ma_100_stdsk(mlp_results_prob, y_test)"
   ],
   "metadata": {
    "collapsed": false,
    "pycharm": {
     "name": "#%% md\n"
    }
   }
  },
  {
   "cell_type": "code",
   "execution_count": null,
   "outputs": [],
   "source": [
    "import PyGnuplot as gp\n",
    "gp.default_term = 'wxt'\n"
   ],
   "metadata": {
    "collapsed": false,
    "pycharm": {
     "name": "#%%\n"
    }
   }
  },
  {
   "cell_type": "code",
   "execution_count": null,
   "outputs": [],
   "source": [
    "X = np.arange(10)\n",
    "Y = np.sin(X/(2*np.pi))\n",
    "Z = Y**2.0\n",
    "gp.s([X,Y,Z])\n",
    "gp.c('plot \"tmp.dat\" u 1:2 w lp')\n",
    "gp.c('replot \"tmp.dat\" u 1:3 w lp')\n",
    "gp.p('myfigure.ps')"
   ],
   "metadata": {
    "collapsed": false,
    "pycharm": {
     "name": "#%%\n"
    }
   }
  },
  {
   "cell_type": "code",
   "execution_count": 123,
   "outputs": [
    {
     "data": {
      "text/plain": "0.0"
     },
     "execution_count": 123,
     "metadata": {},
     "output_type": "execute_result"
    }
   ],
   "source": [
    "medium_label = np.load(DATA_PATH + '/' + 'medium_label.npy')\n",
    "medium_scope = np.load(DATA_PATH + '/' + 'medium_instance_scope.npy')\n",
    "unique_size = 0.0\n",
    "for i, j in medium_scope:\n",
    "    o = medium_label[i]\n",
    "    for k in range(i, j+1):\n",
    "        if medium_label[k] != o:\n",
    "            unique_size += 1\n",
    "unique_size/len(medium_label)"
   ],
   "metadata": {
    "collapsed": false,
    "pycharm": {
     "name": "#%%\n"
    }
   }
  },
  {
   "cell_type": "code",
   "execution_count": 124,
   "outputs": [
    {
     "data": {
      "text/plain": "array([24999, 24999])"
     },
     "execution_count": 124,
     "metadata": {},
     "output_type": "execute_result"
    }
   ],
   "source": [
    "medium_scope[-1]"
   ],
   "metadata": {
    "collapsed": false,
    "pycharm": {
     "name": "#%%\n"
    }
   }
  },
  {
   "cell_type": "code",
   "execution_count": 121,
   "outputs": [
    {
     "data": {
      "text/plain": "0.0"
     },
     "execution_count": 121,
     "metadata": {},
     "output_type": "execute_result"
    }
   ],
   "source": [
    "medium_label = np.load(DATA_PATH + '/' + 'large_label.npy')\n",
    "medium_scope = np.load(DATA_PATH + '/' + 'large_instance_scope.npy')\n",
    "unique_size = 0.0\n",
    "for i, j in medium_scope:\n",
    "    o = medium_label[i]\n",
    "    for k in range(i, j+1):\n",
    "        if medium_label[k] != o:\n",
    "            unique_size += 1\n",
    "unique_size/len(medium_label)"
   ],
   "metadata": {
    "collapsed": false,
    "pycharm": {
     "name": "#%%\n"
    }
   }
  },
  {
   "cell_type": "code",
   "execution_count": 122,
   "outputs": [
    {
     "data": {
      "text/plain": "array([106573, 106573])"
     },
     "execution_count": 122,
     "metadata": {},
     "output_type": "execute_result"
    }
   ],
   "source": [
    "medium_scope[-1]"
   ],
   "metadata": {
    "collapsed": false,
    "pycharm": {
     "name": "#%%\n"
    }
   }
  },
  {
   "cell_type": "code",
   "execution_count": 116,
   "outputs": [
    {
     "data": {
      "text/plain": "0.00985527834502353"
     },
     "execution_count": 116,
     "metadata": {},
     "output_type": "execute_result"
    }
   ],
   "source": [
    "medium_label = np.load(DATA_PATH + '/' + 'large_test_label.npy')\n",
    "medium_scope = np.load(DATA_PATH + '/' + 'large_test_entity_scope.npy')\n",
    "unique_size = 0.0\n",
    "for i, j in medium_scope:\n",
    "    o = medium_label[i]\n",
    "    for k in range(i, j+1):\n",
    "        if medium_label[k] != o:\n",
    "            unique_size += 1\n",
    "unique_size/len(medium_label)"
   ],
   "metadata": {
    "collapsed": false,
    "pycharm": {
     "name": "#%%\n"
    }
   }
  },
  {
   "cell_type": "code",
   "execution_count": null,
   "outputs": [],
   "source": [],
   "metadata": {
    "collapsed": false,
    "pycharm": {
     "name": "#%%\n"
    }
   }
  }
 ],
 "metadata": {
  "kernelspec": {
   "display_name": "Python 3",
   "language": "python",
   "name": "python3"
  },
  "language_info": {
   "codemirror_mode": {
    "name": "ipython",
    "version": 2
   },
   "file_extension": ".py",
   "mimetype": "text/x-python",
   "name": "python",
   "nbconvert_exporter": "python",
   "pygments_lexer": "ipython2",
   "version": "2.7.6"
  }
 },
 "nbformat": 4,
 "nbformat_minor": 0
}