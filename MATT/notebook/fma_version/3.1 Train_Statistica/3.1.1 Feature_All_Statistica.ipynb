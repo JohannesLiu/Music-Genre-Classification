{
 "cells": [
  {
   "cell_type": "code",
   "execution_count": 53,
   "metadata": {
    "collapsed": true
   },
   "outputs": [],
   "source": [
    "%matplotlib inline\n",
    "\n",
    "import IPython.display as ipd\n",
    "import numpy as np\n",
    "import pandas as pd\n",
    "import matplotlib.pyplot as plt\n",
    "import seaborn as sns\n",
    "from sklearn.preprocessing import MultiLabelBinarizer\n",
    "import os\n",
    "import sys\n",
    "import sklearn as skl\n",
    "import sklearn.utils, sklearn.preprocessing, sklearn.decomposition, sklearn.svm\n",
    "from sklearn.neural_network import MLPClassifier\n",
    "\n",
    "from ast import literal_eval\n",
    "\n",
    "\"\"\n",
    "sns.set_context(\"notebook\", font_scale=1.5)\n",
    "plt.rcParams['figure.figsize'] = (17, 5)\n",
    "\n",
    "import platform\n",
    "if 'Windows' in platform.platform():\n",
    "    ROOT_PATH = \"D:/PycharmProjects/HMAN\"\n",
    "else:\n",
    "    ROOT_PATH = \"/home/xkliu/PycharmProjects/HMAN\"\n",
    "RAW_DATA_PATH = ROOT_PATH  + \"/raw_data\"\n",
    "DATA_PATH = ROOT_PATH + \"/data\"\n",
    "os.chdir(ROOT_PATH)\n",
    "sys.path.append(\"./\")\n",
    "\n",
    "from kddirkit.utils import utils\n",
    "from sklearn.metrics import average_precision_score\n",
    "from sklearn.metrics import precision_recall_curve\n",
    "from pprint import pprint"
   ]
  },
  {
   "cell_type": "markdown",
   "source": [
    "## 1. Load Data"
   ],
   "metadata": {
    "collapsed": false
   }
  },
  {
   "cell_type": "code",
   "execution_count": 2,
   "outputs": [],
   "source": [
    "track_dtype = {'track_id': int, 'album_id': int, 'album_type': str, 'artist_id': int, 'set_split': str,\n",
    "               'set_subset': str, 'track_genre_top': str, 'track_genres': str, 'track_genres_all': str,\n",
    "               'track_title': str}\n",
    "genres_converters = {'track_genres': literal_eval, 'track_genres_all': literal_eval}\n",
    "medium_data = pd.read_csv(RAW_DATA_PATH + '/medium_data.csv', converters=genres_converters)"
   ],
   "metadata": {
    "collapsed": false,
    "pycharm": {
     "name": "#%%\n"
    }
   }
  },
  {
   "cell_type": "code",
   "execution_count": 3,
   "outputs": [],
   "source": [
    "medium_data_train = pd.read_csv(RAW_DATA_PATH + '/medium_data_train.csv', converters=genres_converters)\n",
    "medium_data_test = pd.read_csv(RAW_DATA_PATH + '/medium_data_test.csv', converters=genres_converters)\n",
    "medium_data_val = pd.read_csv(RAW_DATA_PATH + '/medium_data_val.csv', converters=genres_converters)"
   ],
   "metadata": {
    "collapsed": false,
    "pycharm": {
     "name": "#%%\n"
    }
   }
  },
  {
   "cell_type": "code",
   "execution_count": 4,
   "outputs": [],
   "source": [
    "medium_instance_triple = np.load(DATA_PATH + '/' + 'medium_instance_triple.npy')\n",
    "medium_instance_scope = np.load(DATA_PATH + '/' + 'medium_instance_scope.npy')\n",
    "medium_label = np.load(DATA_PATH + '/' + 'medium_label.npy')"
   ],
   "metadata": {
    "collapsed": false,
    "pycharm": {
     "name": "#%%\n"
    }
   }
  },
  {
   "cell_type": "code",
   "execution_count": 5,
   "outputs": [],
   "source": [
    "medium_train_instance_triple = np.load(DATA_PATH + '/' + 'medium_train_instance_triple.npy')\n",
    "medium_train_instance_scope = np.load(DATA_PATH + '/' + 'medium_train_instance_scope.npy')\n",
    "medium_train_label = np.load(DATA_PATH + '/' + 'medium_train_label.npy')"
   ],
   "metadata": {
    "collapsed": false,
    "pycharm": {
     "name": "#%%\n"
    }
   }
  },
  {
   "cell_type": "code",
   "execution_count": 6,
   "outputs": [],
   "source": [
    "medium_val_instance_triple = np.load(DATA_PATH + '/' + 'medium_val_instance_triple.npy')\n",
    "medium_val_instance_scope = np.load(DATA_PATH + '/' + 'medium_val_instance_scope.npy')\n",
    "medium_val_label = np.load(DATA_PATH + '/' + 'medium_val_label.npy')"
   ],
   "metadata": {
    "collapsed": false,
    "pycharm": {
     "name": "#%%\n"
    }
   }
  },
  {
   "cell_type": "code",
   "execution_count": 7,
   "outputs": [],
   "source": [
    "medium_test_entity_pair = np.load(DATA_PATH + '/' + 'medium_test_entity_pair.npy')\n",
    "medium_test_entity_scope = np.load(DATA_PATH + '/' + 'medium_test_entity_scope.npy')\n",
    "medium_test_label = np.load(DATA_PATH + '/' + 'medium_test_label.npy')"
   ],
   "metadata": {
    "collapsed": false,
    "pycharm": {
     "name": "#%%\n"
    }
   }
  },
  {
   "cell_type": "code",
   "execution_count": 8,
   "outputs": [],
   "source": [
    "medium_label_transform = np.load(DATA_PATH + '/' + 'medium_label_transform.npy')\n",
    "medium_train_label_transform = np.load(DATA_PATH + '/' + 'medium_train_label_transform.npy')\n",
    "medium_val_label_transform = np.load(DATA_PATH + '/' + 'medium_val_label_transform.npy')\n",
    "medium_test_label_transform = np.load(DATA_PATH + '/' + 'medium_test_label_transform.npy')\n",
    "medium_label_bottom_transform = np.load(DATA_PATH + '/' + 'medium_label_bottom_transform.npy')\n",
    "medium_train_label_bottom_transform = np.load(DATA_PATH + '/' + 'medium_train_label_bottom_transform.npy')\n",
    "medium_val_label_bottom_transform = np.load(DATA_PATH + '/' + 'medium_val_label_bottom_transform.npy')\n",
    "medium_test_label_bottom_transform = np.load(DATA_PATH + '/' + 'medium_test_label_bottom_transform.npy')"
   ],
   "metadata": {
    "collapsed": false,
    "pycharm": {
     "name": "#%%\n"
    }
   }
  },
  {
   "cell_type": "code",
   "execution_count": 9,
   "outputs": [
    {
     "name": "stderr",
     "output_type": "stream",
     "text": [
      "C:\\Users\\Johan\\AppData\\Local\\Temp\\ipykernel_236352\\691608824.py:2: ParserWarning: Falling back to the 'python' engine because the 'c' engine does not support regex separators (separators > 1 char and different from '\\s+' are interpreted as regex); you can avoid this warning by specifying engine='python'.\n",
      "  medium_data_train_sort = pd.read_csv(RAW_DATA_PATH + '/' + 'medium_data_train_sort.txt', sep ='-----',  skiprows =1, names  = col_name)\n",
      "C:\\Users\\Johan\\AppData\\Local\\Temp\\ipykernel_236352\\691608824.py:3: ParserWarning: Falling back to the 'python' engine because the 'c' engine does not support regex separators (separators > 1 char and different from '\\s+' are interpreted as regex); you can avoid this warning by specifying engine='python'.\n",
      "  medium_data_val_sort = pd.read_csv(RAW_DATA_PATH + '/' + 'medium_data_VAL_sort.txt', sep = '-----',  skiprows =1, names  = col_name)\n",
      "C:\\Users\\Johan\\AppData\\Local\\Temp\\ipykernel_236352\\691608824.py:4: ParserWarning: Falling back to the 'python' engine because the 'c' engine does not support regex separators (separators > 1 char and different from '\\s+' are interpreted as regex); you can avoid this warning by specifying engine='python'.\n",
      "  medium_data_test_sort = pd.read_csv(RAW_DATA_PATH + '/' + 'medium_data_test_sort.txt', sep = '-----', skiprows =1, names  = col_name)\n"
     ]
    }
   ],
   "source": [
    "col_name = ['track_id', 'album_id', 'album_type', 'artist_id', 'set_split', 'set_subset', 'track_genres_top', 'track_genre', 'track_genres_all']\n",
    "medium_data_train_sort = pd.read_csv(RAW_DATA_PATH + '/' + 'medium_data_train_sort.txt', sep ='-----',  skiprows =1, names  = col_name)\n",
    "medium_data_val_sort = pd.read_csv(RAW_DATA_PATH + '/' + 'medium_data_VAL_sort.txt', sep = '-----',  skiprows =1, names  = col_name)\n",
    "medium_data_test_sort = pd.read_csv(RAW_DATA_PATH + '/' + 'medium_data_test_sort.txt', sep = '-----', skiprows =1, names  = col_name)"
   ],
   "metadata": {
    "collapsed": false,
    "pycharm": {
     "name": "#%%\n"
    }
   }
  },
  {
   "cell_type": "code",
   "execution_count": 11,
   "outputs": [],
   "source": [
    "# Load metadata and features.\n",
    "tracks = utils.load(RAW_DATA_PATH + '/fma_metadata/tracks.csv')\n",
    "genres = utils.load(RAW_DATA_PATH + '/fma_metadata/genres.csv')\n",
    "features = utils.load(RAW_DATA_PATH + '/fma_metadata/features.csv')\n",
    "echonest = utils.load(RAW_DATA_PATH + '/fma_metadata/echonest.csv')"
   ],
   "metadata": {
    "collapsed": false,
    "pycharm": {
     "name": "#%%\n"
    }
   }
  },
  {
   "cell_type": "code",
   "execution_count": 13,
   "outputs": [
    {
     "data": {
      "text/plain": "0             2\n1             5\n2             3\n3           134\n4         10666\n          ...  \n19917    155297\n19918    155298\n19919    155306\n19920    155307\n19921    155314\nName: track_id, Length: 19922, dtype: int64"
     },
     "execution_count": 12,
     "metadata": {},
     "output_type": "execute_result"
    },
    {
     "data": {
      "text/plain": "0             2\n1             5\n2             3\n3           134\n4         10666\n          ...  \n19917    155297\n19918    155298\n19919    155306\n19920    155307\n19921    155314\nName: track_id, Length: 19922, dtype: int64"
     },
     "execution_count": 13,
     "metadata": {},
     "output_type": "execute_result"
    }
   ],
   "source": [
    "medium_data_train_sort.track_id"
   ],
   "metadata": {
    "collapsed": false,
    "pycharm": {
     "name": "#%%\n"
    }
   }
  },
  {
   "cell_type": "code",
   "execution_count": 14,
   "outputs": [
    {
     "name": "stdout",
     "output_type": "stream",
     "text": [
      "19922 training examples, 2573 testing examples\n",
      "140 features, 16 classes\n"
     ]
    }
   ],
   "source": [
    "small = tracks['set', 'subset'] <= 'medium'\n",
    "\n",
    "train = tracks['set', 'split'] == 'training'\n",
    "small = tracks['set', 'subset'] <= 'medium'\n",
    "\n",
    "train = tracks['set', 'split'] == 'training'\n",
    "val = tracks['set', 'split'] == 'validation'\n",
    "test = tracks['set', 'split'] == 'test'\n",
    "\n",
    "y_train = tracks.loc[medium_data_train_sort.track_id, ('track', 'genre_top')]\n",
    "y_test = tracks.loc[medium_data_test_sort.track_id, ('track', 'genre_top')]\n",
    "X_train = features.loc[medium_data_train_sort.track_id, 'mfcc']\n",
    "X_test = features.loc[medium_data_test_sort.track_id, 'mfcc']\n",
    "\n",
    "print('{} training examples, {} testing examples'.format(y_train.size, y_test.size))\n",
    "print('{} features, {} classes'.format(X_train.shape[1], np.unique(y_train).size))"
   ],
   "metadata": {
    "collapsed": false,
    "pycharm": {
     "name": "#%%\n"
    }
   }
  },
  {
   "cell_type": "code",
   "execution_count": 15,
   "outputs": [
    {
     "data": {
      "text/plain": "array([[ 7.18065262e+00,  5.23030901e+00,  2.49320805e-01, ...,\n         0.00000000e+00,  2.08987212e+00,  6.14481084e-02],\n       [ 5.27562976e-01, -7.76543170e-02, -2.79610306e-01, ...,\n         0.00000000e+00,  2.19330311e+00,  4.48606014e-02],\n       [ 1.88896334e+00,  7.60539293e-01,  3.45296562e-01, ...,\n         0.00000000e+00,  1.71672380e+00,  6.93301633e-02],\n       ...,\n       [ 6.44815028e-01, -8.79404128e-01, -1.14923191e+00, ...,\n         4.88281250e-03,  3.17907929e+00,  2.20229235e-02],\n       [-4.46937442e-01,  1.23500383e+00, -2.50854611e-01, ...,\n         1.95312500e-03,  1.99608481e+00,  4.30976301e-02],\n       [-1.21936493e-01, -3.48523021e-01, -5.55810153e-01, ...,\n         6.34765625e-03,  1.98907959e+00,  1.92883536e-02]])"
     },
     "execution_count": 15,
     "metadata": {},
     "output_type": "execute_result"
    }
   ],
   "source": [
    "chroma_feature = features.loc[medium_data_train_sort.track_id, 'chroma_cens']\n",
    "tonnetz_feature = features.loc[medium_data_train_sort.track_id, 'tonnetz']\n",
    "mfcc_feature = features.loc[medium_data_train_sort.track_id, 'mfcc']\n",
    "centroid_feature = features.loc[medium_data_train_sort.track_id, 'spectral_centroid']\n",
    "bandwidth_feature = features.loc[medium_data_train_sort.track_id, 'spectral_bandwidth']\n",
    "contrast_feature = features.loc[medium_data_train_sort.track_id, 'spectral_contrast']\n",
    "rolloff_feature = features.loc[medium_data_train_sort.track_id, 'spectral_rolloff']\n",
    "rmse_feature = features.loc[medium_data_train_sort.track_id, 'rmse']\n",
    "zcr_feature = features.loc[medium_data_train_sort.track_id, 'zcr']\n",
    "np.array(pd.concat([chroma_feature, tonnetz_feature, mfcc_feature, centroid_feature, bandwidth_feature, contrast_feature, rolloff_feature, rmse_feature, zcr_feature], axis = 1))"
   ],
   "metadata": {
    "collapsed": false,
    "pycharm": {
     "name": "#%%\n"
    }
   }
  },
  {
   "cell_type": "code",
   "execution_count": 16,
   "outputs": [
    {
     "data": {
      "text/plain": "array([[ 3.85678911e+00,  1.54190099e+00,  8.16448126e-04, ...,\n         0.00000000e+00, -8.84317398e-01,  4.36808990e+02],\n       [ 2.62451696e+00,  2.41529298e+00,  4.40233231e-01, ...,\n         0.00000000e+00, -6.58707142e-01,  4.74413513e+02],\n       [ 4.29675484e+00,  1.39997685e+00,  1.12534620e-01, ...,\n         0.00000000e+00,  4.64217186e-01,  4.86662476e+02],\n       ...,\n       [-2.28700694e-02,  3.70875740e+00, -5.68366706e-01, ...,\n         3.16722260e+02,  1.47613370e+00,  4.59323944e+02],\n       [ 1.41740656e+00,  5.01407459e-02,  1.75254256e-01, ...,\n         4.66960571e+02, -3.94295335e-01,  3.69119659e+02],\n       [ 2.94643092e+00,  2.28863192e+00,  2.13062912e-01, ...,\n         6.16539795e+02,  5.13634562e-01,  3.13371704e+02]])"
     },
     "execution_count": 16,
     "metadata": {},
     "output_type": "execute_result"
    }
   ],
   "source": [
    "mfcc_feature = features.loc[medium_data_train_sort.track_id, 'mfcc']\n",
    "contrast_feature = features.loc[medium_data_train_sort.track_id, 'spectral_contrast']\n",
    "bandwidth_feature = features.loc[medium_data_train_sort.track_id, 'spectral_bandwidth']\n",
    "np.array(pd.concat([mfcc_feature, contrast_feature, bandwidth_feature], axis = 1))"
   ],
   "metadata": {
    "collapsed": false,
    "pycharm": {
     "name": "#%%\n"
    }
   }
  },
  {
   "cell_type": "code",
   "execution_count": 17,
   "outputs": [
    {
     "data": {
      "text/plain": "MultiIndex([('kurtosis', '01'),\n            ('kurtosis', '02'),\n            ('kurtosis', '03'),\n            ('kurtosis', '04'),\n            ('kurtosis', '05'),\n            ('kurtosis', '06'),\n            ('kurtosis', '07'),\n            ('kurtosis', '08'),\n            ('kurtosis', '09'),\n            ('kurtosis', '10'),\n            ...\n            (     'std', '11'),\n            (     'std', '12'),\n            (     'std', '13'),\n            (     'std', '14'),\n            (     'std', '15'),\n            (     'std', '16'),\n            (     'std', '17'),\n            (     'std', '18'),\n            (     'std', '19'),\n            (     'std', '20')],\n           names=['statistics', 'number'], length=140)"
     },
     "execution_count": 17,
     "metadata": {},
     "output_type": "execute_result"
    }
   ],
   "source": [
    "X_train.columns"
   ],
   "metadata": {
    "collapsed": false,
    "pycharm": {
     "name": "#%%\n"
    }
   }
  },
  {
   "cell_type": "markdown",
   "source": [
    "# Evaluation"
   ],
   "metadata": {
    "collapsed": false,
    "pycharm": {
     "name": "#%% md\n"
    }
   }
  },
  {
   "cell_type": "code",
   "execution_count": 67,
   "outputs": [
    {
     "name": "stderr",
     "output_type": "stream",
     "text": [
      "C:\\Users\\Johan\\anaconda3\\envs\\HMAN\\lib\\site-packages\\sklearn\\utils\\validation.py:1688: FutureWarning: Feature names only support names that are all strings. Got feature names with dtypes: ['tuple']. An error will be raised in 1.2.\n",
      "  warnings.warn(\n",
      "C:\\Users\\Johan\\anaconda3\\envs\\HMAN\\lib\\site-packages\\sklearn\\utils\\validation.py:1688: FutureWarning: Feature names only support names that are all strings. Got feature names with dtypes: ['tuple']. An error will be raised in 1.2.\n",
      "  warnings.warn(\n",
      "C:\\Users\\Johan\\anaconda3\\envs\\HMAN\\lib\\site-packages\\sklearn\\utils\\validation.py:1688: FutureWarning: Feature names only support names that are all strings. Got feature names with dtypes: ['tuple']. An error will be raised in 1.2.\n",
      "  warnings.warn(\n",
      "C:\\Users\\Johan\\anaconda3\\envs\\HMAN\\lib\\site-packages\\sklearn\\utils\\validation.py:1688: FutureWarning: Feature names only support names that are all strings. Got feature names with dtypes: ['tuple']. An error will be raised in 1.2.\n",
      "  warnings.warn(\n"
     ]
    },
    {
     "name": "stdout",
     "output_type": "stream",
     "text": [
      "Accuracy: 50.91%\n"
     ]
    },
    {
     "name": "stderr",
     "output_type": "stream",
     "text": [
      "C:\\Users\\Johan\\anaconda3\\envs\\HMAN\\lib\\site-packages\\sklearn\\neural_network\\_multilayer_perceptron.py:692: ConvergenceWarning: Stochastic Optimizer: Maximum iterations (200) reached and the optimization hasn't converged yet.\n",
      "  warnings.warn(\n",
      "C:\\Users\\Johan\\anaconda3\\envs\\HMAN\\lib\\site-packages\\sklearn\\utils\\validation.py:1688: FutureWarning: Feature names only support names that are all strings. Got feature names with dtypes: ['tuple']. An error will be raised in 1.2.\n",
      "  warnings.warn(\n"
     ]
    }
   ],
   "source": [
    "# Be sure training samples are shuffled.\n",
    "X_train, y_train = skl.utils.shuffle(X_train, y_train, random_state=42)\n",
    "\n",
    "# Standardize features by removing the mean and scaling to unit variance.\n",
    "scaler = skl.preprocessing.StandardScaler(copy=False)\n",
    "scaler.fit_transform(X_train)\n",
    "scaler.transform(X_test)\n",
    "\n",
    "# Support vector classification.\n",
    "clf = MLPClassifier()\n",
    "clf.fit(X_train, y_train)\n",
    "score = clf.score(X_test, y_test)\n",
    "print('Accuracy: {:.2%}'.format(score))"
   ],
   "metadata": {
    "collapsed": false,
    "pycharm": {
     "name": "#%%\n"
    }
   }
  },
  {
   "cell_type": "code",
   "execution_count": 55,
   "outputs": [
    {
     "name": "stdout",
     "output_type": "stream",
     "text": [
      "0.5460551884959192\n"
     ]
    },
    {
     "name": "stderr",
     "output_type": "stream",
     "text": [
      "C:\\Users\\Johan\\anaconda3\\envs\\HMAN\\lib\\site-packages\\sklearn\\utils\\validation.py:1688: FutureWarning: Feature names only support names that are all strings. Got feature names with dtypes: ['tuple']. An error will be raised in 1.2.\n",
      "  warnings.warn(\n"
     ]
    }
   ],
   "source": [
    "results = clf.predict(X_test)\n",
    "from tqdm import tqdm\n",
    "\n",
    "r_count = 0\n",
    "for z1, z2  in zip(y_test, results):\n",
    "    # print(z1, z2)\n",
    "    if z1 == z2:\n",
    "        r_count += 1\n",
    "print(r_count/len(X_test))"
   ],
   "metadata": {
    "collapsed": false,
    "pycharm": {
     "name": "#%%\n"
    }
   }
  },
  {
   "cell_type": "code",
   "execution_count": 56,
   "outputs": [
    {
     "data": {
      "text/plain": "array([[0., 0., 0., ..., 1., 0., 0.],\n       [0., 0., 0., ..., 0., 0., 0.],\n       [0., 0., 0., ..., 0., 0., 0.],\n       ...,\n       [0., 0., 0., ..., 1., 0., 0.],\n       [0., 0., 0., ..., 1., 0., 0.],\n       [0., 0., 0., ..., 1., 0., 0.]])"
     },
     "execution_count": 56,
     "metadata": {},
     "output_type": "execute_result"
    }
   ],
   "source": [
    "y_test_np = np.argmax(pd.get_dummies(y_test).to_numpy(), axis = 1).astype(\"int64\")\n",
    "\n",
    "y_test_np_ = np.zeros((len(y_test_np) , 16))  # 相当于 做了一个onehot_dict\n",
    "y_test_np_[np.arange(len(y_test_np) ), y_test_np] = 1  # 为onehot_dict 赋值\n",
    "y_test_np_"
   ],
   "metadata": {
    "collapsed": false,
    "pycharm": {
     "name": "#%%\n"
    }
   }
  },
  {
   "cell_type": "code",
   "execution_count": 57,
   "outputs": [
    {
     "name": "stderr",
     "output_type": "stream",
     "text": [
      "C:\\Users\\Johan\\anaconda3\\envs\\HMAN\\lib\\site-packages\\sklearn\\utils\\validation.py:1688: FutureWarning: Feature names only support names that are all strings. Got feature names with dtypes: ['tuple']. An error will be raised in 1.2.\n",
      "  warnings.warn(\n"
     ]
    },
    {
     "data": {
      "text/plain": "array([[6.98081275e-09, 1.22424443e-17, 1.12212066e-07, ...,\n        2.21103619e-01, 3.11862217e-12, 2.46681583e-10],\n       [1.11801100e-08, 3.58768911e-10, 1.05973468e-08, ...,\n        1.73307306e-01, 5.59349763e-06, 5.35490461e-06],\n       [8.18018011e-09, 3.73084295e-12, 1.23393335e-08, ...,\n        4.90418426e-04, 6.42134922e-04, 1.53156673e-07],\n       ...,\n       [9.92486261e-06, 5.29549518e-11, 8.73207566e-09, ...,\n        4.26414109e-02, 2.80073864e-04, 1.82266866e-09],\n       [1.34481015e-09, 5.54713202e-11, 2.21088125e-09, ...,\n        9.67149399e-01, 3.10985437e-07, 1.38886279e-10],\n       [3.50293846e-06, 7.12610523e-12, 3.22214234e-08, ...,\n        4.05180894e-01, 6.09264650e-07, 1.87289145e-13]])"
     },
     "execution_count": 57,
     "metadata": {},
     "output_type": "execute_result"
    }
   ],
   "source": [
    "results_prob = clf.predict_proba(X_test)\n",
    "results_prob"
   ],
   "metadata": {
    "collapsed": false,
    "pycharm": {
     "name": "#%%\n"
    }
   }
  },
  {
   "cell_type": "code",
   "execution_count": 64,
   "outputs": [],
   "source": [
    "y_label_ = np.zeros((len(y_test_np), 16))\n",
    "y_label_[np.arange(len(y_test_np)), y_test_np] = 1\n",
    "y_label_\n",
    "\n",
    "exclude_na_flatten_label = y_label_.reshape(-1)"
   ],
   "metadata": {
    "collapsed": false,
    "pycharm": {
     "name": "#%%\n"
    }
   }
  },
  {
   "cell_type": "code",
   "execution_count": 65,
   "outputs": [
    {
     "data": {
      "text/plain": "0.5638082697966763"
     },
     "execution_count": 65,
     "metadata": {},
     "output_type": "execute_result"
    }
   ],
   "source": [
    "from sklearn.metrics import average_precision_score\n",
    "from sklearn.metrics import precision_recall_curve\n",
    "\n",
    "auc = average_precision_score(exclude_na_flatten_label,results_prob.reshape(-1))\n",
    "auc"
   ],
   "metadata": {
    "collapsed": false,
    "pycharm": {
     "name": "#%%\n"
    }
   }
  },
  {
   "cell_type": "code",
   "execution_count": 68,
   "outputs": [
    {
     "data": {
      "text/plain": "<Figure size 1224x360 with 1 Axes>",
      "image/png": "[encoded data removed]"
     },
     "metadata": {
      "needs_background": "light"
     },
     "output_type": "display_data"
    }
   ],
   "source": [
    "\n",
    "precision,recall,threshold = precision_recall_curve(y_test_np_.reshape(-1),results_prob.reshape(-1))\n",
    "plt.plot(recall[:], precision[:], \"r\", marker=\"+\", markevery=60, lw=2, label=\"CRNN+HMATT\")\n",
    "\n",
    "\n",
    "\n",
    "plt.xlabel('Recall')\n",
    "plt.ylabel('Precision')\n",
    "plt.ylim([0, 1])\n",
    "plt.xlim([0.0, 1])\n",
    "# plt.title('Precision-Recall Area={0:1.4f}'.format(auc))\n",
    "plt.legend(loc=\"upper right\")\n",
    "plt.grid(True)\n",
    "plt.show()"
   ],
   "metadata": {
    "collapsed": false,
    "pycharm": {
     "name": "#%%\n"
    }
   }
  },
  {
   "cell_type": "code",
   "execution_count": 71,
   "outputs": [
    {
     "data": {
      "text/plain": "(41168,)"
     },
     "execution_count": 71,
     "metadata": {},
     "output_type": "execute_result"
    }
   ],
   "source": [
    "y_test_np_.reshape(-1).shape"
   ],
   "metadata": {
    "collapsed": false,
    "pycharm": {
     "name": "#%%\n"
    }
   }
  },
  {
   "cell_type": "code",
   "execution_count": null,
   "outputs": [],
   "source": [],
   "metadata": {
    "collapsed": false,
    "pycharm": {
     "name": "#%%\n"
    }
   }
  }
 ],
 "metadata": {
  "kernelspec": {
   "display_name": "Python 3",
   "language": "python",
   "name": "python3"
  },
  "language_info": {
   "codemirror_mode": {
    "name": "ipython",
    "version": 2
   },
   "file_extension": ".py",
   "mimetype": "text/x-python",
   "name": "python",
   "nbconvert_exporter": "python",
   "pygments_lexer": "ipython2",
   "version": "2.7.6"
  }
 },
 "nbformat": 4,
 "nbformat_minor": 0
}