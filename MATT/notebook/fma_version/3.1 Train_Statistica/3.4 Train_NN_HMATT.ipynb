{
 "cells": [
  {
   "cell_type": "code",
   "execution_count": 1,
   "metadata": {
    "collapsed": true
   },
   "outputs": [],
   "source": [
    "%matplotlib inline\n",
    "\n",
    "import IPython.display as ipd\n",
    "import numpy as np\n",
    "import pandas as pd\n",
    "import matplotlib.pyplot as plt\n",
    "import seaborn as sns\n",
    "from sklearn.preprocessing import MultiLabelBinarizer\n",
    "import os\n",
    "import sys\n",
    "import sklearn as skl\n",
    "import sklearn.utils, sklearn.preprocessing, sklearn.decomposition, sklearn.svm\n",
    "\n",
    "from ast import literal_eval\n",
    "\n",
    "\"\"\n",
    "sns.set_context(\"notebook\", font_scale=1.5)\n",
    "plt.rcParams['figure.figsize'] = (17, 5)\n",
    "\n",
    "import platform\n",
    "if 'Windows' in platform.platform():\n",
    "    ROOT_PATH = \"D:/PycharmProjects/HMAN\"\n",
    "else:\n",
    "    ROOT_PATH = \"/home/xkliu/PycharmProjects/HMAN\"\n",
    "RAW_DATA_PATH = ROOT_PATH  + \"/raw_data\"\n",
    "DATA_PATH = ROOT_PATH + \"/data\"\n",
    "os.chdir(ROOT_PATH)\n",
    "sys.path.append(\"./\")\n",
    "\n",
    "from kddirkit.utils import utils\n"
   ]
  },
  {
   "cell_type": "code",
   "execution_count": 2,
   "outputs": [],
   "source": [
    "import logging\n",
    "import torch.nn as nn\n",
    "import numpy as np\n",
    "\n",
    "from kddirkit.networks.encoders import SentenceEncoder\n",
    "from kddirkit.networks.models import BaselineModel\n",
    "from kddirkit.config import *\n",
    "# from kddirkit.dataloaders import LoadNYT, LoadHierData\n",
    "from kddirkit.frameworks import Trainer\n",
    "from kddirkit.losses.FocalLoss import FocalLoss\n",
    "\n",
    "project_name = 'HMAN'\n",
    "\n",
    "logger = logging.getLogger(project_name)"
   ],
   "metadata": {
    "collapsed": false,
    "pycharm": {
     "name": "#%%\n"
    }
   }
  },
  {
   "cell_type": "markdown",
   "source": [
    "## 1. Load Data"
   ],
   "metadata": {
    "collapsed": false
   }
  },
  {
   "cell_type": "code",
   "execution_count": 3,
   "outputs": [],
   "source": [
    "track_dtype = {'track_id': int, 'album_id': int, 'album_type': str, 'artist_id': int, 'set_split': str,\n",
    "               'set_subset': str, 'track_genre_top': str, 'track_genres': str, 'track_genres_all': str,\n",
    "               'track_title': str}\n",
    "genres_converters = {'track_genres': literal_eval, 'track_genres_all': literal_eval}\n",
    "medium_data = pd.read_csv(RAW_DATA_PATH + '/medium_data.csv', converters=genres_converters)"
   ],
   "metadata": {
    "collapsed": false,
    "pycharm": {
     "name": "#%%\n"
    }
   }
  },
  {
   "cell_type": "code",
   "execution_count": 4,
   "outputs": [],
   "source": [
    "medium_data_train = pd.read_csv(RAW_DATA_PATH + '/medium_data_train.csv', converters=genres_converters)\n",
    "medium_data_test = pd.read_csv(RAW_DATA_PATH + '/medium_data_test.csv', converters=genres_converters)\n",
    "medium_data_val = pd.read_csv(RAW_DATA_PATH + '/medium_data_val.csv', converters=genres_converters)"
   ],
   "metadata": {
    "collapsed": false,
    "pycharm": {
     "name": "#%%\n"
    }
   }
  },
  {
   "cell_type": "code",
   "execution_count": 5,
   "outputs": [],
   "source": [
    "medium_instance_triple = np.load(DATA_PATH + '/' + 'medium_instance_triple.npy')\n",
    "medium_instance_scope = np.load(DATA_PATH + '/' + 'medium_instance_scope.npy')\n",
    "medium_label = np.load(DATA_PATH + '/' + 'medium_label.npy')"
   ],
   "metadata": {
    "collapsed": false,
    "pycharm": {
     "name": "#%%\n"
    }
   }
  },
  {
   "cell_type": "code",
   "execution_count": 6,
   "outputs": [],
   "source": [
    "medium_train_instance_triple = np.load(DATA_PATH + '/' + 'medium_train_instance_triple.npy')\n",
    "medium_train_instance_scope = np.load(DATA_PATH + '/' + 'medium_train_instance_scope.npy')\n",
    "medium_train_label = np.load(DATA_PATH + '/' + 'medium_train_label.npy')"
   ],
   "metadata": {
    "collapsed": false,
    "pycharm": {
     "name": "#%%\n"
    }
   }
  },
  {
   "cell_type": "code",
   "execution_count": 7,
   "outputs": [],
   "source": [
    "medium_val_instance_triple = np.load(DATA_PATH + '/' + 'medium_val_instance_triple.npy')\n",
    "medium_val_instance_scope = np.load(DATA_PATH + '/' + 'medium_val_instance_scope.npy')\n",
    "medium_val_label = np.load(DATA_PATH + '/' + 'medium_val_label.npy')"
   ],
   "metadata": {
    "collapsed": false,
    "pycharm": {
     "name": "#%%\n"
    }
   }
  },
  {
   "cell_type": "code",
   "execution_count": 8,
   "outputs": [],
   "source": [
    "medium_test_entity_pair = np.load(DATA_PATH + '/' + 'medium_test_entity_pair.npy')\n",
    "medium_test_entity_scope = np.load(DATA_PATH + '/' + 'medium_test_entity_scope.npy')\n",
    "medium_test_label = np.load(DATA_PATH + '/' + 'medium_test_label.npy')"
   ],
   "metadata": {
    "collapsed": false,
    "pycharm": {
     "name": "#%%\n"
    }
   }
  },
  {
   "cell_type": "code",
   "execution_count": 9,
   "outputs": [],
   "source": [
    "medium_label_transform = np.load(DATA_PATH + '/' + 'medium_label_transform.npy')\n",
    "medium_train_label_transform = np.load(DATA_PATH + '/' + 'medium_train_label_transform.npy')\n",
    "medium_val_label_transform = np.load(DATA_PATH + '/' + 'medium_val_label_transform.npy')\n",
    "medium_test_label_transform = np.load(DATA_PATH + '/' + 'medium_test_label_transform.npy')\n",
    "medium_label_bottom_transform = np.load(DATA_PATH + '/' + 'medium_label_bottom_transform.npy')\n",
    "medium_train_label_bottom_transform = np.load(DATA_PATH + '/' + 'medium_train_label_bottom_transform.npy')\n",
    "medium_val_label_bottom_transform = np.load(DATA_PATH + '/' + 'medium_val_label_bottom_transform.npy')\n",
    "medium_test_label_bottom_transform = np.load(DATA_PATH + '/' + 'medium_test_label_bottom_transform.npy')"
   ],
   "metadata": {
    "collapsed": false,
    "pycharm": {
     "name": "#%%\n"
    }
   }
  },
  {
   "cell_type": "code",
   "execution_count": 10,
   "outputs": [
    {
     "name": "stderr",
     "output_type": "stream",
     "text": [
      "C:\\Users\\Johan\\AppData\\Local\\Temp\\ipykernel_38168\\691608824.py:2: ParserWarning: Falling back to the 'python' engine because the 'c' engine does not support regex separators (separators > 1 char and different from '\\s+' are interpreted as regex); you can avoid this warning by specifying engine='python'.\n",
      "  medium_data_train_sort = pd.read_csv(RAW_DATA_PATH + '/' + 'medium_data_train_sort.txt', sep ='-----',  skiprows =1, names  = col_name)\n",
      "C:\\Users\\Johan\\AppData\\Local\\Temp\\ipykernel_38168\\691608824.py:3: ParserWarning: Falling back to the 'python' engine because the 'c' engine does not support regex separators (separators > 1 char and different from '\\s+' are interpreted as regex); you can avoid this warning by specifying engine='python'.\n",
      "  medium_data_val_sort = pd.read_csv(RAW_DATA_PATH + '/' + 'medium_data_VAL_sort.txt', sep = '-----',  skiprows =1, names  = col_name)\n",
      "C:\\Users\\Johan\\AppData\\Local\\Temp\\ipykernel_38168\\691608824.py:4: ParserWarning: Falling back to the 'python' engine because the 'c' engine does not support regex separators (separators > 1 char and different from '\\s+' are interpreted as regex); you can avoid this warning by specifying engine='python'.\n",
      "  medium_data_test_sort = pd.read_csv(RAW_DATA_PATH + '/' + 'medium_data_test_sort.txt', sep = '-----', skiprows =1, names  = col_name)\n"
     ]
    }
   ],
   "source": [
    "col_name = ['track_id', 'album_id', 'album_type', 'artist_id', 'set_split', 'set_subset', 'track_genres_top', 'track_genre', 'track_genres_all']\n",
    "medium_data_train_sort = pd.read_csv(RAW_DATA_PATH + '/' + 'medium_data_train_sort.txt', sep ='-----',  skiprows =1, names  = col_name)\n",
    "medium_data_val_sort = pd.read_csv(RAW_DATA_PATH + '/' + 'medium_data_VAL_sort.txt', sep = '-----',  skiprows =1, names  = col_name)\n",
    "medium_data_test_sort = pd.read_csv(RAW_DATA_PATH + '/' + 'medium_data_test_sort.txt', sep = '-----', skiprows =1, names  = col_name)"
   ],
   "metadata": {
    "collapsed": false,
    "pycharm": {
     "name": "#%%\n"
    }
   }
  },
  {
   "cell_type": "code",
   "execution_count": 11,
   "outputs": [
    {
     "data": {
      "text/plain": "       track_id  album_id        album_type  artist_id set_split set_subset  \\\n0             2         1             Album          1  training      small   \n1             5         1             Album          1  training      small   \n2            10         6             Album          6  training      small   \n3           140        61             Album         54  training      small   \n4           141        60             Album         54  training      small   \n...         ...       ...               ...        ...       ...        ...   \n24995    155297     22935             Album      24354  training     medium   \n24996    155298     22936             Album      22050  training     medium   \n24997    155306     22936             Album      22050  training     medium   \n24998    155307     22937  Live Performance       7820  training     medium   \n24999    155314     22940  Live Performance      24357  training     medium   \n\n      track_genre_top     track_genres track_genres_all         track_title  \n0             Hip-Hop             [21]             [21]                Food  \n1             Hip-Hop             [21]             [21]          This World  \n2                 Pop             [10]             [10]             Freeway  \n3                Folk             [17]             [17]  Queen Of The Wires  \n4                Folk             [17]             [17]                Ohio  \n...               ...              ...              ...                 ...  \n24995    Instrumental  [18, 107, 1235]  [107, 18, 1235]       Nebula Reborn  \n24996            Folk        [17, 103]        [17, 103]     An Idiot Abroad  \n24997            Folk        [17, 103]        [17, 103]            Tiny Man  \n24998    Experimental              [1]          [1, 38]               Kolka  \n24999            Rock             [25]         [25, 12]        Miracle Grow  \n\n[25000 rows x 10 columns]",
      "text/html": "<div>\n<style scoped>\n    .dataframe tbody tr th:only-of-type {\n        vertical-align: middle;\n    }\n\n    .dataframe tbody tr th {\n        vertical-align: top;\n    }\n\n    .dataframe thead th {\n        text-align: right;\n    }\n</style>\n<table border=\"1\" class=\"dataframe\">\n  <thead>\n    <tr style=\"text-align: right;\">\n      <th></th>\n      <th>track_id</th>\n      <th>album_id</th>\n      <th>album_type</th>\n      <th>artist_id</th>\n      <th>set_split</th>\n      <th>set_subset</th>\n      <th>track_genre_top</th>\n      <th>track_genres</th>\n      <th>track_genres_all</th>\n      <th>track_title</th>\n    </tr>\n  </thead>\n  <tbody>\n    <tr>\n      <th>0</th>\n      <td>2</td>\n      <td>1</td>\n      <td>Album</td>\n      <td>1</td>\n      <td>training</td>\n      <td>small</td>\n      <td>Hip-Hop</td>\n      <td>[21]</td>\n      <td>[21]</td>\n      <td>Food</td>\n    </tr>\n    <tr>\n      <th>1</th>\n      <td>5</td>\n      <td>1</td>\n      <td>Album</td>\n      <td>1</td>\n      <td>training</td>\n      <td>small</td>\n      <td>Hip-Hop</td>\n      <td>[21]</td>\n      <td>[21]</td>\n      <td>This World</td>\n    </tr>\n    <tr>\n      <th>2</th>\n      <td>10</td>\n      <td>6</td>\n      <td>Album</td>\n      <td>6</td>\n      <td>training</td>\n      <td>small</td>\n      <td>Pop</td>\n      <td>[10]</td>\n      <td>[10]</td>\n      <td>Freeway</td>\n    </tr>\n    <tr>\n      <th>3</th>\n      <td>140</td>\n      <td>61</td>\n      <td>Album</td>\n      <td>54</td>\n      <td>training</td>\n      <td>small</td>\n      <td>Folk</td>\n      <td>[17]</td>\n      <td>[17]</td>\n      <td>Queen Of The Wires</td>\n    </tr>\n    <tr>\n      <th>4</th>\n      <td>141</td>\n      <td>60</td>\n      <td>Album</td>\n      <td>54</td>\n      <td>training</td>\n      <td>small</td>\n      <td>Folk</td>\n      <td>[17]</td>\n      <td>[17]</td>\n      <td>Ohio</td>\n    </tr>\n    <tr>\n      <th>...</th>\n      <td>...</td>\n      <td>...</td>\n      <td>...</td>\n      <td>...</td>\n      <td>...</td>\n      <td>...</td>\n      <td>...</td>\n      <td>...</td>\n      <td>...</td>\n      <td>...</td>\n    </tr>\n    <tr>\n      <th>24995</th>\n      <td>155297</td>\n      <td>22935</td>\n      <td>Album</td>\n      <td>24354</td>\n      <td>training</td>\n      <td>medium</td>\n      <td>Instrumental</td>\n      <td>[18, 107, 1235]</td>\n      <td>[107, 18, 1235]</td>\n      <td>Nebula Reborn</td>\n    </tr>\n    <tr>\n      <th>24996</th>\n      <td>155298</td>\n      <td>22936</td>\n      <td>Album</td>\n      <td>22050</td>\n      <td>training</td>\n      <td>medium</td>\n      <td>Folk</td>\n      <td>[17, 103]</td>\n      <td>[17, 103]</td>\n      <td>An Idiot Abroad</td>\n    </tr>\n    <tr>\n      <th>24997</th>\n      <td>155306</td>\n      <td>22936</td>\n      <td>Album</td>\n      <td>22050</td>\n      <td>training</td>\n      <td>medium</td>\n      <td>Folk</td>\n      <td>[17, 103]</td>\n      <td>[17, 103]</td>\n      <td>Tiny Man</td>\n    </tr>\n    <tr>\n      <th>24998</th>\n      <td>155307</td>\n      <td>22937</td>\n      <td>Live Performance</td>\n      <td>7820</td>\n      <td>training</td>\n      <td>medium</td>\n      <td>Experimental</td>\n      <td>[1]</td>\n      <td>[1, 38]</td>\n      <td>Kolka</td>\n    </tr>\n    <tr>\n      <th>24999</th>\n      <td>155314</td>\n      <td>22940</td>\n      <td>Live Performance</td>\n      <td>24357</td>\n      <td>training</td>\n      <td>medium</td>\n      <td>Rock</td>\n      <td>[25]</td>\n      <td>[25, 12]</td>\n      <td>Miracle Grow</td>\n    </tr>\n  </tbody>\n</table>\n<p>25000 rows × 10 columns</p>\n</div>"
     },
     "execution_count": 11,
     "metadata": {},
     "output_type": "execute_result"
    }
   ],
   "source": [
    "medium_data"
   ],
   "metadata": {
    "collapsed": false,
    "pycharm": {
     "name": "#%%\n"
    }
   }
  },
  {
   "cell_type": "code",
   "execution_count": 12,
   "outputs": [
    {
     "data": {
      "text/plain": "       track_id  album_id        album_type  artist_id set_split set_subset  \\\n0             2         1             Album          1  training      small   \n1             5         1             Album          1  training      small   \n2             3         1             Album          1  training     medium   \n3           134         1             Album          1  training     medium   \n4         10666         1             Album          1  training     medium   \n...         ...       ...               ...        ...       ...        ...   \n19917    155297     22935             Album      24354  training     medium   \n19918    155298     22936             Album      22050  training     medium   \n19919    155306     22936             Album      22050  training     medium   \n19920    155307     22937  Live Performance       7820  training     medium   \n19921    155314     22940  Live Performance      24357  training     medium   \n\n      track_genres_top      track_genre track_genres_all  \n0              Hip-Hop             [21]             [21]  \n1              Hip-Hop             [21]             [21]  \n2              Hip-Hop             [21]             [21]  \n3              Hip-Hop             [21]             [21]  \n4              Hip-Hop             [21]             [21]  \n...                ...              ...              ...  \n19917     Instrumental  [18, 107, 1235]  [107, 18, 1235]  \n19918             Folk        [17, 103]        [17, 103]  \n19919             Folk        [17, 103]        [17, 103]  \n19920     Experimental              [1]          [1, 38]  \n19921             Rock             [25]         [25, 12]  \n\n[19922 rows x 9 columns]",
      "text/html": "<div>\n<style scoped>\n    .dataframe tbody tr th:only-of-type {\n        vertical-align: middle;\n    }\n\n    .dataframe tbody tr th {\n        vertical-align: top;\n    }\n\n    .dataframe thead th {\n        text-align: right;\n    }\n</style>\n<table border=\"1\" class=\"dataframe\">\n  <thead>\n    <tr style=\"text-align: right;\">\n      <th></th>\n      <th>track_id</th>\n      <th>album_id</th>\n      <th>album_type</th>\n      <th>artist_id</th>\n      <th>set_split</th>\n      <th>set_subset</th>\n      <th>track_genres_top</th>\n      <th>track_genre</th>\n      <th>track_genres_all</th>\n    </tr>\n  </thead>\n  <tbody>\n    <tr>\n      <th>0</th>\n      <td>2</td>\n      <td>1</td>\n      <td>Album</td>\n      <td>1</td>\n      <td>training</td>\n      <td>small</td>\n      <td>Hip-Hop</td>\n      <td>[21]</td>\n      <td>[21]</td>\n    </tr>\n    <tr>\n      <th>1</th>\n      <td>5</td>\n      <td>1</td>\n      <td>Album</td>\n      <td>1</td>\n      <td>training</td>\n      <td>small</td>\n      <td>Hip-Hop</td>\n      <td>[21]</td>\n      <td>[21]</td>\n    </tr>\n    <tr>\n      <th>2</th>\n      <td>3</td>\n      <td>1</td>\n      <td>Album</td>\n      <td>1</td>\n      <td>training</td>\n      <td>medium</td>\n      <td>Hip-Hop</td>\n      <td>[21]</td>\n      <td>[21]</td>\n    </tr>\n    <tr>\n      <th>3</th>\n      <td>134</td>\n      <td>1</td>\n      <td>Album</td>\n      <td>1</td>\n      <td>training</td>\n      <td>medium</td>\n      <td>Hip-Hop</td>\n      <td>[21]</td>\n      <td>[21]</td>\n    </tr>\n    <tr>\n      <th>4</th>\n      <td>10666</td>\n      <td>1</td>\n      <td>Album</td>\n      <td>1</td>\n      <td>training</td>\n      <td>medium</td>\n      <td>Hip-Hop</td>\n      <td>[21]</td>\n      <td>[21]</td>\n    </tr>\n    <tr>\n      <th>...</th>\n      <td>...</td>\n      <td>...</td>\n      <td>...</td>\n      <td>...</td>\n      <td>...</td>\n      <td>...</td>\n      <td>...</td>\n      <td>...</td>\n      <td>...</td>\n    </tr>\n    <tr>\n      <th>19917</th>\n      <td>155297</td>\n      <td>22935</td>\n      <td>Album</td>\n      <td>24354</td>\n      <td>training</td>\n      <td>medium</td>\n      <td>Instrumental</td>\n      <td>[18, 107, 1235]</td>\n      <td>[107, 18, 1235]</td>\n    </tr>\n    <tr>\n      <th>19918</th>\n      <td>155298</td>\n      <td>22936</td>\n      <td>Album</td>\n      <td>22050</td>\n      <td>training</td>\n      <td>medium</td>\n      <td>Folk</td>\n      <td>[17, 103]</td>\n      <td>[17, 103]</td>\n    </tr>\n    <tr>\n      <th>19919</th>\n      <td>155306</td>\n      <td>22936</td>\n      <td>Album</td>\n      <td>22050</td>\n      <td>training</td>\n      <td>medium</td>\n      <td>Folk</td>\n      <td>[17, 103]</td>\n      <td>[17, 103]</td>\n    </tr>\n    <tr>\n      <th>19920</th>\n      <td>155307</td>\n      <td>22937</td>\n      <td>Live Performance</td>\n      <td>7820</td>\n      <td>training</td>\n      <td>medium</td>\n      <td>Experimental</td>\n      <td>[1]</td>\n      <td>[1, 38]</td>\n    </tr>\n    <tr>\n      <th>19921</th>\n      <td>155314</td>\n      <td>22940</td>\n      <td>Live Performance</td>\n      <td>24357</td>\n      <td>training</td>\n      <td>medium</td>\n      <td>Rock</td>\n      <td>[25]</td>\n      <td>[25, 12]</td>\n    </tr>\n  </tbody>\n</table>\n<p>19922 rows × 9 columns</p>\n</div>"
     },
     "execution_count": 12,
     "metadata": {},
     "output_type": "execute_result"
    }
   ],
   "source": [
    "medium_data_train_sort"
   ],
   "metadata": {
    "collapsed": false,
    "pycharm": {
     "name": "#%%\n"
    }
   }
  },
  {
   "cell_type": "code",
   "execution_count": 13,
   "outputs": [],
   "source": [
    "# Load metadata and features.\n",
    "tracks = utils.load(RAW_DATA_PATH + '/fma_metadata/tracks.csv')\n",
    "genres = utils.load(RAW_DATA_PATH + '/fma_metadata/genres.csv')\n",
    "features = utils.load(RAW_DATA_PATH + '/fma_metadata/features.csv')\n",
    "echonest = utils.load(RAW_DATA_PATH + '/fma_metadata/echonest.csv')"
   ],
   "metadata": {
    "collapsed": false,
    "pycharm": {
     "name": "#%%\n"
    }
   }
  },
  {
   "cell_type": "code",
   "execution_count": 14,
   "outputs": [
    {
     "data": {
      "text/plain": "0             2\n1             5\n2             3\n3           134\n4         10666\n          ...  \n19917    155297\n19918    155298\n19919    155306\n19920    155307\n19921    155314\nName: track_id, Length: 19922, dtype: int64"
     },
     "execution_count": 14,
     "metadata": {},
     "output_type": "execute_result"
    }
   ],
   "source": [
    "medium_data_train_sort.track_id"
   ],
   "metadata": {
    "collapsed": false,
    "pycharm": {
     "name": "#%%\n"
    }
   }
  },
  {
   "cell_type": "code",
   "execution_count": 15,
   "outputs": [
    {
     "name": "stdout",
     "output_type": "stream",
     "text": [
      "19922 training examples, 19922 testing examples\n",
      "140 features, 16 classes\n"
     ]
    }
   ],
   "source": [
    "small = tracks['set', 'subset'] <= 'medium'\n",
    "\n",
    "train = tracks['set', 'split'] == 'training'\n",
    "small = tracks['set', 'subset'] <= 'medium'\n",
    "\n",
    "train = tracks['set', 'split'] == 'training'\n",
    "val = tracks['set', 'split'] == 'validation'\n",
    "test = tracks['set', 'split'] == 'test'\n",
    "\n",
    "y_train = tracks.loc[medium_data_train_sort.track_id, ('track', 'genre_top')]\n",
    "y_test = tracks.loc[medium_data_train_sort.track_id, ('track', 'genre_top')]\n",
    "X_train = features.loc[medium_data_train_sort.track_id, 'mfcc']\n",
    "X_test = features.loc[medium_data_train_sort.track_id, 'mfcc']\n",
    "\n",
    "print('{} training examples, {} testing examples'.format(y_train.size, y_test.size))\n",
    "print('{} features, {} classes'.format(X_train.shape[1], np.unique(y_train).size))"
   ],
   "metadata": {
    "collapsed": false,
    "pycharm": {
     "name": "#%%\n"
    }
   }
  },
  {
   "cell_type": "markdown",
   "source": [
    "# Train"
   ],
   "metadata": {
    "collapsed": false,
    "pycharm": {
     "name": "#%% md\n"
    }
   }
  },
  {
   "cell_type": "code",
   "execution_count": 16,
   "outputs": [],
   "source": [
    "from kddirkit.networks.encoders import SentenceEncoder\n",
    "from kddirkit.networks.models import BaselineModel\n",
    "from kddirkit.config import *\n",
    "from kddirkit.dataloaders import LoadFMA, LoadHierData\n",
    "from kddirkit.frameworks import Trainer\n",
    "from kddirkit.losses.FocalLoss import FocalLoss\n",
    "\n",
    "parser = Parser(ROOT_PATH + \"/data/config\", \"HMAN\")\n",
    "oneParser = parser.oneParser\n",
    "args, _ = oneParser.parse_known_args(args=[])\n",
    "args = vars(args)"
   ],
   "metadata": {
    "collapsed": false,
    "pycharm": {
     "name": "#%%\n"
    }
   }
  },
  {
   "cell_type": "code",
   "execution_count": 17,
   "outputs": [],
   "source": [
    "use_cuda = not args['no_cuda'] and torch.cuda.is_available()\n",
    "\n",
    "torch.manual_seed(args['seed'])\n",
    "\n",
    "device = torch.device(\"cuda\" if use_cuda else \"cpu\")\n",
    "\n",
    "HierDataLoader = LoadHierData.HierDataLoader(workdir=os.getcwd(), pattern='default', device=device)\n",
    "genre_levels_Tensor = HierDataLoader.genre_levels_Tensor.to(device)\n",
    "genre_level_layer = HierDataLoader.genre_level_layer\n",
    "\n",
    "trainDataLoader = LoadFMA.FMATrainDataLoader(device=device)\n",
    "testDataLoader = LoadFMA.FMATestDataLoader(mode=\"pr\", device=device)"
   ],
   "metadata": {
    "collapsed": false,
    "pycharm": {
     "name": "#%%\n"
    }
   }
  },
  {
   "cell_type": "code",
   "execution_count": 18,
   "outputs": [
    {
     "name": "stderr",
     "output_type": "stream",
     "text": [
      "C:\\Users\\Johan\\AppData\\Local\\Temp\\ipykernel_38168\\691608824.py:2: ParserWarning: Falling back to the 'python' engine because the 'c' engine does not support regex separators (separators > 1 char and different from '\\s+' are interpreted as regex); you can avoid this warning by specifying engine='python'.\n",
      "  medium_data_train_sort = pd.read_csv(RAW_DATA_PATH + '/' + 'medium_data_train_sort.txt', sep ='-----',  skiprows =1, names  = col_name)\n",
      "C:\\Users\\Johan\\AppData\\Local\\Temp\\ipykernel_38168\\691608824.py:3: ParserWarning: Falling back to the 'python' engine because the 'c' engine does not support regex separators (separators > 1 char and different from '\\s+' are interpreted as regex); you can avoid this warning by specifying engine='python'.\n",
      "  medium_data_val_sort = pd.read_csv(RAW_DATA_PATH + '/' + 'medium_data_VAL_sort.txt', sep = '-----',  skiprows =1, names  = col_name)\n",
      "C:\\Users\\Johan\\AppData\\Local\\Temp\\ipykernel_38168\\691608824.py:4: ParserWarning: Falling back to the 'python' engine because the 'c' engine does not support regex separators (separators > 1 char and different from '\\s+' are interpreted as regex); you can avoid this warning by specifying engine='python'.\n",
      "  medium_data_test_sort = pd.read_csv(RAW_DATA_PATH + '/' + 'medium_data_test_sort.txt', sep = '-----', skiprows =1, names  = col_name)\n"
     ]
    }
   ],
   "source": [
    "col_name = ['track_id', 'album_id', 'album_type', 'artist_id', 'set_split', 'set_subset', 'track_genres_top', 'track_genre', 'track_genres_all']\n",
    "medium_data_train_sort = pd.read_csv(RAW_DATA_PATH + '/' + 'medium_data_train_sort.txt', sep ='-----',  skiprows =1, names  = col_name)\n",
    "medium_data_val_sort = pd.read_csv(RAW_DATA_PATH + '/' + 'medium_data_VAL_sort.txt', sep = '-----',  skiprows =1, names  = col_name)\n",
    "medium_data_test_sort = pd.read_csv(RAW_DATA_PATH + '/' + 'medium_data_test_sort.txt', sep = '-----', skiprows =1, names  = col_name)"
   ],
   "metadata": {
    "collapsed": false,
    "pycharm": {
     "name": "#%%\n"
    }
   }
  },
  {
   "cell_type": "code",
   "execution_count": null,
   "outputs": [],
   "source": [
    "\"\"\"@nni.variable(nni.choice(50, 100, 160), name=training_batch_size)\"\"\"\n",
    "training_batch_size = 160\n",
    "\n",
    "\"\"\"@nni.variable(nni.choice(0.2, 0.3, 0.1), name=learning_rate)\"\"\"\n",
    "learning_rate = 0.2\n",
    "\n",
    "weight_decay = args['weight_decay']\n",
    "\n",
    "args['num_classes'] = 16\n",
    "keep_prob = args['keep_prob']\n",
    "\n",
    "hidden_size = 140"
   ],
   "metadata": {
    "collapsed": false,
    "pycharm": {
     "name": "#%%\n"
    }
   }
  },
  {
   "cell_type": "code",
   "execution_count": null,
   "outputs": [
    {
     "ename": "AttributeError",
     "evalue": "'FMATrainDataLoader' object has no attribute 'feature'",
     "output_type": "error",
     "traceback": [
      "\u001B[1;31m---------------------------------------------------------------------------\u001B[0m",
      "\u001B[1;31mAttributeError\u001B[0m                            Traceback (most recent call last)",
      "Input \u001B[1;32mIn [20]\u001B[0m, in \u001B[0;36m<cell line: 1>\u001B[1;34m()\u001B[0m\n\u001B[1;32m----> 1\u001B[0m sentence_encoder \u001B[38;5;241m=\u001B[39m SentenceEncoder\u001B[38;5;241m.\u001B[39mMusicCnnEncoder(\u001B[43mtrainDataLoader\u001B[49m\u001B[38;5;241;43m.\u001B[39;49m\u001B[43mfeature\u001B[49m[\u001B[38;5;241m0\u001B[39m]\u001B[38;5;241m.\u001B[39mshape[\u001B[38;5;241m0\u001B[39m], trainDataLoader\u001B[38;5;241m.\u001B[39mfeature[\u001B[38;5;241m0\u001B[39m]\u001B[38;5;241m.\u001B[39mshape[\u001B[38;5;241m1\u001B[39m], hidden_size)\n",
      "\u001B[1;31mAttributeError\u001B[0m: 'FMATrainDataLoader' object has no attribute 'feature'"
     ]
    }
   ],
   "source": [
    "sentence_encoder = SentenceEncoder.MusicCnnEncoder(trainDataLoader.feature[0].shape[0], trainDataLoader.feature[0].shape[1], hidden_size)"
   ],
   "metadata": {
    "collapsed": false,
    "pycharm": {
     "name": "#%%\n"
    }
   }
  },
  {
   "cell_type": "code",
   "execution_count": null,
   "outputs": [],
   "source": [
    "model = BaselineModel.AttentionNetwork16(sentence_encoder = sentence_encoder,\n",
    "                                        genre_levels=genre_levels_Tensor,\n",
    "                                        genre_level_layer=genre_level_layer,\n",
    "                                        keep_prob=keep_prob,\n",
    "                                        train_batch_size=training_batch_size,\n",
    "                                        test_batch_size=args['testing_batch_size'],\n",
    "                                        num_classes=args['num_classes'],\n",
    "                                        device=device).to(device)"
   ],
   "metadata": {
    "collapsed": false,
    "pycharm": {
     "name": "#%%\n"
    }
   }
  },
  {
   "cell_type": "code",
   "execution_count": null,
   "outputs": [],
   "source": [
    "parameters_to_optimize = filter(lambda x: x.requires_grad, model.parameters())\n",
    "optimizer = optim.SGD(parameters_to_optimize,\n",
    "                      learning_rate,\n",
    "                      weight_decay=weight_decay)\n",
    "\n",
    "trainer = Trainer.Trainer(model=model,\n",
    "                          FMATrainDataLoader=trainDataLoader,\n",
    "                          FMATestDataLoader=testDataLoader,\n",
    "                          args=args,\n",
    "                          epoch=0,\n",
    "                          training_batch_size=training_batch_size,\n",
    "                          criterion=criterion,\n",
    "                          optimizer=optimizer, learning_rate=learning_rate,\n",
    "                          device=device, useScheduler=False, warmup=False)"
   ],
   "metadata": {
    "collapsed": false,
    "pycharm": {
     "name": "#%%\n"
    }
   }
  },
  {
   "cell_type": "code",
   "execution_count": null,
   "outputs": [],
   "source": [
    "\"\"\"@nni.variable(nni.choice(\"pcnn\"), name=encoderName)\"\"\"\n",
    "encoderName = \"cnn\"\n",
    "\n",
    "if encoderName == \"cnn\":\n",
    "    sentence_encoder = SentenceEncoder.CNNSentenceEncoder(SkipGramVec, 120, args['pos_num'], word_size, pos_size,\n",
    "                                                          hidden_size)\n",
    "elif encoderName == \"pcnn\":\n",
    "    sentence_encoder = SentenceEncoder.PCNNSentenceEncoder(SkipGramVec, 120, args['pos_num'], word_size, pos_size,\n",
    "                                                           hidden_size)\n",
    "\n",
    "# \"\"\"@nni.variable(nni.choice('HAttentionNetwork', 'MKGV2AttentionNetworkAg', 'MKV2AttentionNetworkAg', 'MKV2AttentionNetworkWAGT2', 'MKV2AttentionNetworkWAGK2', 'MKMirrorDotAttentionNetworkWAG', 'MKDoubleDotAttentionNetworkWAG'), name=modelName)\"\"\"\n",
    "\"\"\"@nni.variable(nni.choice('MKV2AttentionNetworkAg') , name=modelName)\"\"\"\n",
    "modelName = \"MKMirrorDotAttentionNetworkWAG\"\n"
   ],
   "metadata": {
    "collapsed": false,
    "pycharm": {
     "name": "#%%\n"
    }
   }
  },
  {
   "cell_type": "code",
   "execution_count": null,
   "outputs": [],
   "source": [],
   "metadata": {
    "collapsed": false,
    "pycharm": {
     "name": "#%%\n"
    }
   }
  }
 ],
 "metadata": {
  "kernelspec": {
   "display_name": "Python 3",
   "language": "python",
   "name": "python3"
  },
  "language_info": {
   "codemirror_mode": {
    "name": "ipython",
    "version": 2
   },
   "file_extension": ".py",
   "mimetype": "text/x-python",
   "name": "python",
   "nbconvert_exporter": "python",
   "pygments_lexer": "ipython2",
   "version": "2.7.6"
  }
 },
 "nbformat": 4,
 "nbformat_minor": 0
}