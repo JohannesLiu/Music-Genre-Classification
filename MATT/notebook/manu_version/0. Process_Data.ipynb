{
 "cells": [
  {
   "cell_type": "markdown",
   "source": [
    "# Process Data"
   ],
   "metadata": {
    "collapsed": false
   }
  },
  {
   "cell_type": "markdown",
   "metadata": {},
   "source": [
    "## 0. Preliminary"
   ]
  },
  {
   "cell_type": "code",
   "execution_count": 3,
   "metadata": {
    "tags": [],
    "ExecuteTime": {
     "start_time": "2023-04-06T01:44:27.179600Z",
     "end_time": "2023-04-06T01:44:27.637763Z"
    }
   },
   "outputs": [],
   "source": [
    "%matplotlib inline\n",
    "\n",
    "import IPython.display as ipd\n",
    "import numpy as np\n",
    "import pandas as pd\n",
    "import matplotlib.pyplot as plt\n",
    "import seaborn as sns\n",
    "from sklearn.preprocessing import MultiLabelBinarizer\n",
    "import os\n",
    "import platform\n",
    "import sys\n",
    "\"\"\n",
    "\n",
    "sns.set_context(\"notebook\", font_scale=1.5)\n",
    "plt.rcParams['figure.figsize'] = (17, 5)\n",
    "\n",
    "if 'Windows' in platform.platform():\n",
    "    ROOT_PATH = \"D:/PycharmProjects/HMAN\"\n",
    "else:\n",
    "    ROOT_PATH = \"/home/xkliu/PycharmProjects/HMAN\"\n",
    "RAW_DATA_PATH = ROOT_PATH  + \"/raw_data\"\n",
    "DATA_PATH = ROOT_PATH + \"/data\"\n",
    "os.chdir(ROOT_PATH)\n",
    "sys.path.append(\"./\")\n",
    "\n",
    "from kddirkit.utils import utils\n"
   ]
  },
  {
   "cell_type": "markdown",
   "metadata": {},
   "source": [
    "## 1. Load Data"
   ]
  },
  {
   "cell_type": "code",
   "execution_count": 4,
   "metadata": {
    "collapsed": false,
    "jupyter": {
     "outputs_hidden": false
    },
    "ExecuteTime": {
     "start_time": "2023-04-06T01:44:27.639227Z",
     "end_time": "2023-04-06T01:44:38.294577Z"
    }
   },
   "outputs": [
    {
     "data": {
      "text/plain": "((106574, 52), (163, 4), (106574, 518), (13129, 249))"
     },
     "execution_count": 4,
     "metadata": {},
     "output_type": "execute_result"
    }
   ],
   "source": [
    "tracks = utils.load(RAW_DATA_PATH+'/fma_metadata/tracks.csv')\n",
    "genres = utils.load(RAW_DATA_PATH+'/fma_metadata/genres.csv')\n",
    "features = utils.load(RAW_DATA_PATH+'/fma_metadata/features.csv')\n",
    "echonest = utils.load(RAW_DATA_PATH+'/fma_metadata/echonest.csv')\n",
    "\n",
    "np.testing.assert_array_equal(features.index, tracks.index)\n",
    "assert echonest.index.isin(tracks.index).all()\n",
    "\n",
    "tracks.shape, genres.shape, features.shape, echonest.shape"
   ]
  },
  {
   "cell_type": "code",
   "execution_count": 5,
   "metadata": {
    "ExecuteTime": {
     "start_time": "2023-04-06T01:44:38.294251Z",
     "end_time": "2023-04-06T01:44:38.294898Z"
    }
   },
   "outputs": [
    {
     "data": {
      "text/plain": "track_id\n2          True\n3          True\n5          True\n10         True\n20         True\n          ...  \n155316     True\n155317     True\n155318     True\n155319     True\n155320    False\nName: (set, split), Length: 106574, dtype: bool"
     },
     "execution_count": 5,
     "metadata": {},
     "output_type": "execute_result"
    }
   ],
   "source": [
    "tracks.loc[:, ('set', 'split')] == 'training'"
   ]
  },
  {
   "cell_type": "code",
   "execution_count": 6,
   "metadata": {
    "ExecuteTime": {
     "start_time": "2023-04-06T01:44:38.294308Z",
     "end_time": "2023-04-06T01:44:38.343511Z"
    }
   },
   "outputs": [
    {
     "data": {
      "text/plain": "            album                                                              \\\n         comments        date_created date_released        engineer favorites   \ntrack_id                                                                        \n3               0 2008-11-26 01:44:45    2009-01-05             NaN         4   \n134             0 2008-11-26 01:44:45    2009-01-05             NaN         4   \n136             1 2008-11-26 01:49:19    2009-01-07             NaN         0   \n139             0 2008-11-26 01:49:57    2009-01-16             NaN         1   \n181             0 2008-11-26 01:52:15    2007-04-13             NaN         0   \n...           ...                 ...           ...             ...       ...   \n155297          0 2017-03-30 09:50:32    2017-03-30             NaN         1   \n155298          0 2017-03-30 10:45:13           NaT             NaN         0   \n155306          0 2017-03-30 10:45:13           NaT             NaN         0   \n155307          0 2017-03-30 12:51:05    2017-03-27  Scott Williams         0   \n155314          0 2017-03-30 15:20:35    2017-02-17             NaN         0   \n\n                                                                            \\\n             id                                        information listens   \ntrack_id                                                                     \n3             1                                            <p></p>    6073   \n134           1                                            <p></p>    6073   \n136          58  <p>A couple of unreleased mp3s from the fellas...    3331   \n139          60  <p>A full ensamble of strings, drums, electron...    1304   \n181          79  <p>This Human Ear Music reissue compiles a “Be...    1339   \n...         ...                                                ...     ...   \n155297    22935  <p>The stars will show you the way in this unp...    6196   \n155298    22936                                                NaN    2454   \n155306    22936                                                NaN    2454   \n155307    22937  <p>Scott welcomes Russian revolutionary avant ...    1206   \n155314    22940  <p>A live performance at Monty Hall on Feb 17,...    1506   \n\n                               ...       track                         \\\n                producer tags  ... information interest language_code   \ntrack_id                       ...                                      \n3                    NaN   []  ...         NaN     1470            en   \n134                  NaN   []  ...         NaN     1126            en   \n136                  NaN   []  ...         NaN     1948            en   \n139                  NaN   []  ...         NaN      702            en   \n181                  NaN   []  ...         NaN     1736            en   \n...                  ...  ...  ...         ...      ...           ...   \n155297               NaN   []  ...         NaN     1463           NaN   \n155298               NaN   []  ...         NaN      706           NaN   \n155306               NaN   []  ...         NaN      497           NaN   \n155307    Scott Williams   []  ...         NaN      630           NaN   \n155314       Monty Hall    []  ...         NaN      778           NaN   \n\n                                                                              \\\n                                                    license listens lyricist   \ntrack_id                                                                       \n3         Attribution-NonCommercial-ShareAlike 3.0 Inter...     514      NaN   \n134       Attribution-NonCommercial-ShareAlike 3.0 Inter...     943      NaN   \n136       Attribution-NonCommercial-ShareAlike 3.0 Inter...    1498      NaN   \n139       Attribution-Noncommercial-No Derivative Works ...     582      NaN   \n181       Attribution-Noncommercial-No Derivative Works ...    1339      NaN   \n...                                                     ...     ...      ...   \n155297                            Attribution-NonCommercial    1049      NaN   \n155298                                          Attribution     590      NaN   \n155306                                          Attribution     435      NaN   \n155307    Creative Commons Attribution-NonCommercial-NoD...     571      NaN   \n155314    Creative Commons Attribution-NonCommercial-NoD...     652      NaN   \n\n                                                            \n         number publisher tags                       title  \ntrack_id                                                    \n3             4       NaN   []                Electric Ave  \n134           5       NaN   []                Street Music  \n136           0       NaN   []  Peel Back The Mountain Sky  \n139           2       NaN   []                    CandyAss  \n181           1       NaN   []                 Gopacapulco  \n...         ...       ...  ...                         ...  \n155297        9       NaN   []               Nebula Reborn  \n155298        2       NaN   []             An Idiot Abroad  \n155306        1       NaN   []                    Tiny Man  \n155307        1       NaN   []                       Kolka  \n155314        2       NaN   []                Miracle Grow  \n\n[17000 rows x 52 columns]",
      "text/html": "<div>\n<style scoped>\n    .dataframe tbody tr th:only-of-type {\n        vertical-align: middle;\n    }\n\n    .dataframe tbody tr th {\n        vertical-align: top;\n    }\n\n    .dataframe thead tr th {\n        text-align: left;\n    }\n\n    .dataframe thead tr:last-of-type th {\n        text-align: right;\n    }\n</style>\n<table border=\"1\" class=\"dataframe\">\n  <thead>\n    <tr>\n      <th></th>\n      <th colspan=\"10\" halign=\"left\">album</th>\n      <th>...</th>\n      <th colspan=\"10\" halign=\"left\">track</th>\n    </tr>\n    <tr>\n      <th></th>\n      <th>comments</th>\n      <th>date_created</th>\n      <th>date_released</th>\n      <th>engineer</th>\n      <th>favorites</th>\n      <th>id</th>\n      <th>information</th>\n      <th>listens</th>\n      <th>producer</th>\n      <th>tags</th>\n      <th>...</th>\n      <th>information</th>\n      <th>interest</th>\n      <th>language_code</th>\n      <th>license</th>\n      <th>listens</th>\n      <th>lyricist</th>\n      <th>number</th>\n      <th>publisher</th>\n      <th>tags</th>\n      <th>title</th>\n    </tr>\n    <tr>\n      <th>track_id</th>\n      <th></th>\n      <th></th>\n      <th></th>\n      <th></th>\n      <th></th>\n      <th></th>\n      <th></th>\n      <th></th>\n      <th></th>\n      <th></th>\n      <th></th>\n      <th></th>\n      <th></th>\n      <th></th>\n      <th></th>\n      <th></th>\n      <th></th>\n      <th></th>\n      <th></th>\n      <th></th>\n      <th></th>\n    </tr>\n  </thead>\n  <tbody>\n    <tr>\n      <th>3</th>\n      <td>0</td>\n      <td>2008-11-26 01:44:45</td>\n      <td>2009-01-05</td>\n      <td>NaN</td>\n      <td>4</td>\n      <td>1</td>\n      <td>&lt;p&gt;&lt;/p&gt;</td>\n      <td>6073</td>\n      <td>NaN</td>\n      <td>[]</td>\n      <td>...</td>\n      <td>NaN</td>\n      <td>1470</td>\n      <td>en</td>\n      <td>Attribution-NonCommercial-ShareAlike 3.0 Inter...</td>\n      <td>514</td>\n      <td>NaN</td>\n      <td>4</td>\n      <td>NaN</td>\n      <td>[]</td>\n      <td>Electric Ave</td>\n    </tr>\n    <tr>\n      <th>134</th>\n      <td>0</td>\n      <td>2008-11-26 01:44:45</td>\n      <td>2009-01-05</td>\n      <td>NaN</td>\n      <td>4</td>\n      <td>1</td>\n      <td>&lt;p&gt;&lt;/p&gt;</td>\n      <td>6073</td>\n      <td>NaN</td>\n      <td>[]</td>\n      <td>...</td>\n      <td>NaN</td>\n      <td>1126</td>\n      <td>en</td>\n      <td>Attribution-NonCommercial-ShareAlike 3.0 Inter...</td>\n      <td>943</td>\n      <td>NaN</td>\n      <td>5</td>\n      <td>NaN</td>\n      <td>[]</td>\n      <td>Street Music</td>\n    </tr>\n    <tr>\n      <th>136</th>\n      <td>1</td>\n      <td>2008-11-26 01:49:19</td>\n      <td>2009-01-07</td>\n      <td>NaN</td>\n      <td>0</td>\n      <td>58</td>\n      <td>&lt;p&gt;A couple of unreleased mp3s from the fellas...</td>\n      <td>3331</td>\n      <td>NaN</td>\n      <td>[]</td>\n      <td>...</td>\n      <td>NaN</td>\n      <td>1948</td>\n      <td>en</td>\n      <td>Attribution-NonCommercial-ShareAlike 3.0 Inter...</td>\n      <td>1498</td>\n      <td>NaN</td>\n      <td>0</td>\n      <td>NaN</td>\n      <td>[]</td>\n      <td>Peel Back The Mountain Sky</td>\n    </tr>\n    <tr>\n      <th>139</th>\n      <td>0</td>\n      <td>2008-11-26 01:49:57</td>\n      <td>2009-01-16</td>\n      <td>NaN</td>\n      <td>1</td>\n      <td>60</td>\n      <td>&lt;p&gt;A full ensamble of strings, drums, electron...</td>\n      <td>1304</td>\n      <td>NaN</td>\n      <td>[]</td>\n      <td>...</td>\n      <td>NaN</td>\n      <td>702</td>\n      <td>en</td>\n      <td>Attribution-Noncommercial-No Derivative Works ...</td>\n      <td>582</td>\n      <td>NaN</td>\n      <td>2</td>\n      <td>NaN</td>\n      <td>[]</td>\n      <td>CandyAss</td>\n    </tr>\n    <tr>\n      <th>181</th>\n      <td>0</td>\n      <td>2008-11-26 01:52:15</td>\n      <td>2007-04-13</td>\n      <td>NaN</td>\n      <td>0</td>\n      <td>79</td>\n      <td>&lt;p&gt;This Human Ear Music reissue compiles a “Be...</td>\n      <td>1339</td>\n      <td>NaN</td>\n      <td>[]</td>\n      <td>...</td>\n      <td>NaN</td>\n      <td>1736</td>\n      <td>en</td>\n      <td>Attribution-Noncommercial-No Derivative Works ...</td>\n      <td>1339</td>\n      <td>NaN</td>\n      <td>1</td>\n      <td>NaN</td>\n      <td>[]</td>\n      <td>Gopacapulco</td>\n    </tr>\n    <tr>\n      <th>...</th>\n      <td>...</td>\n      <td>...</td>\n      <td>...</td>\n      <td>...</td>\n      <td>...</td>\n      <td>...</td>\n      <td>...</td>\n      <td>...</td>\n      <td>...</td>\n      <td>...</td>\n      <td>...</td>\n      <td>...</td>\n      <td>...</td>\n      <td>...</td>\n      <td>...</td>\n      <td>...</td>\n      <td>...</td>\n      <td>...</td>\n      <td>...</td>\n      <td>...</td>\n      <td>...</td>\n    </tr>\n    <tr>\n      <th>155297</th>\n      <td>0</td>\n      <td>2017-03-30 09:50:32</td>\n      <td>2017-03-30</td>\n      <td>NaN</td>\n      <td>1</td>\n      <td>22935</td>\n      <td>&lt;p&gt;The stars will show you the way in this unp...</td>\n      <td>6196</td>\n      <td>NaN</td>\n      <td>[]</td>\n      <td>...</td>\n      <td>NaN</td>\n      <td>1463</td>\n      <td>NaN</td>\n      <td>Attribution-NonCommercial</td>\n      <td>1049</td>\n      <td>NaN</td>\n      <td>9</td>\n      <td>NaN</td>\n      <td>[]</td>\n      <td>Nebula Reborn</td>\n    </tr>\n    <tr>\n      <th>155298</th>\n      <td>0</td>\n      <td>2017-03-30 10:45:13</td>\n      <td>NaT</td>\n      <td>NaN</td>\n      <td>0</td>\n      <td>22936</td>\n      <td>NaN</td>\n      <td>2454</td>\n      <td>NaN</td>\n      <td>[]</td>\n      <td>...</td>\n      <td>NaN</td>\n      <td>706</td>\n      <td>NaN</td>\n      <td>Attribution</td>\n      <td>590</td>\n      <td>NaN</td>\n      <td>2</td>\n      <td>NaN</td>\n      <td>[]</td>\n      <td>An Idiot Abroad</td>\n    </tr>\n    <tr>\n      <th>155306</th>\n      <td>0</td>\n      <td>2017-03-30 10:45:13</td>\n      <td>NaT</td>\n      <td>NaN</td>\n      <td>0</td>\n      <td>22936</td>\n      <td>NaN</td>\n      <td>2454</td>\n      <td>NaN</td>\n      <td>[]</td>\n      <td>...</td>\n      <td>NaN</td>\n      <td>497</td>\n      <td>NaN</td>\n      <td>Attribution</td>\n      <td>435</td>\n      <td>NaN</td>\n      <td>1</td>\n      <td>NaN</td>\n      <td>[]</td>\n      <td>Tiny Man</td>\n    </tr>\n    <tr>\n      <th>155307</th>\n      <td>0</td>\n      <td>2017-03-30 12:51:05</td>\n      <td>2017-03-27</td>\n      <td>Scott Williams</td>\n      <td>0</td>\n      <td>22937</td>\n      <td>&lt;p&gt;Scott welcomes Russian revolutionary avant ...</td>\n      <td>1206</td>\n      <td>Scott Williams</td>\n      <td>[]</td>\n      <td>...</td>\n      <td>NaN</td>\n      <td>630</td>\n      <td>NaN</td>\n      <td>Creative Commons Attribution-NonCommercial-NoD...</td>\n      <td>571</td>\n      <td>NaN</td>\n      <td>1</td>\n      <td>NaN</td>\n      <td>[]</td>\n      <td>Kolka</td>\n    </tr>\n    <tr>\n      <th>155314</th>\n      <td>0</td>\n      <td>2017-03-30 15:20:35</td>\n      <td>2017-02-17</td>\n      <td>NaN</td>\n      <td>0</td>\n      <td>22940</td>\n      <td>&lt;p&gt;A live performance at Monty Hall on Feb 17,...</td>\n      <td>1506</td>\n      <td>Monty Hall</td>\n      <td>[]</td>\n      <td>...</td>\n      <td>NaN</td>\n      <td>778</td>\n      <td>NaN</td>\n      <td>Creative Commons Attribution-NonCommercial-NoD...</td>\n      <td>652</td>\n      <td>NaN</td>\n      <td>2</td>\n      <td>NaN</td>\n      <td>[]</td>\n      <td>Miracle Grow</td>\n    </tr>\n  </tbody>\n</table>\n<p>17000 rows × 52 columns</p>\n</div>"
     },
     "execution_count": 6,
     "metadata": {},
     "output_type": "execute_result"
    }
   ],
   "source": [
    "tracks[tracks.loc[:, ('set', 'subset')] == 'medium']"
   ]
  },
  {
   "cell_type": "code",
   "execution_count": 7,
   "metadata": {
    "ExecuteTime": {
     "start_time": "2023-04-06T01:44:38.343635Z",
     "end_time": "2023-04-06T01:44:38.345578Z"
    }
   },
   "outputs": [],
   "source": [
    "from collections import Counter"
   ]
  },
  {
   "cell_type": "code",
   "execution_count": 8,
   "metadata": {
    "ExecuteTime": {
     "start_time": "2023-04-06T01:44:38.346494Z",
     "end_time": "2023-04-06T01:44:38.357154Z"
    }
   },
   "outputs": [
    {
     "data": {
      "text/plain": "Counter({'small': 8000, 'medium': 17000, 'large': 81574})"
     },
     "execution_count": 8,
     "metadata": {},
     "output_type": "execute_result"
    }
   ],
   "source": [
    "Counter(tracks.loc[:, ('set', 'subset')])"
   ]
  },
  {
   "cell_type": "code",
   "execution_count": 9,
   "metadata": {
    "collapsed": false,
    "jupyter": {
     "outputs_hidden": false
    },
    "ExecuteTime": {
     "start_time": "2023-04-06T01:44:38.371144Z",
     "end_time": "2023-04-06T01:44:38.384219Z"
    }
   },
   "outputs": [
    {
     "data": {
      "text/plain": "          album                   artist         set             track  \\\n             id              type     id       split  subset genre_top   \ntrack_id                                                                 \n2             1             Album      1    training   small   Hip-Hop   \n3             1             Album      1    training  medium   Hip-Hop   \n5             1             Album      1    training   small   Hip-Hop   \n10            6             Album      6    training   small       Pop   \n20            4             Album      4    training   large       NaN   \n...         ...               ...    ...         ...     ...       ...   \n155316    22940  Live Performance  24357    training   large      Rock   \n155317    22940  Live Performance  24357    training   large      Rock   \n155318    22940  Live Performance  24357    training   large      Rock   \n155319    22940  Live Performance  24357    training   large      Rock   \n155320    22906             Album  21615  validation   large       NaN   \n\n                                            \\\n                 genres         genres_all   \ntrack_id                                     \n2                  [21]               [21]   \n3                  [21]               [21]   \n5                  [21]               [21]   \n10                 [10]               [10]   \n20            [76, 103]  [17, 10, 76, 103]   \n...                 ...                ...   \n155316             [25]           [25, 12]   \n155317             [25]           [25, 12]   \n155318             [25]           [25, 12]   \n155319             [25]           [25, 12]   \n155320    [10, 12, 169]   [169, 10, 12, 9]   \n\n                                                     \n                                              title  \ntrack_id                                             \n2                                              Food  \n3                                      Electric Ave  \n5                                        This World  \n10                                          Freeway  \n20                                  Spiritual Level  \n...                                             ...  \n155316                                    The Auger  \n155317                              Let's Skin Ruby  \n155318           My House Smells Like Kim Deal/Pulp  \n155319                      The Man With Two Mouths  \n155320    Another Trick Up My Sleeve (Instrumental)  \n\n[106574 rows x 9 columns]",
      "text/html": "<div>\n<style scoped>\n    .dataframe tbody tr th:only-of-type {\n        vertical-align: middle;\n    }\n\n    .dataframe tbody tr th {\n        vertical-align: top;\n    }\n\n    .dataframe thead tr th {\n        text-align: left;\n    }\n\n    .dataframe thead tr:last-of-type th {\n        text-align: right;\n    }\n</style>\n<table border=\"1\" class=\"dataframe\">\n  <thead>\n    <tr>\n      <th></th>\n      <th colspan=\"2\" halign=\"left\">album</th>\n      <th>artist</th>\n      <th colspan=\"2\" halign=\"left\">set</th>\n      <th colspan=\"4\" halign=\"left\">track</th>\n    </tr>\n    <tr>\n      <th></th>\n      <th>id</th>\n      <th>type</th>\n      <th>id</th>\n      <th>split</th>\n      <th>subset</th>\n      <th>genre_top</th>\n      <th>genres</th>\n      <th>genres_all</th>\n      <th>title</th>\n    </tr>\n    <tr>\n      <th>track_id</th>\n      <th></th>\n      <th></th>\n      <th></th>\n      <th></th>\n      <th></th>\n      <th></th>\n      <th></th>\n      <th></th>\n      <th></th>\n    </tr>\n  </thead>\n  <tbody>\n    <tr>\n      <th>2</th>\n      <td>1</td>\n      <td>Album</td>\n      <td>1</td>\n      <td>training</td>\n      <td>small</td>\n      <td>Hip-Hop</td>\n      <td>[21]</td>\n      <td>[21]</td>\n      <td>Food</td>\n    </tr>\n    <tr>\n      <th>3</th>\n      <td>1</td>\n      <td>Album</td>\n      <td>1</td>\n      <td>training</td>\n      <td>medium</td>\n      <td>Hip-Hop</td>\n      <td>[21]</td>\n      <td>[21]</td>\n      <td>Electric Ave</td>\n    </tr>\n    <tr>\n      <th>5</th>\n      <td>1</td>\n      <td>Album</td>\n      <td>1</td>\n      <td>training</td>\n      <td>small</td>\n      <td>Hip-Hop</td>\n      <td>[21]</td>\n      <td>[21]</td>\n      <td>This World</td>\n    </tr>\n    <tr>\n      <th>10</th>\n      <td>6</td>\n      <td>Album</td>\n      <td>6</td>\n      <td>training</td>\n      <td>small</td>\n      <td>Pop</td>\n      <td>[10]</td>\n      <td>[10]</td>\n      <td>Freeway</td>\n    </tr>\n    <tr>\n      <th>20</th>\n      <td>4</td>\n      <td>Album</td>\n      <td>4</td>\n      <td>training</td>\n      <td>large</td>\n      <td>NaN</td>\n      <td>[76, 103]</td>\n      <td>[17, 10, 76, 103]</td>\n      <td>Spiritual Level</td>\n    </tr>\n    <tr>\n      <th>...</th>\n      <td>...</td>\n      <td>...</td>\n      <td>...</td>\n      <td>...</td>\n      <td>...</td>\n      <td>...</td>\n      <td>...</td>\n      <td>...</td>\n      <td>...</td>\n    </tr>\n    <tr>\n      <th>155316</th>\n      <td>22940</td>\n      <td>Live Performance</td>\n      <td>24357</td>\n      <td>training</td>\n      <td>large</td>\n      <td>Rock</td>\n      <td>[25]</td>\n      <td>[25, 12]</td>\n      <td>The Auger</td>\n    </tr>\n    <tr>\n      <th>155317</th>\n      <td>22940</td>\n      <td>Live Performance</td>\n      <td>24357</td>\n      <td>training</td>\n      <td>large</td>\n      <td>Rock</td>\n      <td>[25]</td>\n      <td>[25, 12]</td>\n      <td>Let's Skin Ruby</td>\n    </tr>\n    <tr>\n      <th>155318</th>\n      <td>22940</td>\n      <td>Live Performance</td>\n      <td>24357</td>\n      <td>training</td>\n      <td>large</td>\n      <td>Rock</td>\n      <td>[25]</td>\n      <td>[25, 12]</td>\n      <td>My House Smells Like Kim Deal/Pulp</td>\n    </tr>\n    <tr>\n      <th>155319</th>\n      <td>22940</td>\n      <td>Live Performance</td>\n      <td>24357</td>\n      <td>training</td>\n      <td>large</td>\n      <td>Rock</td>\n      <td>[25]</td>\n      <td>[25, 12]</td>\n      <td>The Man With Two Mouths</td>\n    </tr>\n    <tr>\n      <th>155320</th>\n      <td>22906</td>\n      <td>Album</td>\n      <td>21615</td>\n      <td>validation</td>\n      <td>large</td>\n      <td>NaN</td>\n      <td>[10, 12, 169]</td>\n      <td>[169, 10, 12, 9]</td>\n      <td>Another Trick Up My Sleeve (Instrumental)</td>\n    </tr>\n  </tbody>\n</table>\n<p>106574 rows × 9 columns</p>\n</div>"
     },
     "execution_count": 9,
     "metadata": {},
     "output_type": "execute_result"
    }
   ],
   "source": [
    "track_use = tracks.loc[:,[('album', 'id'),('album','type'),('artist','id'),\n",
    "              ('set', 'split'),('set', 'subset'),('track','genre_top'),\n",
    "              ('track','genres'), ('track','genres_all'),\n",
    "              ('track', 'title')]]\n",
    "track_use"
   ]
  },
  {
   "cell_type": "code",
   "execution_count": 10,
   "metadata": {
    "collapsed": false,
    "jupyter": {
     "outputs_hidden": false
    },
    "ExecuteTime": {
     "start_time": "2023-04-06T01:44:38.373651Z",
     "end_time": "2023-04-06T01:44:38.387990Z"
    }
   },
   "outputs": [
    {
     "data": {
      "text/plain": "MultiIndex([( 'album',         'id'),\n            ( 'album',       'type'),\n            ('artist',         'id'),\n            (   'set',      'split'),\n            (   'set',     'subset'),\n            ( 'track',  'genre_top'),\n            ( 'track',     'genres'),\n            ( 'track', 'genres_all'),\n            ( 'track',      'title')],\n           )"
     },
     "execution_count": 10,
     "metadata": {},
     "output_type": "execute_result"
    }
   ],
   "source": [
    "track_use.columns"
   ]
  },
  {
   "cell_type": "code",
   "execution_count": 11,
   "metadata": {
    "collapsed": false,
    "jupyter": {
     "outputs_hidden": false
    },
    "ExecuteTime": {
     "start_time": "2023-04-06T01:44:38.382010Z",
     "end_time": "2023-04-06T01:44:38.418968Z"
    }
   },
   "outputs": [
    {
     "data": {
      "text/plain": "          album_id        album_type  artist_id   set_split set_subset  \\\ntrack_id                                                                 \n2                1             Album          1    training      small   \n3                1             Album          1    training     medium   \n5                1             Album          1    training      small   \n10               6             Album          6    training      small   \n20               4             Album          4    training      large   \n...            ...               ...        ...         ...        ...   \n155316       22940  Live Performance      24357    training      large   \n155317       22940  Live Performance      24357    training      large   \n155318       22940  Live Performance      24357    training      large   \n155319       22940  Live Performance      24357    training      large   \n155320       22906             Album      21615  validation      large   \n\n         track_genre_top   track_genres   track_genres_all  \\\ntrack_id                                                     \n2                Hip-Hop           [21]               [21]   \n3                Hip-Hop           [21]               [21]   \n5                Hip-Hop           [21]               [21]   \n10                   Pop           [10]               [10]   \n20                   NaN      [76, 103]  [17, 10, 76, 103]   \n...                  ...            ...                ...   \n155316              Rock           [25]           [25, 12]   \n155317              Rock           [25]           [25, 12]   \n155318              Rock           [25]           [25, 12]   \n155319              Rock           [25]           [25, 12]   \n155320               NaN  [10, 12, 169]   [169, 10, 12, 9]   \n\n                                        track_title  \ntrack_id                                             \n2                                              Food  \n3                                      Electric Ave  \n5                                        This World  \n10                                          Freeway  \n20                                  Spiritual Level  \n...                                             ...  \n155316                                    The Auger  \n155317                              Let's Skin Ruby  \n155318           My House Smells Like Kim Deal/Pulp  \n155319                      The Man With Two Mouths  \n155320    Another Trick Up My Sleeve (Instrumental)  \n\n[106574 rows x 9 columns]",
      "text/html": "<div>\n<style scoped>\n    .dataframe tbody tr th:only-of-type {\n        vertical-align: middle;\n    }\n\n    .dataframe tbody tr th {\n        vertical-align: top;\n    }\n\n    .dataframe thead th {\n        text-align: right;\n    }\n</style>\n<table border=\"1\" class=\"dataframe\">\n  <thead>\n    <tr style=\"text-align: right;\">\n      <th></th>\n      <th>album_id</th>\n      <th>album_type</th>\n      <th>artist_id</th>\n      <th>set_split</th>\n      <th>set_subset</th>\n      <th>track_genre_top</th>\n      <th>track_genres</th>\n      <th>track_genres_all</th>\n      <th>track_title</th>\n    </tr>\n    <tr>\n      <th>track_id</th>\n      <th></th>\n      <th></th>\n      <th></th>\n      <th></th>\n      <th></th>\n      <th></th>\n      <th></th>\n      <th></th>\n      <th></th>\n    </tr>\n  </thead>\n  <tbody>\n    <tr>\n      <th>2</th>\n      <td>1</td>\n      <td>Album</td>\n      <td>1</td>\n      <td>training</td>\n      <td>small</td>\n      <td>Hip-Hop</td>\n      <td>[21]</td>\n      <td>[21]</td>\n      <td>Food</td>\n    </tr>\n    <tr>\n      <th>3</th>\n      <td>1</td>\n      <td>Album</td>\n      <td>1</td>\n      <td>training</td>\n      <td>medium</td>\n      <td>Hip-Hop</td>\n      <td>[21]</td>\n      <td>[21]</td>\n      <td>Electric Ave</td>\n    </tr>\n    <tr>\n      <th>5</th>\n      <td>1</td>\n      <td>Album</td>\n      <td>1</td>\n      <td>training</td>\n      <td>small</td>\n      <td>Hip-Hop</td>\n      <td>[21]</td>\n      <td>[21]</td>\n      <td>This World</td>\n    </tr>\n    <tr>\n      <th>10</th>\n      <td>6</td>\n      <td>Album</td>\n      <td>6</td>\n      <td>training</td>\n      <td>small</td>\n      <td>Pop</td>\n      <td>[10]</td>\n      <td>[10]</td>\n      <td>Freeway</td>\n    </tr>\n    <tr>\n      <th>20</th>\n      <td>4</td>\n      <td>Album</td>\n      <td>4</td>\n      <td>training</td>\n      <td>large</td>\n      <td>NaN</td>\n      <td>[76, 103]</td>\n      <td>[17, 10, 76, 103]</td>\n      <td>Spiritual Level</td>\n    </tr>\n    <tr>\n      <th>...</th>\n      <td>...</td>\n      <td>...</td>\n      <td>...</td>\n      <td>...</td>\n      <td>...</td>\n      <td>...</td>\n      <td>...</td>\n      <td>...</td>\n      <td>...</td>\n    </tr>\n    <tr>\n      <th>155316</th>\n      <td>22940</td>\n      <td>Live Performance</td>\n      <td>24357</td>\n      <td>training</td>\n      <td>large</td>\n      <td>Rock</td>\n      <td>[25]</td>\n      <td>[25, 12]</td>\n      <td>The Auger</td>\n    </tr>\n    <tr>\n      <th>155317</th>\n      <td>22940</td>\n      <td>Live Performance</td>\n      <td>24357</td>\n      <td>training</td>\n      <td>large</td>\n      <td>Rock</td>\n      <td>[25]</td>\n      <td>[25, 12]</td>\n      <td>Let's Skin Ruby</td>\n    </tr>\n    <tr>\n      <th>155318</th>\n      <td>22940</td>\n      <td>Live Performance</td>\n      <td>24357</td>\n      <td>training</td>\n      <td>large</td>\n      <td>Rock</td>\n      <td>[25]</td>\n      <td>[25, 12]</td>\n      <td>My House Smells Like Kim Deal/Pulp</td>\n    </tr>\n    <tr>\n      <th>155319</th>\n      <td>22940</td>\n      <td>Live Performance</td>\n      <td>24357</td>\n      <td>training</td>\n      <td>large</td>\n      <td>Rock</td>\n      <td>[25]</td>\n      <td>[25, 12]</td>\n      <td>The Man With Two Mouths</td>\n    </tr>\n    <tr>\n      <th>155320</th>\n      <td>22906</td>\n      <td>Album</td>\n      <td>21615</td>\n      <td>validation</td>\n      <td>large</td>\n      <td>NaN</td>\n      <td>[10, 12, 169]</td>\n      <td>[169, 10, 12, 9]</td>\n      <td>Another Trick Up My Sleeve (Instrumental)</td>\n    </tr>\n  </tbody>\n</table>\n<p>106574 rows × 9 columns</p>\n</div>"
     },
     "execution_count": 11,
     "metadata": {},
     "output_type": "execute_result"
    }
   ],
   "source": [
    "track_use.columns= ['album_id',  'album_type', 'artist_id',\n",
    "                    'set_split', 'set_subset',  'track_genre_top',\n",
    "                    'track_genres', 'track_genres_all', 'track_title']\n",
    "track_use"
   ]
  },
  {
   "cell_type": "markdown",
   "metadata": {},
   "source": [
    "## 2. Export Data"
   ]
  },
  {
   "cell_type": "code",
   "execution_count": 12,
   "metadata": {
    "collapsed": false,
    "jupyter": {
     "outputs_hidden": false
    },
    "ExecuteTime": {
     "start_time": "2023-04-06T01:44:38.400945Z",
     "end_time": "2023-04-06T01:44:38.630094Z"
    }
   },
   "outputs": [],
   "source": [
    "track_use.to_csv(DATA_PATH+'/tracks.csv')"
   ]
  },
  {
   "cell_type": "code",
   "execution_count": 13,
   "metadata": {
    "ExecuteTime": {
     "start_time": "2023-04-06T01:44:38.631857Z",
     "end_time": "2023-04-06T01:44:38.787925Z"
    }
   },
   "outputs": [
    {
     "data": {
      "text/plain": "        track_id  album_id        album_type  artist_id   set_split  \\\n0              2         1             Album          1    training   \n1              3         1             Album          1    training   \n2              5         1             Album          1    training   \n3             10         6             Album          6    training   \n4             20         4             Album          4    training   \n...          ...       ...               ...        ...         ...   \n106569    155316     22940  Live Performance      24357    training   \n106570    155317     22940  Live Performance      24357    training   \n106571    155318     22940  Live Performance      24357    training   \n106572    155319     22940  Live Performance      24357    training   \n106573    155320     22906             Album      21615  validation   \n\n       set_subset track_genre_top   track_genres   track_genres_all  \\\n0           small         Hip-Hop           [21]               [21]   \n1          medium         Hip-Hop           [21]               [21]   \n2           small         Hip-Hop           [21]               [21]   \n3           small             Pop           [10]               [10]   \n4           large             NaN      [76, 103]  [17, 10, 76, 103]   \n...           ...             ...            ...                ...   \n106569      large            Rock           [25]           [25, 12]   \n106570      large            Rock           [25]           [25, 12]   \n106571      large            Rock           [25]           [25, 12]   \n106572      large            Rock           [25]           [25, 12]   \n106573      large             NaN  [10, 12, 169]   [169, 10, 12, 9]   \n\n                                      track_title  \n0                                            Food  \n1                                    Electric Ave  \n2                                      This World  \n3                                         Freeway  \n4                                 Spiritual Level  \n...                                           ...  \n106569                                  The Auger  \n106570                            Let's Skin Ruby  \n106571         My House Smells Like Kim Deal/Pulp  \n106572                    The Man With Two Mouths  \n106573  Another Trick Up My Sleeve (Instrumental)  \n\n[106574 rows x 10 columns]",
      "text/html": "<div>\n<style scoped>\n    .dataframe tbody tr th:only-of-type {\n        vertical-align: middle;\n    }\n\n    .dataframe tbody tr th {\n        vertical-align: top;\n    }\n\n    .dataframe thead th {\n        text-align: right;\n    }\n</style>\n<table border=\"1\" class=\"dataframe\">\n  <thead>\n    <tr style=\"text-align: right;\">\n      <th></th>\n      <th>track_id</th>\n      <th>album_id</th>\n      <th>album_type</th>\n      <th>artist_id</th>\n      <th>set_split</th>\n      <th>set_subset</th>\n      <th>track_genre_top</th>\n      <th>track_genres</th>\n      <th>track_genres_all</th>\n      <th>track_title</th>\n    </tr>\n  </thead>\n  <tbody>\n    <tr>\n      <th>0</th>\n      <td>2</td>\n      <td>1</td>\n      <td>Album</td>\n      <td>1</td>\n      <td>training</td>\n      <td>small</td>\n      <td>Hip-Hop</td>\n      <td>[21]</td>\n      <td>[21]</td>\n      <td>Food</td>\n    </tr>\n    <tr>\n      <th>1</th>\n      <td>3</td>\n      <td>1</td>\n      <td>Album</td>\n      <td>1</td>\n      <td>training</td>\n      <td>medium</td>\n      <td>Hip-Hop</td>\n      <td>[21]</td>\n      <td>[21]</td>\n      <td>Electric Ave</td>\n    </tr>\n    <tr>\n      <th>2</th>\n      <td>5</td>\n      <td>1</td>\n      <td>Album</td>\n      <td>1</td>\n      <td>training</td>\n      <td>small</td>\n      <td>Hip-Hop</td>\n      <td>[21]</td>\n      <td>[21]</td>\n      <td>This World</td>\n    </tr>\n    <tr>\n      <th>3</th>\n      <td>10</td>\n      <td>6</td>\n      <td>Album</td>\n      <td>6</td>\n      <td>training</td>\n      <td>small</td>\n      <td>Pop</td>\n      <td>[10]</td>\n      <td>[10]</td>\n      <td>Freeway</td>\n    </tr>\n    <tr>\n      <th>4</th>\n      <td>20</td>\n      <td>4</td>\n      <td>Album</td>\n      <td>4</td>\n      <td>training</td>\n      <td>large</td>\n      <td>NaN</td>\n      <td>[76, 103]</td>\n      <td>[17, 10, 76, 103]</td>\n      <td>Spiritual Level</td>\n    </tr>\n    <tr>\n      <th>...</th>\n      <td>...</td>\n      <td>...</td>\n      <td>...</td>\n      <td>...</td>\n      <td>...</td>\n      <td>...</td>\n      <td>...</td>\n      <td>...</td>\n      <td>...</td>\n      <td>...</td>\n    </tr>\n    <tr>\n      <th>106569</th>\n      <td>155316</td>\n      <td>22940</td>\n      <td>Live Performance</td>\n      <td>24357</td>\n      <td>training</td>\n      <td>large</td>\n      <td>Rock</td>\n      <td>[25]</td>\n      <td>[25, 12]</td>\n      <td>The Auger</td>\n    </tr>\n    <tr>\n      <th>106570</th>\n      <td>155317</td>\n      <td>22940</td>\n      <td>Live Performance</td>\n      <td>24357</td>\n      <td>training</td>\n      <td>large</td>\n      <td>Rock</td>\n      <td>[25]</td>\n      <td>[25, 12]</td>\n      <td>Let's Skin Ruby</td>\n    </tr>\n    <tr>\n      <th>106571</th>\n      <td>155318</td>\n      <td>22940</td>\n      <td>Live Performance</td>\n      <td>24357</td>\n      <td>training</td>\n      <td>large</td>\n      <td>Rock</td>\n      <td>[25]</td>\n      <td>[25, 12]</td>\n      <td>My House Smells Like Kim Deal/Pulp</td>\n    </tr>\n    <tr>\n      <th>106572</th>\n      <td>155319</td>\n      <td>22940</td>\n      <td>Live Performance</td>\n      <td>24357</td>\n      <td>training</td>\n      <td>large</td>\n      <td>Rock</td>\n      <td>[25]</td>\n      <td>[25, 12]</td>\n      <td>The Man With Two Mouths</td>\n    </tr>\n    <tr>\n      <th>106573</th>\n      <td>155320</td>\n      <td>22906</td>\n      <td>Album</td>\n      <td>21615</td>\n      <td>validation</td>\n      <td>large</td>\n      <td>NaN</td>\n      <td>[10, 12, 169]</td>\n      <td>[169, 10, 12, 9]</td>\n      <td>Another Trick Up My Sleeve (Instrumental)</td>\n    </tr>\n  </tbody>\n</table>\n<p>106574 rows × 10 columns</p>\n</div>"
     },
     "execution_count": 13,
     "metadata": {},
     "output_type": "execute_result"
    }
   ],
   "source": [
    "track_data =  pd.read_csv(DATA_PATH+'/tracks.csv')\n",
    "track_data"
   ]
  },
  {
   "cell_type": "code",
   "execution_count": 14,
   "metadata": {
    "collapsed": false,
    "jupyter": {
     "outputs_hidden": false
    },
    "ExecuteTime": {
     "start_time": "2023-04-06T01:44:38.778234Z",
     "end_time": "2023-04-06T01:44:38.788076Z"
    }
   },
   "outputs": [],
   "source": [
    "small_data = track_data[track_data['set_subset']=='small']\n",
    "small_data_train = small_data[small_data['set_split']=='training']\n",
    "small_data_test = small_data[small_data['set_split']=='test']\n",
    "small_data_val = small_data[small_data['set_split']=='validation']\n",
    "\n",
    "small_data.to_csv(RAW_DATA_PATH+'/small_data.csv', index = False)\n",
    "small_data_train.to_csv(RAW_DATA_PATH+'/small_data_train.csv', index = False)\n",
    "small_data_test.to_csv(RAW_DATA_PATH+'/small_data_test.csv', index = False)\n",
    "small_data_val.to_csv(RAW_DATA_PATH+'/small_data_val.csv', index = False)"
   ]
  },
  {
   "cell_type": "code",
   "execution_count": 15,
   "metadata": {
    "ExecuteTime": {
     "start_time": "2023-04-06T01:44:38.783034Z",
     "end_time": "2023-04-06T01:44:38.788207Z"
    }
   },
   "outputs": [
    {
     "data": {
      "text/plain": "        track_id  album_id        album_type  artist_id set_split set_subset  \\\n0              2         1             Album          1  training      small   \n2              5         1             Album          1  training      small   \n3             10         6             Album          6  training      small   \n15           140        61             Album         54  training      small   \n16           141        60             Album         54  training      small   \n...          ...       ...               ...        ...       ...        ...   \n105713    154308     22780             Album      23208      test      small   \n105714    154309     22780             Album      23208      test      small   \n105815    154413     22789  Live Performance      24252  training      small   \n105816    154414     22789  Live Performance      24252  training      small   \n106385    155066     22899             Album      22573  training      small   \n\n       track_genre_top    track_genres track_genres_all  \\\n0              Hip-Hop            [21]             [21]   \n2              Hip-Hop            [21]             [21]   \n3                  Pop            [10]             [10]   \n15                Folk            [17]             [17]   \n16                Folk            [17]             [17]   \n...                ...             ...              ...   \n105713         Hip-Hop  [21, 539, 811]   [811, 539, 21]   \n105714         Hip-Hop  [21, 539, 811]   [811, 539, 21]   \n105815             Pop            [76]         [10, 76]   \n105816             Pop            [76]         [10, 76]   \n106385         Hip-Hop       [21, 811]        [811, 21]   \n\n                        track_title  \n0                              Food  \n2                        This World  \n3                           Freeway  \n15               Queen Of The Wires  \n16                             Ohio  \n...                             ...  \n105713                          MIA  \n105714                  A1 Symphony  \n105815                      Do Easy  \n105816  Dead Can Dance (uncensored)  \n106385                          Roy  \n\n[8000 rows x 10 columns]",
      "text/html": "<div>\n<style scoped>\n    .dataframe tbody tr th:only-of-type {\n        vertical-align: middle;\n    }\n\n    .dataframe tbody tr th {\n        vertical-align: top;\n    }\n\n    .dataframe thead th {\n        text-align: right;\n    }\n</style>\n<table border=\"1\" class=\"dataframe\">\n  <thead>\n    <tr style=\"text-align: right;\">\n      <th></th>\n      <th>track_id</th>\n      <th>album_id</th>\n      <th>album_type</th>\n      <th>artist_id</th>\n      <th>set_split</th>\n      <th>set_subset</th>\n      <th>track_genre_top</th>\n      <th>track_genres</th>\n      <th>track_genres_all</th>\n      <th>track_title</th>\n    </tr>\n  </thead>\n  <tbody>\n    <tr>\n      <th>0</th>\n      <td>2</td>\n      <td>1</td>\n      <td>Album</td>\n      <td>1</td>\n      <td>training</td>\n      <td>small</td>\n      <td>Hip-Hop</td>\n      <td>[21]</td>\n      <td>[21]</td>\n      <td>Food</td>\n    </tr>\n    <tr>\n      <th>2</th>\n      <td>5</td>\n      <td>1</td>\n      <td>Album</td>\n      <td>1</td>\n      <td>training</td>\n      <td>small</td>\n      <td>Hip-Hop</td>\n      <td>[21]</td>\n      <td>[21]</td>\n      <td>This World</td>\n    </tr>\n    <tr>\n      <th>3</th>\n      <td>10</td>\n      <td>6</td>\n      <td>Album</td>\n      <td>6</td>\n      <td>training</td>\n      <td>small</td>\n      <td>Pop</td>\n      <td>[10]</td>\n      <td>[10]</td>\n      <td>Freeway</td>\n    </tr>\n    <tr>\n      <th>15</th>\n      <td>140</td>\n      <td>61</td>\n      <td>Album</td>\n      <td>54</td>\n      <td>training</td>\n      <td>small</td>\n      <td>Folk</td>\n      <td>[17]</td>\n      <td>[17]</td>\n      <td>Queen Of The Wires</td>\n    </tr>\n    <tr>\n      <th>16</th>\n      <td>141</td>\n      <td>60</td>\n      <td>Album</td>\n      <td>54</td>\n      <td>training</td>\n      <td>small</td>\n      <td>Folk</td>\n      <td>[17]</td>\n      <td>[17]</td>\n      <td>Ohio</td>\n    </tr>\n    <tr>\n      <th>...</th>\n      <td>...</td>\n      <td>...</td>\n      <td>...</td>\n      <td>...</td>\n      <td>...</td>\n      <td>...</td>\n      <td>...</td>\n      <td>...</td>\n      <td>...</td>\n      <td>...</td>\n    </tr>\n    <tr>\n      <th>105713</th>\n      <td>154308</td>\n      <td>22780</td>\n      <td>Album</td>\n      <td>23208</td>\n      <td>test</td>\n      <td>small</td>\n      <td>Hip-Hop</td>\n      <td>[21, 539, 811]</td>\n      <td>[811, 539, 21]</td>\n      <td>MIA</td>\n    </tr>\n    <tr>\n      <th>105714</th>\n      <td>154309</td>\n      <td>22780</td>\n      <td>Album</td>\n      <td>23208</td>\n      <td>test</td>\n      <td>small</td>\n      <td>Hip-Hop</td>\n      <td>[21, 539, 811]</td>\n      <td>[811, 539, 21]</td>\n      <td>A1 Symphony</td>\n    </tr>\n    <tr>\n      <th>105815</th>\n      <td>154413</td>\n      <td>22789</td>\n      <td>Live Performance</td>\n      <td>24252</td>\n      <td>training</td>\n      <td>small</td>\n      <td>Pop</td>\n      <td>[76]</td>\n      <td>[10, 76]</td>\n      <td>Do Easy</td>\n    </tr>\n    <tr>\n      <th>105816</th>\n      <td>154414</td>\n      <td>22789</td>\n      <td>Live Performance</td>\n      <td>24252</td>\n      <td>training</td>\n      <td>small</td>\n      <td>Pop</td>\n      <td>[76]</td>\n      <td>[10, 76]</td>\n      <td>Dead Can Dance (uncensored)</td>\n    </tr>\n    <tr>\n      <th>106385</th>\n      <td>155066</td>\n      <td>22899</td>\n      <td>Album</td>\n      <td>22573</td>\n      <td>training</td>\n      <td>small</td>\n      <td>Hip-Hop</td>\n      <td>[21, 811]</td>\n      <td>[811, 21]</td>\n      <td>Roy</td>\n    </tr>\n  </tbody>\n</table>\n<p>8000 rows × 10 columns</p>\n</div>"
     },
     "execution_count": 15,
     "metadata": {},
     "output_type": "execute_result"
    }
   ],
   "source": [
    "small_data"
   ]
  },
  {
   "cell_type": "code",
   "execution_count": 16,
   "metadata": {
    "collapsed": false,
    "jupyter": {
     "outputs_hidden": false
    },
    "ExecuteTime": {
     "start_time": "2023-04-06T01:44:38.786752Z",
     "end_time": "2023-04-06T01:44:38.890338Z"
    }
   },
   "outputs": [],
   "source": [
    "medium_data = track_data[track_data['set_subset']!='large']\n",
    "medium_data_train = medium_data[medium_data['set_split']=='training']\n",
    "medium_data_test = medium_data[medium_data['set_split']=='test']\n",
    "medium_data_val = medium_data[medium_data['set_split']=='validation']\n",
    "\n",
    "medium_data.to_csv(RAW_DATA_PATH+'/medium_data.csv', index = False)\n",
    "medium_data_train.to_csv(RAW_DATA_PATH+'/medium_data_train.csv', index = False)\n",
    "medium_data_test.to_csv(RAW_DATA_PATH+'/medium_data_test.csv', index = False)\n",
    "medium_data_val.to_csv(RAW_DATA_PATH+'/medium_data_val.csv', index = False)\n",
    "\n",
    "#medium_data\n"
   ]
  },
  {
   "cell_type": "code",
   "execution_count": 17,
   "outputs": [],
   "source": [
    "# medium_all_data = track_data[track_data['set_subset'] !=\"large\"]\n",
    "# medium_all_data_train = medium_all_data[medium_all_data['set_split'] == 'training']\n",
    "# medium_all_data_test = medium_all_data[medium_all_data['set_split'] == 'test']\n",
    "# medium_all_data_val = medium_all_data[medium_all_data['set_split'] == 'validation']\n",
    "#\n",
    "# medium_all_data.to_csv(RAW_DATA_PATH + '/medium_all_data.csv', index=False)\n",
    "# medium_all_data_train.to_csv(RAW_DATA_PATH + '/medium_all_data_train.csv', index=False)\n",
    "# medium_all_data_test.to_csv(RAW_DATA_PATH + '/medium_all_data_test.csv', index=False)\n",
    "# medium_all_data_val.to_csv(RAW_DATA_PATH + '/medium_all_data_val.csv', index=False)\n",
    "# medium_all_data"
   ],
   "metadata": {
    "collapsed": false,
    "ExecuteTime": {
     "start_time": "2023-04-06T01:44:38.890922Z",
     "end_time": "2023-04-06T01:44:38.934827Z"
    }
   }
  },
  {
   "cell_type": "code",
   "execution_count": 20,
   "metadata": {
    "collapsed": false,
    "jupyter": {
     "outputs_hidden": false
    },
    "ExecuteTime": {
     "start_time": "2023-04-06T01:48:10.401848Z",
     "end_time": "2023-04-06T01:48:10.835803Z"
    }
   },
   "outputs": [
    {
     "data": {
      "text/plain": "        track_id  album_id        album_type  artist_id   set_split  \\\n0              2         1             Album          1    training   \n1              3         1             Album          1    training   \n2              5         1             Album          1    training   \n3             10         6             Album          6    training   \n4             20         4             Album          4    training   \n...          ...       ...               ...        ...         ...   \n106569    155316     22940  Live Performance      24357    training   \n106570    155317     22940  Live Performance      24357    training   \n106571    155318     22940  Live Performance      24357    training   \n106572    155319     22940  Live Performance      24357    training   \n106573    155320     22906             Album      21615  validation   \n\n       set_subset track_genre_top   track_genres   track_genres_all  \\\n0           small         Hip-Hop           [21]               [21]   \n1          medium         Hip-Hop           [21]               [21]   \n2           small         Hip-Hop           [21]               [21]   \n3           small             Pop           [10]               [10]   \n4           large             NaN      [76, 103]  [17, 10, 76, 103]   \n...           ...             ...            ...                ...   \n106569      large            Rock           [25]           [25, 12]   \n106570      large            Rock           [25]           [25, 12]   \n106571      large            Rock           [25]           [25, 12]   \n106572      large            Rock           [25]           [25, 12]   \n106573      large             NaN  [10, 12, 169]   [169, 10, 12, 9]   \n\n                                      track_title  \n0                                            Food  \n1                                    Electric Ave  \n2                                      This World  \n3                                         Freeway  \n4                                 Spiritual Level  \n...                                           ...  \n106569                                  The Auger  \n106570                            Let's Skin Ruby  \n106571         My House Smells Like Kim Deal/Pulp  \n106572                    The Man With Two Mouths  \n106573  Another Trick Up My Sleeve (Instrumental)  \n\n[106574 rows x 10 columns]",
      "text/html": "<div>\n<style scoped>\n    .dataframe tbody tr th:only-of-type {\n        vertical-align: middle;\n    }\n\n    .dataframe tbody tr th {\n        vertical-align: top;\n    }\n\n    .dataframe thead th {\n        text-align: right;\n    }\n</style>\n<table border=\"1\" class=\"dataframe\">\n  <thead>\n    <tr style=\"text-align: right;\">\n      <th></th>\n      <th>track_id</th>\n      <th>album_id</th>\n      <th>album_type</th>\n      <th>artist_id</th>\n      <th>set_split</th>\n      <th>set_subset</th>\n      <th>track_genre_top</th>\n      <th>track_genres</th>\n      <th>track_genres_all</th>\n      <th>track_title</th>\n    </tr>\n  </thead>\n  <tbody>\n    <tr>\n      <th>0</th>\n      <td>2</td>\n      <td>1</td>\n      <td>Album</td>\n      <td>1</td>\n      <td>training</td>\n      <td>small</td>\n      <td>Hip-Hop</td>\n      <td>[21]</td>\n      <td>[21]</td>\n      <td>Food</td>\n    </tr>\n    <tr>\n      <th>1</th>\n      <td>3</td>\n      <td>1</td>\n      <td>Album</td>\n      <td>1</td>\n      <td>training</td>\n      <td>medium</td>\n      <td>Hip-Hop</td>\n      <td>[21]</td>\n      <td>[21]</td>\n      <td>Electric Ave</td>\n    </tr>\n    <tr>\n      <th>2</th>\n      <td>5</td>\n      <td>1</td>\n      <td>Album</td>\n      <td>1</td>\n      <td>training</td>\n      <td>small</td>\n      <td>Hip-Hop</td>\n      <td>[21]</td>\n      <td>[21]</td>\n      <td>This World</td>\n    </tr>\n    <tr>\n      <th>3</th>\n      <td>10</td>\n      <td>6</td>\n      <td>Album</td>\n      <td>6</td>\n      <td>training</td>\n      <td>small</td>\n      <td>Pop</td>\n      <td>[10]</td>\n      <td>[10]</td>\n      <td>Freeway</td>\n    </tr>\n    <tr>\n      <th>4</th>\n      <td>20</td>\n      <td>4</td>\n      <td>Album</td>\n      <td>4</td>\n      <td>training</td>\n      <td>large</td>\n      <td>NaN</td>\n      <td>[76, 103]</td>\n      <td>[17, 10, 76, 103]</td>\n      <td>Spiritual Level</td>\n    </tr>\n    <tr>\n      <th>...</th>\n      <td>...</td>\n      <td>...</td>\n      <td>...</td>\n      <td>...</td>\n      <td>...</td>\n      <td>...</td>\n      <td>...</td>\n      <td>...</td>\n      <td>...</td>\n      <td>...</td>\n    </tr>\n    <tr>\n      <th>106569</th>\n      <td>155316</td>\n      <td>22940</td>\n      <td>Live Performance</td>\n      <td>24357</td>\n      <td>training</td>\n      <td>large</td>\n      <td>Rock</td>\n      <td>[25]</td>\n      <td>[25, 12]</td>\n      <td>The Auger</td>\n    </tr>\n    <tr>\n      <th>106570</th>\n      <td>155317</td>\n      <td>22940</td>\n      <td>Live Performance</td>\n      <td>24357</td>\n      <td>training</td>\n      <td>large</td>\n      <td>Rock</td>\n      <td>[25]</td>\n      <td>[25, 12]</td>\n      <td>Let's Skin Ruby</td>\n    </tr>\n    <tr>\n      <th>106571</th>\n      <td>155318</td>\n      <td>22940</td>\n      <td>Live Performance</td>\n      <td>24357</td>\n      <td>training</td>\n      <td>large</td>\n      <td>Rock</td>\n      <td>[25]</td>\n      <td>[25, 12]</td>\n      <td>My House Smells Like Kim Deal/Pulp</td>\n    </tr>\n    <tr>\n      <th>106572</th>\n      <td>155319</td>\n      <td>22940</td>\n      <td>Live Performance</td>\n      <td>24357</td>\n      <td>training</td>\n      <td>large</td>\n      <td>Rock</td>\n      <td>[25]</td>\n      <td>[25, 12]</td>\n      <td>The Man With Two Mouths</td>\n    </tr>\n    <tr>\n      <th>106573</th>\n      <td>155320</td>\n      <td>22906</td>\n      <td>Album</td>\n      <td>21615</td>\n      <td>validation</td>\n      <td>large</td>\n      <td>NaN</td>\n      <td>[10, 12, 169]</td>\n      <td>[169, 10, 12, 9]</td>\n      <td>Another Trick Up My Sleeve (Instrumental)</td>\n    </tr>\n  </tbody>\n</table>\n<p>106574 rows × 10 columns</p>\n</div>"
     },
     "execution_count": 20,
     "metadata": {},
     "output_type": "execute_result"
    }
   ],
   "source": [
    "large_data = track_data\n",
    "large_data_train = large_data[large_data['set_split']=='training']\n",
    "large_data_test = large_data[large_data['set_split']=='test']\n",
    "large_data_val = large_data[large_data['set_split']=='validation']\n",
    "\n",
    "large_data.to_csv(RAW_DATA_PATH+'/large_data.csv', index = False)\n",
    "large_data_train.to_csv(RAW_DATA_PATH+'/large_data_train.csv', index = False)\n",
    "large_data_test.to_csv(RAW_DATA_PATH+'/large_data_test.csv', index = False)\n",
    "large_data_val.to_csv(RAW_DATA_PATH+'/large_data_val.csv', index = False)\n",
    "large_data"
   ]
  },
  {
   "cell_type": "code",
   "execution_count": null,
   "outputs": [],
   "source": [
    "# large_all_data = track_data\n",
    "# large_all_data_train = large_all_data[large_all_data['set_split'] == 'training']\n",
    "# large_all_data_test = large_all_data[large_all_data['set_split'] == 'test']\n",
    "# large_all_data_val = large_all_data[large_all_data['set_split'] == 'validation']\n",
    "#\n",
    "# large_all_data.to_csv(RAW_DATA_PATH + '/large_all_data.csv', index=False)\n",
    "# large_all_data_train.to_csv(RAW_DATA_PATH + '/large_all_data_train.csv', index=False)\n",
    "# large_all_data_test.to_csv(RAW_DATA_PATH + '/large_all_data_test.csv', index=False)\n",
    "# large_all_data_val.to_csv(RAW_DATA_PATH + '/large_all_data_val.csv', index=False)\n",
    "# large_all_data"
   ],
   "metadata": {
    "collapsed": false,
    "ExecuteTime": {
     "start_time": "2023-04-05T00:17:37.714384Z",
     "end_time": "2023-04-05T00:17:38.093223Z"
    }
   }
  },
  {
   "cell_type": "code",
   "execution_count": null,
   "outputs": [],
   "source": [],
   "metadata": {
    "collapsed": false
   }
  },
  {
   "cell_type": "code",
   "execution_count": null,
   "outputs": [],
   "source": [],
   "metadata": {
    "collapsed": false
   }
  }
 ],
 "metadata": {
  "kernelspec": {
   "display_name": "Python 3",
   "language": "python",
   "name": "python3"
  },
  "language_info": {
   "codemirror_mode": {
    "name": "ipython",
    "version": 3
   },
   "file_extension": ".py",
   "mimetype": "text/x-python",
   "name": "python",
   "nbconvert_exporter": "python",
   "pygments_lexer": "ipython3",
   "version": "3.8.5"
  }
 },
 "nbformat": 4,
 "nbformat_minor": 4
}
